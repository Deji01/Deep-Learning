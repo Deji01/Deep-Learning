{
  "nbformat": 4,
  "nbformat_minor": 0,
  "metadata": {
    "colab": {
      "provenance": [],
      "authorship_tag": "ABX9TyMxmLpn2x+AteOjx0cPAGag",
      "include_colab_link": true
    },
    "kernelspec": {
      "name": "python3",
      "display_name": "Python 3"
    },
    "language_info": {
      "name": "python"
    },
    "accelerator": "GPU",
    "gpuClass": "standard",
    "widgets": {
      "application/vnd.jupyter.widget-state+json": {
        "d92bf13e4baa4b30898cb3cfc9c4a481": {
          "model_module": "@jupyter-widgets/controls",
          "model_name": "HBoxModel",
          "model_module_version": "1.5.0",
          "state": {
            "_dom_classes": [],
            "_model_module": "@jupyter-widgets/controls",
            "_model_module_version": "1.5.0",
            "_model_name": "HBoxModel",
            "_view_count": null,
            "_view_module": "@jupyter-widgets/controls",
            "_view_module_version": "1.5.0",
            "_view_name": "HBoxView",
            "box_style": "",
            "children": [
              "IPY_MODEL_4e5697ed97fd47339e7c51df62c9aa12",
              "IPY_MODEL_9ef175a8f67e4426afe8ff482801f9bd",
              "IPY_MODEL_32e6c51d5bdb4e9d8b95e5c1678d6d30"
            ],
            "layout": "IPY_MODEL_a56b44a90a4b423aa8a39f7a112b9ba8"
          }
        },
        "4e5697ed97fd47339e7c51df62c9aa12": {
          "model_module": "@jupyter-widgets/controls",
          "model_name": "HTMLModel",
          "model_module_version": "1.5.0",
          "state": {
            "_dom_classes": [],
            "_model_module": "@jupyter-widgets/controls",
            "_model_module_version": "1.5.0",
            "_model_name": "HTMLModel",
            "_view_count": null,
            "_view_module": "@jupyter-widgets/controls",
            "_view_module_version": "1.5.0",
            "_view_name": "HTMLView",
            "description": "",
            "description_tooltip": null,
            "layout": "IPY_MODEL_6847506da6c64111a6d78198d3af59bd",
            "placeholder": "​",
            "style": "IPY_MODEL_2ba7272b8bbf40ddae3d15cdb610cd21",
            "value": "100%"
          }
        },
        "9ef175a8f67e4426afe8ff482801f9bd": {
          "model_module": "@jupyter-widgets/controls",
          "model_name": "FloatProgressModel",
          "model_module_version": "1.5.0",
          "state": {
            "_dom_classes": [],
            "_model_module": "@jupyter-widgets/controls",
            "_model_module_version": "1.5.0",
            "_model_name": "FloatProgressModel",
            "_view_count": null,
            "_view_module": "@jupyter-widgets/controls",
            "_view_module_version": "1.5.0",
            "_view_name": "ProgressView",
            "bar_style": "success",
            "description": "",
            "description_tooltip": null,
            "layout": "IPY_MODEL_668c929544d3403083c245e4a86a4dba",
            "max": 36882185,
            "min": 0,
            "orientation": "horizontal",
            "style": "IPY_MODEL_5c2e3f68e06543cd8735ebed9739bce2",
            "value": 36882185
          }
        },
        "32e6c51d5bdb4e9d8b95e5c1678d6d30": {
          "model_module": "@jupyter-widgets/controls",
          "model_name": "HTMLModel",
          "model_module_version": "1.5.0",
          "state": {
            "_dom_classes": [],
            "_model_module": "@jupyter-widgets/controls",
            "_model_module_version": "1.5.0",
            "_model_name": "HTMLModel",
            "_view_count": null,
            "_view_module": "@jupyter-widgets/controls",
            "_view_module_version": "1.5.0",
            "_view_name": "HTMLView",
            "description": "",
            "description_tooltip": null,
            "layout": "IPY_MODEL_cf428e9072e045fa85b39a3fbb43f9fb",
            "placeholder": "​",
            "style": "IPY_MODEL_01b6062595164bd1bd4ee1944ccb7c08",
            "value": " 35.2M/35.2M [00:00&lt;00:00, 64.7MB/s]"
          }
        },
        "a56b44a90a4b423aa8a39f7a112b9ba8": {
          "model_module": "@jupyter-widgets/base",
          "model_name": "LayoutModel",
          "model_module_version": "1.2.0",
          "state": {
            "_model_module": "@jupyter-widgets/base",
            "_model_module_version": "1.2.0",
            "_model_name": "LayoutModel",
            "_view_count": null,
            "_view_module": "@jupyter-widgets/base",
            "_view_module_version": "1.2.0",
            "_view_name": "LayoutView",
            "align_content": null,
            "align_items": null,
            "align_self": null,
            "border": null,
            "bottom": null,
            "display": null,
            "flex": null,
            "flex_flow": null,
            "grid_area": null,
            "grid_auto_columns": null,
            "grid_auto_flow": null,
            "grid_auto_rows": null,
            "grid_column": null,
            "grid_gap": null,
            "grid_row": null,
            "grid_template_areas": null,
            "grid_template_columns": null,
            "grid_template_rows": null,
            "height": null,
            "justify_content": null,
            "justify_items": null,
            "left": null,
            "margin": null,
            "max_height": null,
            "max_width": null,
            "min_height": null,
            "min_width": null,
            "object_fit": null,
            "object_position": null,
            "order": null,
            "overflow": null,
            "overflow_x": null,
            "overflow_y": null,
            "padding": null,
            "right": null,
            "top": null,
            "visibility": null,
            "width": null
          }
        },
        "6847506da6c64111a6d78198d3af59bd": {
          "model_module": "@jupyter-widgets/base",
          "model_name": "LayoutModel",
          "model_module_version": "1.2.0",
          "state": {
            "_model_module": "@jupyter-widgets/base",
            "_model_module_version": "1.2.0",
            "_model_name": "LayoutModel",
            "_view_count": null,
            "_view_module": "@jupyter-widgets/base",
            "_view_module_version": "1.2.0",
            "_view_name": "LayoutView",
            "align_content": null,
            "align_items": null,
            "align_self": null,
            "border": null,
            "bottom": null,
            "display": null,
            "flex": null,
            "flex_flow": null,
            "grid_area": null,
            "grid_auto_columns": null,
            "grid_auto_flow": null,
            "grid_auto_rows": null,
            "grid_column": null,
            "grid_gap": null,
            "grid_row": null,
            "grid_template_areas": null,
            "grid_template_columns": null,
            "grid_template_rows": null,
            "height": null,
            "justify_content": null,
            "justify_items": null,
            "left": null,
            "margin": null,
            "max_height": null,
            "max_width": null,
            "min_height": null,
            "min_width": null,
            "object_fit": null,
            "object_position": null,
            "order": null,
            "overflow": null,
            "overflow_x": null,
            "overflow_y": null,
            "padding": null,
            "right": null,
            "top": null,
            "visibility": null,
            "width": null
          }
        },
        "2ba7272b8bbf40ddae3d15cdb610cd21": {
          "model_module": "@jupyter-widgets/controls",
          "model_name": "DescriptionStyleModel",
          "model_module_version": "1.5.0",
          "state": {
            "_model_module": "@jupyter-widgets/controls",
            "_model_module_version": "1.5.0",
            "_model_name": "DescriptionStyleModel",
            "_view_count": null,
            "_view_module": "@jupyter-widgets/base",
            "_view_module_version": "1.2.0",
            "_view_name": "StyleView",
            "description_width": ""
          }
        },
        "668c929544d3403083c245e4a86a4dba": {
          "model_module": "@jupyter-widgets/base",
          "model_name": "LayoutModel",
          "model_module_version": "1.2.0",
          "state": {
            "_model_module": "@jupyter-widgets/base",
            "_model_module_version": "1.2.0",
            "_model_name": "LayoutModel",
            "_view_count": null,
            "_view_module": "@jupyter-widgets/base",
            "_view_module_version": "1.2.0",
            "_view_name": "LayoutView",
            "align_content": null,
            "align_items": null,
            "align_self": null,
            "border": null,
            "bottom": null,
            "display": null,
            "flex": null,
            "flex_flow": null,
            "grid_area": null,
            "grid_auto_columns": null,
            "grid_auto_flow": null,
            "grid_auto_rows": null,
            "grid_column": null,
            "grid_gap": null,
            "grid_row": null,
            "grid_template_areas": null,
            "grid_template_columns": null,
            "grid_template_rows": null,
            "height": null,
            "justify_content": null,
            "justify_items": null,
            "left": null,
            "margin": null,
            "max_height": null,
            "max_width": null,
            "min_height": null,
            "min_width": null,
            "object_fit": null,
            "object_position": null,
            "order": null,
            "overflow": null,
            "overflow_x": null,
            "overflow_y": null,
            "padding": null,
            "right": null,
            "top": null,
            "visibility": null,
            "width": null
          }
        },
        "5c2e3f68e06543cd8735ebed9739bce2": {
          "model_module": "@jupyter-widgets/controls",
          "model_name": "ProgressStyleModel",
          "model_module_version": "1.5.0",
          "state": {
            "_model_module": "@jupyter-widgets/controls",
            "_model_module_version": "1.5.0",
            "_model_name": "ProgressStyleModel",
            "_view_count": null,
            "_view_module": "@jupyter-widgets/base",
            "_view_module_version": "1.2.0",
            "_view_name": "StyleView",
            "bar_color": null,
            "description_width": ""
          }
        },
        "cf428e9072e045fa85b39a3fbb43f9fb": {
          "model_module": "@jupyter-widgets/base",
          "model_name": "LayoutModel",
          "model_module_version": "1.2.0",
          "state": {
            "_model_module": "@jupyter-widgets/base",
            "_model_module_version": "1.2.0",
            "_model_name": "LayoutModel",
            "_view_count": null,
            "_view_module": "@jupyter-widgets/base",
            "_view_module_version": "1.2.0",
            "_view_name": "LayoutView",
            "align_content": null,
            "align_items": null,
            "align_self": null,
            "border": null,
            "bottom": null,
            "display": null,
            "flex": null,
            "flex_flow": null,
            "grid_area": null,
            "grid_auto_columns": null,
            "grid_auto_flow": null,
            "grid_auto_rows": null,
            "grid_column": null,
            "grid_gap": null,
            "grid_row": null,
            "grid_template_areas": null,
            "grid_template_columns": null,
            "grid_template_rows": null,
            "height": null,
            "justify_content": null,
            "justify_items": null,
            "left": null,
            "margin": null,
            "max_height": null,
            "max_width": null,
            "min_height": null,
            "min_width": null,
            "object_fit": null,
            "object_position": null,
            "order": null,
            "overflow": null,
            "overflow_x": null,
            "overflow_y": null,
            "padding": null,
            "right": null,
            "top": null,
            "visibility": null,
            "width": null
          }
        },
        "01b6062595164bd1bd4ee1944ccb7c08": {
          "model_module": "@jupyter-widgets/controls",
          "model_name": "DescriptionStyleModel",
          "model_module_version": "1.5.0",
          "state": {
            "_model_module": "@jupyter-widgets/controls",
            "_model_module_version": "1.5.0",
            "_model_name": "DescriptionStyleModel",
            "_view_count": null,
            "_view_module": "@jupyter-widgets/base",
            "_view_module_version": "1.2.0",
            "_view_name": "StyleView",
            "description_width": ""
          }
        },
        "b594db3420c54052b69f214ee8231d96": {
          "model_module": "@jupyter-widgets/controls",
          "model_name": "HBoxModel",
          "model_module_version": "1.5.0",
          "state": {
            "_dom_classes": [],
            "_model_module": "@jupyter-widgets/controls",
            "_model_module_version": "1.5.0",
            "_model_name": "HBoxModel",
            "_view_count": null,
            "_view_module": "@jupyter-widgets/controls",
            "_view_module_version": "1.5.0",
            "_view_name": "HBoxView",
            "box_style": "",
            "children": [
              "IPY_MODEL_5a36e8b7f79441f193926209a24e3597",
              "IPY_MODEL_d7d85654ceb74012b371baad09d06ff3",
              "IPY_MODEL_c592d36950d74b2cb6d049d3557e3175"
            ],
            "layout": "IPY_MODEL_c0c92e4375e9462f9fa058d7ce809c3b"
          }
        },
        "5a36e8b7f79441f193926209a24e3597": {
          "model_module": "@jupyter-widgets/controls",
          "model_name": "HTMLModel",
          "model_module_version": "1.5.0",
          "state": {
            "_dom_classes": [],
            "_model_module": "@jupyter-widgets/controls",
            "_model_module_version": "1.5.0",
            "_model_name": "HTMLModel",
            "_view_count": null,
            "_view_module": "@jupyter-widgets/controls",
            "_view_module_version": "1.5.0",
            "_view_name": "HTMLView",
            "description": "",
            "description_tooltip": null,
            "layout": "IPY_MODEL_b126dd3b3a714dd68fe69333ba78cf8a",
            "placeholder": "​",
            "style": "IPY_MODEL_06621bc6fc214decaefa15aab7d163e0",
            "value": "100%"
          }
        },
        "d7d85654ceb74012b371baad09d06ff3": {
          "model_module": "@jupyter-widgets/controls",
          "model_name": "FloatProgressModel",
          "model_module_version": "1.5.0",
          "state": {
            "_dom_classes": [],
            "_model_module": "@jupyter-widgets/controls",
            "_model_module_version": "1.5.0",
            "_model_name": "FloatProgressModel",
            "_view_count": null,
            "_view_module": "@jupyter-widgets/controls",
            "_view_module_version": "1.5.0",
            "_view_name": "ProgressView",
            "bar_style": "success",
            "description": "",
            "description_tooltip": null,
            "layout": "IPY_MODEL_0aa192fc6bfb400ebf4de34f6e205f35",
            "max": 10,
            "min": 0,
            "orientation": "horizontal",
            "style": "IPY_MODEL_15866fcb8bea43a682531c9e6160c487",
            "value": 10
          }
        },
        "c592d36950d74b2cb6d049d3557e3175": {
          "model_module": "@jupyter-widgets/controls",
          "model_name": "HTMLModel",
          "model_module_version": "1.5.0",
          "state": {
            "_dom_classes": [],
            "_model_module": "@jupyter-widgets/controls",
            "_model_module_version": "1.5.0",
            "_model_name": "HTMLModel",
            "_view_count": null,
            "_view_module": "@jupyter-widgets/controls",
            "_view_module_version": "1.5.0",
            "_view_name": "HTMLView",
            "description": "",
            "description_tooltip": null,
            "layout": "IPY_MODEL_763475a57edc4f91a8482193f6b536ab",
            "placeholder": "​",
            "style": "IPY_MODEL_2f9712dec327412784d3b4344bb6321e",
            "value": " 10/10 [01:08&lt;00:00,  6.91s/it]"
          }
        },
        "c0c92e4375e9462f9fa058d7ce809c3b": {
          "model_module": "@jupyter-widgets/base",
          "model_name": "LayoutModel",
          "model_module_version": "1.2.0",
          "state": {
            "_model_module": "@jupyter-widgets/base",
            "_model_module_version": "1.2.0",
            "_model_name": "LayoutModel",
            "_view_count": null,
            "_view_module": "@jupyter-widgets/base",
            "_view_module_version": "1.2.0",
            "_view_name": "LayoutView",
            "align_content": null,
            "align_items": null,
            "align_self": null,
            "border": null,
            "bottom": null,
            "display": null,
            "flex": null,
            "flex_flow": null,
            "grid_area": null,
            "grid_auto_columns": null,
            "grid_auto_flow": null,
            "grid_auto_rows": null,
            "grid_column": null,
            "grid_gap": null,
            "grid_row": null,
            "grid_template_areas": null,
            "grid_template_columns": null,
            "grid_template_rows": null,
            "height": null,
            "justify_content": null,
            "justify_items": null,
            "left": null,
            "margin": null,
            "max_height": null,
            "max_width": null,
            "min_height": null,
            "min_width": null,
            "object_fit": null,
            "object_position": null,
            "order": null,
            "overflow": null,
            "overflow_x": null,
            "overflow_y": null,
            "padding": null,
            "right": null,
            "top": null,
            "visibility": null,
            "width": null
          }
        },
        "b126dd3b3a714dd68fe69333ba78cf8a": {
          "model_module": "@jupyter-widgets/base",
          "model_name": "LayoutModel",
          "model_module_version": "1.2.0",
          "state": {
            "_model_module": "@jupyter-widgets/base",
            "_model_module_version": "1.2.0",
            "_model_name": "LayoutModel",
            "_view_count": null,
            "_view_module": "@jupyter-widgets/base",
            "_view_module_version": "1.2.0",
            "_view_name": "LayoutView",
            "align_content": null,
            "align_items": null,
            "align_self": null,
            "border": null,
            "bottom": null,
            "display": null,
            "flex": null,
            "flex_flow": null,
            "grid_area": null,
            "grid_auto_columns": null,
            "grid_auto_flow": null,
            "grid_auto_rows": null,
            "grid_column": null,
            "grid_gap": null,
            "grid_row": null,
            "grid_template_areas": null,
            "grid_template_columns": null,
            "grid_template_rows": null,
            "height": null,
            "justify_content": null,
            "justify_items": null,
            "left": null,
            "margin": null,
            "max_height": null,
            "max_width": null,
            "min_height": null,
            "min_width": null,
            "object_fit": null,
            "object_position": null,
            "order": null,
            "overflow": null,
            "overflow_x": null,
            "overflow_y": null,
            "padding": null,
            "right": null,
            "top": null,
            "visibility": null,
            "width": null
          }
        },
        "06621bc6fc214decaefa15aab7d163e0": {
          "model_module": "@jupyter-widgets/controls",
          "model_name": "DescriptionStyleModel",
          "model_module_version": "1.5.0",
          "state": {
            "_model_module": "@jupyter-widgets/controls",
            "_model_module_version": "1.5.0",
            "_model_name": "DescriptionStyleModel",
            "_view_count": null,
            "_view_module": "@jupyter-widgets/base",
            "_view_module_version": "1.2.0",
            "_view_name": "StyleView",
            "description_width": ""
          }
        },
        "0aa192fc6bfb400ebf4de34f6e205f35": {
          "model_module": "@jupyter-widgets/base",
          "model_name": "LayoutModel",
          "model_module_version": "1.2.0",
          "state": {
            "_model_module": "@jupyter-widgets/base",
            "_model_module_version": "1.2.0",
            "_model_name": "LayoutModel",
            "_view_count": null,
            "_view_module": "@jupyter-widgets/base",
            "_view_module_version": "1.2.0",
            "_view_name": "LayoutView",
            "align_content": null,
            "align_items": null,
            "align_self": null,
            "border": null,
            "bottom": null,
            "display": null,
            "flex": null,
            "flex_flow": null,
            "grid_area": null,
            "grid_auto_columns": null,
            "grid_auto_flow": null,
            "grid_auto_rows": null,
            "grid_column": null,
            "grid_gap": null,
            "grid_row": null,
            "grid_template_areas": null,
            "grid_template_columns": null,
            "grid_template_rows": null,
            "height": null,
            "justify_content": null,
            "justify_items": null,
            "left": null,
            "margin": null,
            "max_height": null,
            "max_width": null,
            "min_height": null,
            "min_width": null,
            "object_fit": null,
            "object_position": null,
            "order": null,
            "overflow": null,
            "overflow_x": null,
            "overflow_y": null,
            "padding": null,
            "right": null,
            "top": null,
            "visibility": null,
            "width": null
          }
        },
        "15866fcb8bea43a682531c9e6160c487": {
          "model_module": "@jupyter-widgets/controls",
          "model_name": "ProgressStyleModel",
          "model_module_version": "1.5.0",
          "state": {
            "_model_module": "@jupyter-widgets/controls",
            "_model_module_version": "1.5.0",
            "_model_name": "ProgressStyleModel",
            "_view_count": null,
            "_view_module": "@jupyter-widgets/base",
            "_view_module_version": "1.2.0",
            "_view_name": "StyleView",
            "bar_color": null,
            "description_width": ""
          }
        },
        "763475a57edc4f91a8482193f6b536ab": {
          "model_module": "@jupyter-widgets/base",
          "model_name": "LayoutModel",
          "model_module_version": "1.2.0",
          "state": {
            "_model_module": "@jupyter-widgets/base",
            "_model_module_version": "1.2.0",
            "_model_name": "LayoutModel",
            "_view_count": null,
            "_view_module": "@jupyter-widgets/base",
            "_view_module_version": "1.2.0",
            "_view_name": "LayoutView",
            "align_content": null,
            "align_items": null,
            "align_self": null,
            "border": null,
            "bottom": null,
            "display": null,
            "flex": null,
            "flex_flow": null,
            "grid_area": null,
            "grid_auto_columns": null,
            "grid_auto_flow": null,
            "grid_auto_rows": null,
            "grid_column": null,
            "grid_gap": null,
            "grid_row": null,
            "grid_template_areas": null,
            "grid_template_columns": null,
            "grid_template_rows": null,
            "height": null,
            "justify_content": null,
            "justify_items": null,
            "left": null,
            "margin": null,
            "max_height": null,
            "max_width": null,
            "min_height": null,
            "min_width": null,
            "object_fit": null,
            "object_position": null,
            "order": null,
            "overflow": null,
            "overflow_x": null,
            "overflow_y": null,
            "padding": null,
            "right": null,
            "top": null,
            "visibility": null,
            "width": null
          }
        },
        "2f9712dec327412784d3b4344bb6321e": {
          "model_module": "@jupyter-widgets/controls",
          "model_name": "DescriptionStyleModel",
          "model_module_version": "1.5.0",
          "state": {
            "_model_module": "@jupyter-widgets/controls",
            "_model_module_version": "1.5.0",
            "_model_name": "DescriptionStyleModel",
            "_view_count": null,
            "_view_module": "@jupyter-widgets/base",
            "_view_module_version": "1.2.0",
            "_view_name": "StyleView",
            "description_width": ""
          }
        },
        "6bab152d1290493695030e26b5674ee0": {
          "model_module": "@jupyter-widgets/controls",
          "model_name": "HBoxModel",
          "model_module_version": "1.5.0",
          "state": {
            "_dom_classes": [],
            "_model_module": "@jupyter-widgets/controls",
            "_model_module_version": "1.5.0",
            "_model_name": "HBoxModel",
            "_view_count": null,
            "_view_module": "@jupyter-widgets/controls",
            "_view_module_version": "1.5.0",
            "_view_name": "HBoxView",
            "box_style": "",
            "children": [
              "IPY_MODEL_9f49fdb9cdd549b08f85a7995858479f",
              "IPY_MODEL_6b78c3d0c3b644c5be2e368bb1f58d5b",
              "IPY_MODEL_2962d0aa7de948c982272ee9cf4b55ae"
            ],
            "layout": "IPY_MODEL_5c75a450058f450eb67f0c853a6b4959"
          }
        },
        "9f49fdb9cdd549b08f85a7995858479f": {
          "model_module": "@jupyter-widgets/controls",
          "model_name": "HTMLModel",
          "model_module_version": "1.5.0",
          "state": {
            "_dom_classes": [],
            "_model_module": "@jupyter-widgets/controls",
            "_model_module_version": "1.5.0",
            "_model_name": "HTMLModel",
            "_view_count": null,
            "_view_module": "@jupyter-widgets/controls",
            "_view_module_version": "1.5.0",
            "_view_name": "HTMLView",
            "description": "",
            "description_tooltip": null,
            "layout": "IPY_MODEL_8445e15e225b40d1adbec32029e3dabb",
            "placeholder": "​",
            "style": "IPY_MODEL_ba219557f1254951afb89e2e4b95a628",
            "value": "100%"
          }
        },
        "6b78c3d0c3b644c5be2e368bb1f58d5b": {
          "model_module": "@jupyter-widgets/controls",
          "model_name": "FloatProgressModel",
          "model_module_version": "1.5.0",
          "state": {
            "_dom_classes": [],
            "_model_module": "@jupyter-widgets/controls",
            "_model_module_version": "1.5.0",
            "_model_name": "FloatProgressModel",
            "_view_count": null,
            "_view_module": "@jupyter-widgets/controls",
            "_view_module_version": "1.5.0",
            "_view_name": "ProgressView",
            "bar_style": "success",
            "description": "",
            "description_tooltip": null,
            "layout": "IPY_MODEL_890b8bc6274a4fe8a1ce16f5603c0d13",
            "max": 346328529,
            "min": 0,
            "orientation": "horizontal",
            "style": "IPY_MODEL_f62c3823b64d43e6816977539360da50",
            "value": 346328529
          }
        },
        "2962d0aa7de948c982272ee9cf4b55ae": {
          "model_module": "@jupyter-widgets/controls",
          "model_name": "HTMLModel",
          "model_module_version": "1.5.0",
          "state": {
            "_dom_classes": [],
            "_model_module": "@jupyter-widgets/controls",
            "_model_module_version": "1.5.0",
            "_model_name": "HTMLModel",
            "_view_count": null,
            "_view_module": "@jupyter-widgets/controls",
            "_view_module_version": "1.5.0",
            "_view_name": "HTMLView",
            "description": "",
            "description_tooltip": null,
            "layout": "IPY_MODEL_67bfcd0af31f4c75b99c0cbc7d40e243",
            "placeholder": "​",
            "style": "IPY_MODEL_6e4e0423b90c4b8a9224855d0a3b37db",
            "value": " 330M/330M [00:03&lt;00:00, 104MB/s]"
          }
        },
        "5c75a450058f450eb67f0c853a6b4959": {
          "model_module": "@jupyter-widgets/base",
          "model_name": "LayoutModel",
          "model_module_version": "1.2.0",
          "state": {
            "_model_module": "@jupyter-widgets/base",
            "_model_module_version": "1.2.0",
            "_model_name": "LayoutModel",
            "_view_count": null,
            "_view_module": "@jupyter-widgets/base",
            "_view_module_version": "1.2.0",
            "_view_name": "LayoutView",
            "align_content": null,
            "align_items": null,
            "align_self": null,
            "border": null,
            "bottom": null,
            "display": null,
            "flex": null,
            "flex_flow": null,
            "grid_area": null,
            "grid_auto_columns": null,
            "grid_auto_flow": null,
            "grid_auto_rows": null,
            "grid_column": null,
            "grid_gap": null,
            "grid_row": null,
            "grid_template_areas": null,
            "grid_template_columns": null,
            "grid_template_rows": null,
            "height": null,
            "justify_content": null,
            "justify_items": null,
            "left": null,
            "margin": null,
            "max_height": null,
            "max_width": null,
            "min_height": null,
            "min_width": null,
            "object_fit": null,
            "object_position": null,
            "order": null,
            "overflow": null,
            "overflow_x": null,
            "overflow_y": null,
            "padding": null,
            "right": null,
            "top": null,
            "visibility": null,
            "width": null
          }
        },
        "8445e15e225b40d1adbec32029e3dabb": {
          "model_module": "@jupyter-widgets/base",
          "model_name": "LayoutModel",
          "model_module_version": "1.2.0",
          "state": {
            "_model_module": "@jupyter-widgets/base",
            "_model_module_version": "1.2.0",
            "_model_name": "LayoutModel",
            "_view_count": null,
            "_view_module": "@jupyter-widgets/base",
            "_view_module_version": "1.2.0",
            "_view_name": "LayoutView",
            "align_content": null,
            "align_items": null,
            "align_self": null,
            "border": null,
            "bottom": null,
            "display": null,
            "flex": null,
            "flex_flow": null,
            "grid_area": null,
            "grid_auto_columns": null,
            "grid_auto_flow": null,
            "grid_auto_rows": null,
            "grid_column": null,
            "grid_gap": null,
            "grid_row": null,
            "grid_template_areas": null,
            "grid_template_columns": null,
            "grid_template_rows": null,
            "height": null,
            "justify_content": null,
            "justify_items": null,
            "left": null,
            "margin": null,
            "max_height": null,
            "max_width": null,
            "min_height": null,
            "min_width": null,
            "object_fit": null,
            "object_position": null,
            "order": null,
            "overflow": null,
            "overflow_x": null,
            "overflow_y": null,
            "padding": null,
            "right": null,
            "top": null,
            "visibility": null,
            "width": null
          }
        },
        "ba219557f1254951afb89e2e4b95a628": {
          "model_module": "@jupyter-widgets/controls",
          "model_name": "DescriptionStyleModel",
          "model_module_version": "1.5.0",
          "state": {
            "_model_module": "@jupyter-widgets/controls",
            "_model_module_version": "1.5.0",
            "_model_name": "DescriptionStyleModel",
            "_view_count": null,
            "_view_module": "@jupyter-widgets/base",
            "_view_module_version": "1.2.0",
            "_view_name": "StyleView",
            "description_width": ""
          }
        },
        "890b8bc6274a4fe8a1ce16f5603c0d13": {
          "model_module": "@jupyter-widgets/base",
          "model_name": "LayoutModel",
          "model_module_version": "1.2.0",
          "state": {
            "_model_module": "@jupyter-widgets/base",
            "_model_module_version": "1.2.0",
            "_model_name": "LayoutModel",
            "_view_count": null,
            "_view_module": "@jupyter-widgets/base",
            "_view_module_version": "1.2.0",
            "_view_name": "LayoutView",
            "align_content": null,
            "align_items": null,
            "align_self": null,
            "border": null,
            "bottom": null,
            "display": null,
            "flex": null,
            "flex_flow": null,
            "grid_area": null,
            "grid_auto_columns": null,
            "grid_auto_flow": null,
            "grid_auto_rows": null,
            "grid_column": null,
            "grid_gap": null,
            "grid_row": null,
            "grid_template_areas": null,
            "grid_template_columns": null,
            "grid_template_rows": null,
            "height": null,
            "justify_content": null,
            "justify_items": null,
            "left": null,
            "margin": null,
            "max_height": null,
            "max_width": null,
            "min_height": null,
            "min_width": null,
            "object_fit": null,
            "object_position": null,
            "order": null,
            "overflow": null,
            "overflow_x": null,
            "overflow_y": null,
            "padding": null,
            "right": null,
            "top": null,
            "visibility": null,
            "width": null
          }
        },
        "f62c3823b64d43e6816977539360da50": {
          "model_module": "@jupyter-widgets/controls",
          "model_name": "ProgressStyleModel",
          "model_module_version": "1.5.0",
          "state": {
            "_model_module": "@jupyter-widgets/controls",
            "_model_module_version": "1.5.0",
            "_model_name": "ProgressStyleModel",
            "_view_count": null,
            "_view_module": "@jupyter-widgets/base",
            "_view_module_version": "1.2.0",
            "_view_name": "StyleView",
            "bar_color": null,
            "description_width": ""
          }
        },
        "67bfcd0af31f4c75b99c0cbc7d40e243": {
          "model_module": "@jupyter-widgets/base",
          "model_name": "LayoutModel",
          "model_module_version": "1.2.0",
          "state": {
            "_model_module": "@jupyter-widgets/base",
            "_model_module_version": "1.2.0",
            "_model_name": "LayoutModel",
            "_view_count": null,
            "_view_module": "@jupyter-widgets/base",
            "_view_module_version": "1.2.0",
            "_view_name": "LayoutView",
            "align_content": null,
            "align_items": null,
            "align_self": null,
            "border": null,
            "bottom": null,
            "display": null,
            "flex": null,
            "flex_flow": null,
            "grid_area": null,
            "grid_auto_columns": null,
            "grid_auto_flow": null,
            "grid_auto_rows": null,
            "grid_column": null,
            "grid_gap": null,
            "grid_row": null,
            "grid_template_areas": null,
            "grid_template_columns": null,
            "grid_template_rows": null,
            "height": null,
            "justify_content": null,
            "justify_items": null,
            "left": null,
            "margin": null,
            "max_height": null,
            "max_width": null,
            "min_height": null,
            "min_width": null,
            "object_fit": null,
            "object_position": null,
            "order": null,
            "overflow": null,
            "overflow_x": null,
            "overflow_y": null,
            "padding": null,
            "right": null,
            "top": null,
            "visibility": null,
            "width": null
          }
        },
        "6e4e0423b90c4b8a9224855d0a3b37db": {
          "model_module": "@jupyter-widgets/controls",
          "model_name": "DescriptionStyleModel",
          "model_module_version": "1.5.0",
          "state": {
            "_model_module": "@jupyter-widgets/controls",
            "_model_module_version": "1.5.0",
            "_model_name": "DescriptionStyleModel",
            "_view_count": null,
            "_view_module": "@jupyter-widgets/base",
            "_view_module_version": "1.2.0",
            "_view_name": "StyleView",
            "description_width": ""
          }
        },
        "3306df18860a4759b7160e2b99f9e9f5": {
          "model_module": "@jupyter-widgets/controls",
          "model_name": "HBoxModel",
          "model_module_version": "1.5.0",
          "state": {
            "_dom_classes": [],
            "_model_module": "@jupyter-widgets/controls",
            "_model_module_version": "1.5.0",
            "_model_name": "HBoxModel",
            "_view_count": null,
            "_view_module": "@jupyter-widgets/controls",
            "_view_module_version": "1.5.0",
            "_view_name": "HBoxView",
            "box_style": "",
            "children": [
              "IPY_MODEL_f89f0061cb4a45fca682bae26f24b132",
              "IPY_MODEL_a8d882fe0fbb4d7b8ce1548655766768",
              "IPY_MODEL_8ee9ed59a57c42f7aa0f7e0054d12096"
            ],
            "layout": "IPY_MODEL_9b0981db9bec46e28e5764dbc77bbe52"
          }
        },
        "f89f0061cb4a45fca682bae26f24b132": {
          "model_module": "@jupyter-widgets/controls",
          "model_name": "HTMLModel",
          "model_module_version": "1.5.0",
          "state": {
            "_dom_classes": [],
            "_model_module": "@jupyter-widgets/controls",
            "_model_module_version": "1.5.0",
            "_model_name": "HTMLModel",
            "_view_count": null,
            "_view_module": "@jupyter-widgets/controls",
            "_view_module_version": "1.5.0",
            "_view_name": "HTMLView",
            "description": "",
            "description_tooltip": null,
            "layout": "IPY_MODEL_0f9cb3eecada4a2f8d246027b163ac96",
            "placeholder": "​",
            "style": "IPY_MODEL_837da5b582514a1d8b1d3643e78cbab3",
            "value": "100%"
          }
        },
        "a8d882fe0fbb4d7b8ce1548655766768": {
          "model_module": "@jupyter-widgets/controls",
          "model_name": "FloatProgressModel",
          "model_module_version": "1.5.0",
          "state": {
            "_dom_classes": [],
            "_model_module": "@jupyter-widgets/controls",
            "_model_module_version": "1.5.0",
            "_model_name": "FloatProgressModel",
            "_view_count": null,
            "_view_module": "@jupyter-widgets/controls",
            "_view_module_version": "1.5.0",
            "_view_name": "ProgressView",
            "bar_style": "success",
            "description": "",
            "description_tooltip": null,
            "layout": "IPY_MODEL_5a8cac0ec0ec440fa652c80769652877",
            "max": 10,
            "min": 0,
            "orientation": "horizontal",
            "style": "IPY_MODEL_205e8bd3e94e45cf814b5cb55f0764ed",
            "value": 10
          }
        },
        "8ee9ed59a57c42f7aa0f7e0054d12096": {
          "model_module": "@jupyter-widgets/controls",
          "model_name": "HTMLModel",
          "model_module_version": "1.5.0",
          "state": {
            "_dom_classes": [],
            "_model_module": "@jupyter-widgets/controls",
            "_model_module_version": "1.5.0",
            "_model_name": "HTMLModel",
            "_view_count": null,
            "_view_module": "@jupyter-widgets/controls",
            "_view_module_version": "1.5.0",
            "_view_name": "HTMLView",
            "description": "",
            "description_tooltip": null,
            "layout": "IPY_MODEL_95b17f0109d5433bbe4c2f998869debf",
            "placeholder": "​",
            "style": "IPY_MODEL_4011800831de49c79449ccb70edf64c9",
            "value": " 10/10 [01:24&lt;00:00,  8.58s/it]"
          }
        },
        "9b0981db9bec46e28e5764dbc77bbe52": {
          "model_module": "@jupyter-widgets/base",
          "model_name": "LayoutModel",
          "model_module_version": "1.2.0",
          "state": {
            "_model_module": "@jupyter-widgets/base",
            "_model_module_version": "1.2.0",
            "_model_name": "LayoutModel",
            "_view_count": null,
            "_view_module": "@jupyter-widgets/base",
            "_view_module_version": "1.2.0",
            "_view_name": "LayoutView",
            "align_content": null,
            "align_items": null,
            "align_self": null,
            "border": null,
            "bottom": null,
            "display": null,
            "flex": null,
            "flex_flow": null,
            "grid_area": null,
            "grid_auto_columns": null,
            "grid_auto_flow": null,
            "grid_auto_rows": null,
            "grid_column": null,
            "grid_gap": null,
            "grid_row": null,
            "grid_template_areas": null,
            "grid_template_columns": null,
            "grid_template_rows": null,
            "height": null,
            "justify_content": null,
            "justify_items": null,
            "left": null,
            "margin": null,
            "max_height": null,
            "max_width": null,
            "min_height": null,
            "min_width": null,
            "object_fit": null,
            "object_position": null,
            "order": null,
            "overflow": null,
            "overflow_x": null,
            "overflow_y": null,
            "padding": null,
            "right": null,
            "top": null,
            "visibility": null,
            "width": null
          }
        },
        "0f9cb3eecada4a2f8d246027b163ac96": {
          "model_module": "@jupyter-widgets/base",
          "model_name": "LayoutModel",
          "model_module_version": "1.2.0",
          "state": {
            "_model_module": "@jupyter-widgets/base",
            "_model_module_version": "1.2.0",
            "_model_name": "LayoutModel",
            "_view_count": null,
            "_view_module": "@jupyter-widgets/base",
            "_view_module_version": "1.2.0",
            "_view_name": "LayoutView",
            "align_content": null,
            "align_items": null,
            "align_self": null,
            "border": null,
            "bottom": null,
            "display": null,
            "flex": null,
            "flex_flow": null,
            "grid_area": null,
            "grid_auto_columns": null,
            "grid_auto_flow": null,
            "grid_auto_rows": null,
            "grid_column": null,
            "grid_gap": null,
            "grid_row": null,
            "grid_template_areas": null,
            "grid_template_columns": null,
            "grid_template_rows": null,
            "height": null,
            "justify_content": null,
            "justify_items": null,
            "left": null,
            "margin": null,
            "max_height": null,
            "max_width": null,
            "min_height": null,
            "min_width": null,
            "object_fit": null,
            "object_position": null,
            "order": null,
            "overflow": null,
            "overflow_x": null,
            "overflow_y": null,
            "padding": null,
            "right": null,
            "top": null,
            "visibility": null,
            "width": null
          }
        },
        "837da5b582514a1d8b1d3643e78cbab3": {
          "model_module": "@jupyter-widgets/controls",
          "model_name": "DescriptionStyleModel",
          "model_module_version": "1.5.0",
          "state": {
            "_model_module": "@jupyter-widgets/controls",
            "_model_module_version": "1.5.0",
            "_model_name": "DescriptionStyleModel",
            "_view_count": null,
            "_view_module": "@jupyter-widgets/base",
            "_view_module_version": "1.2.0",
            "_view_name": "StyleView",
            "description_width": ""
          }
        },
        "5a8cac0ec0ec440fa652c80769652877": {
          "model_module": "@jupyter-widgets/base",
          "model_name": "LayoutModel",
          "model_module_version": "1.2.0",
          "state": {
            "_model_module": "@jupyter-widgets/base",
            "_model_module_version": "1.2.0",
            "_model_name": "LayoutModel",
            "_view_count": null,
            "_view_module": "@jupyter-widgets/base",
            "_view_module_version": "1.2.0",
            "_view_name": "LayoutView",
            "align_content": null,
            "align_items": null,
            "align_self": null,
            "border": null,
            "bottom": null,
            "display": null,
            "flex": null,
            "flex_flow": null,
            "grid_area": null,
            "grid_auto_columns": null,
            "grid_auto_flow": null,
            "grid_auto_rows": null,
            "grid_column": null,
            "grid_gap": null,
            "grid_row": null,
            "grid_template_areas": null,
            "grid_template_columns": null,
            "grid_template_rows": null,
            "height": null,
            "justify_content": null,
            "justify_items": null,
            "left": null,
            "margin": null,
            "max_height": null,
            "max_width": null,
            "min_height": null,
            "min_width": null,
            "object_fit": null,
            "object_position": null,
            "order": null,
            "overflow": null,
            "overflow_x": null,
            "overflow_y": null,
            "padding": null,
            "right": null,
            "top": null,
            "visibility": null,
            "width": null
          }
        },
        "205e8bd3e94e45cf814b5cb55f0764ed": {
          "model_module": "@jupyter-widgets/controls",
          "model_name": "ProgressStyleModel",
          "model_module_version": "1.5.0",
          "state": {
            "_model_module": "@jupyter-widgets/controls",
            "_model_module_version": "1.5.0",
            "_model_name": "ProgressStyleModel",
            "_view_count": null,
            "_view_module": "@jupyter-widgets/base",
            "_view_module_version": "1.2.0",
            "_view_name": "StyleView",
            "bar_color": null,
            "description_width": ""
          }
        },
        "95b17f0109d5433bbe4c2f998869debf": {
          "model_module": "@jupyter-widgets/base",
          "model_name": "LayoutModel",
          "model_module_version": "1.2.0",
          "state": {
            "_model_module": "@jupyter-widgets/base",
            "_model_module_version": "1.2.0",
            "_model_name": "LayoutModel",
            "_view_count": null,
            "_view_module": "@jupyter-widgets/base",
            "_view_module_version": "1.2.0",
            "_view_name": "LayoutView",
            "align_content": null,
            "align_items": null,
            "align_self": null,
            "border": null,
            "bottom": null,
            "display": null,
            "flex": null,
            "flex_flow": null,
            "grid_area": null,
            "grid_auto_columns": null,
            "grid_auto_flow": null,
            "grid_auto_rows": null,
            "grid_column": null,
            "grid_gap": null,
            "grid_row": null,
            "grid_template_areas": null,
            "grid_template_columns": null,
            "grid_template_rows": null,
            "height": null,
            "justify_content": null,
            "justify_items": null,
            "left": null,
            "margin": null,
            "max_height": null,
            "max_width": null,
            "min_height": null,
            "min_width": null,
            "object_fit": null,
            "object_position": null,
            "order": null,
            "overflow": null,
            "overflow_x": null,
            "overflow_y": null,
            "padding": null,
            "right": null,
            "top": null,
            "visibility": null,
            "width": null
          }
        },
        "4011800831de49c79449ccb70edf64c9": {
          "model_module": "@jupyter-widgets/controls",
          "model_name": "DescriptionStyleModel",
          "model_module_version": "1.5.0",
          "state": {
            "_model_module": "@jupyter-widgets/controls",
            "_model_module_version": "1.5.0",
            "_model_name": "DescriptionStyleModel",
            "_view_count": null,
            "_view_module": "@jupyter-widgets/base",
            "_view_module_version": "1.2.0",
            "_view_name": "StyleView",
            "description_width": ""
          }
        },
        "918cc9d4dbb144c8bad315e834081e60": {
          "model_module": "@jupyter-widgets/controls",
          "model_name": "HBoxModel",
          "model_module_version": "1.5.0",
          "state": {
            "_dom_classes": [],
            "_model_module": "@jupyter-widgets/controls",
            "_model_module_version": "1.5.0",
            "_model_name": "HBoxModel",
            "_view_count": null,
            "_view_module": "@jupyter-widgets/controls",
            "_view_module_version": "1.5.0",
            "_view_name": "HBoxView",
            "box_style": "",
            "children": [
              "IPY_MODEL_6ed81d78c6a844788870d7ce4b06e2cd",
              "IPY_MODEL_fe6726c045174b288fba10533c3f05e8",
              "IPY_MODEL_47857bce65dc419f8ca7d605ebf7359f"
            ],
            "layout": "IPY_MODEL_7ee0e8697b044fed9057a848abb75cbb"
          }
        },
        "6ed81d78c6a844788870d7ce4b06e2cd": {
          "model_module": "@jupyter-widgets/controls",
          "model_name": "HTMLModel",
          "model_module_version": "1.5.0",
          "state": {
            "_dom_classes": [],
            "_model_module": "@jupyter-widgets/controls",
            "_model_module_version": "1.5.0",
            "_model_name": "HTMLModel",
            "_view_count": null,
            "_view_module": "@jupyter-widgets/controls",
            "_view_module_version": "1.5.0",
            "_view_name": "HTMLView",
            "description": "",
            "description_tooltip": null,
            "layout": "IPY_MODEL_d77e003c231c42f58d279c3d35b3883f",
            "placeholder": "​",
            "style": "IPY_MODEL_66b313e6f66b4cd1b4ec4eb7c6d5426f",
            "value": "100%"
          }
        },
        "fe6726c045174b288fba10533c3f05e8": {
          "model_module": "@jupyter-widgets/controls",
          "model_name": "FloatProgressModel",
          "model_module_version": "1.5.0",
          "state": {
            "_dom_classes": [],
            "_model_module": "@jupyter-widgets/controls",
            "_model_module_version": "1.5.0",
            "_model_name": "FloatProgressModel",
            "_view_count": null,
            "_view_module": "@jupyter-widgets/controls",
            "_view_module_version": "1.5.0",
            "_view_name": "ProgressView",
            "bar_style": "success",
            "description": "",
            "description_tooltip": null,
            "layout": "IPY_MODEL_cd3150c486634a70834519c1eb3b774e",
            "max": 150,
            "min": 0,
            "orientation": "horizontal",
            "style": "IPY_MODEL_d40c25e3681f4894b8066810a4cd7c71",
            "value": 150
          }
        },
        "47857bce65dc419f8ca7d605ebf7359f": {
          "model_module": "@jupyter-widgets/controls",
          "model_name": "HTMLModel",
          "model_module_version": "1.5.0",
          "state": {
            "_dom_classes": [],
            "_model_module": "@jupyter-widgets/controls",
            "_model_module_version": "1.5.0",
            "_model_name": "HTMLModel",
            "_view_count": null,
            "_view_module": "@jupyter-widgets/controls",
            "_view_module_version": "1.5.0",
            "_view_name": "HTMLView",
            "description": "",
            "description_tooltip": null,
            "layout": "IPY_MODEL_e8e9e2a1be574dbd9a27db358bb95744",
            "placeholder": "​",
            "style": "IPY_MODEL_65df0068e8e54dd2a9535913ace633b5",
            "value": " 150/150 [00:20&lt;00:00,  7.79it/s]"
          }
        },
        "7ee0e8697b044fed9057a848abb75cbb": {
          "model_module": "@jupyter-widgets/base",
          "model_name": "LayoutModel",
          "model_module_version": "1.2.0",
          "state": {
            "_model_module": "@jupyter-widgets/base",
            "_model_module_version": "1.2.0",
            "_model_name": "LayoutModel",
            "_view_count": null,
            "_view_module": "@jupyter-widgets/base",
            "_view_module_version": "1.2.0",
            "_view_name": "LayoutView",
            "align_content": null,
            "align_items": null,
            "align_self": null,
            "border": null,
            "bottom": null,
            "display": null,
            "flex": null,
            "flex_flow": null,
            "grid_area": null,
            "grid_auto_columns": null,
            "grid_auto_flow": null,
            "grid_auto_rows": null,
            "grid_column": null,
            "grid_gap": null,
            "grid_row": null,
            "grid_template_areas": null,
            "grid_template_columns": null,
            "grid_template_rows": null,
            "height": null,
            "justify_content": null,
            "justify_items": null,
            "left": null,
            "margin": null,
            "max_height": null,
            "max_width": null,
            "min_height": null,
            "min_width": null,
            "object_fit": null,
            "object_position": null,
            "order": null,
            "overflow": null,
            "overflow_x": null,
            "overflow_y": null,
            "padding": null,
            "right": null,
            "top": null,
            "visibility": null,
            "width": null
          }
        },
        "d77e003c231c42f58d279c3d35b3883f": {
          "model_module": "@jupyter-widgets/base",
          "model_name": "LayoutModel",
          "model_module_version": "1.2.0",
          "state": {
            "_model_module": "@jupyter-widgets/base",
            "_model_module_version": "1.2.0",
            "_model_name": "LayoutModel",
            "_view_count": null,
            "_view_module": "@jupyter-widgets/base",
            "_view_module_version": "1.2.0",
            "_view_name": "LayoutView",
            "align_content": null,
            "align_items": null,
            "align_self": null,
            "border": null,
            "bottom": null,
            "display": null,
            "flex": null,
            "flex_flow": null,
            "grid_area": null,
            "grid_auto_columns": null,
            "grid_auto_flow": null,
            "grid_auto_rows": null,
            "grid_column": null,
            "grid_gap": null,
            "grid_row": null,
            "grid_template_areas": null,
            "grid_template_columns": null,
            "grid_template_rows": null,
            "height": null,
            "justify_content": null,
            "justify_items": null,
            "left": null,
            "margin": null,
            "max_height": null,
            "max_width": null,
            "min_height": null,
            "min_width": null,
            "object_fit": null,
            "object_position": null,
            "order": null,
            "overflow": null,
            "overflow_x": null,
            "overflow_y": null,
            "padding": null,
            "right": null,
            "top": null,
            "visibility": null,
            "width": null
          }
        },
        "66b313e6f66b4cd1b4ec4eb7c6d5426f": {
          "model_module": "@jupyter-widgets/controls",
          "model_name": "DescriptionStyleModel",
          "model_module_version": "1.5.0",
          "state": {
            "_model_module": "@jupyter-widgets/controls",
            "_model_module_version": "1.5.0",
            "_model_name": "DescriptionStyleModel",
            "_view_count": null,
            "_view_module": "@jupyter-widgets/base",
            "_view_module_version": "1.2.0",
            "_view_name": "StyleView",
            "description_width": ""
          }
        },
        "cd3150c486634a70834519c1eb3b774e": {
          "model_module": "@jupyter-widgets/base",
          "model_name": "LayoutModel",
          "model_module_version": "1.2.0",
          "state": {
            "_model_module": "@jupyter-widgets/base",
            "_model_module_version": "1.2.0",
            "_model_name": "LayoutModel",
            "_view_count": null,
            "_view_module": "@jupyter-widgets/base",
            "_view_module_version": "1.2.0",
            "_view_name": "LayoutView",
            "align_content": null,
            "align_items": null,
            "align_self": null,
            "border": null,
            "bottom": null,
            "display": null,
            "flex": null,
            "flex_flow": null,
            "grid_area": null,
            "grid_auto_columns": null,
            "grid_auto_flow": null,
            "grid_auto_rows": null,
            "grid_column": null,
            "grid_gap": null,
            "grid_row": null,
            "grid_template_areas": null,
            "grid_template_columns": null,
            "grid_template_rows": null,
            "height": null,
            "justify_content": null,
            "justify_items": null,
            "left": null,
            "margin": null,
            "max_height": null,
            "max_width": null,
            "min_height": null,
            "min_width": null,
            "object_fit": null,
            "object_position": null,
            "order": null,
            "overflow": null,
            "overflow_x": null,
            "overflow_y": null,
            "padding": null,
            "right": null,
            "top": null,
            "visibility": null,
            "width": null
          }
        },
        "d40c25e3681f4894b8066810a4cd7c71": {
          "model_module": "@jupyter-widgets/controls",
          "model_name": "ProgressStyleModel",
          "model_module_version": "1.5.0",
          "state": {
            "_model_module": "@jupyter-widgets/controls",
            "_model_module_version": "1.5.0",
            "_model_name": "ProgressStyleModel",
            "_view_count": null,
            "_view_module": "@jupyter-widgets/base",
            "_view_module_version": "1.2.0",
            "_view_name": "StyleView",
            "bar_color": null,
            "description_width": ""
          }
        },
        "e8e9e2a1be574dbd9a27db358bb95744": {
          "model_module": "@jupyter-widgets/base",
          "model_name": "LayoutModel",
          "model_module_version": "1.2.0",
          "state": {
            "_model_module": "@jupyter-widgets/base",
            "_model_module_version": "1.2.0",
            "_model_name": "LayoutModel",
            "_view_count": null,
            "_view_module": "@jupyter-widgets/base",
            "_view_module_version": "1.2.0",
            "_view_name": "LayoutView",
            "align_content": null,
            "align_items": null,
            "align_self": null,
            "border": null,
            "bottom": null,
            "display": null,
            "flex": null,
            "flex_flow": null,
            "grid_area": null,
            "grid_auto_columns": null,
            "grid_auto_flow": null,
            "grid_auto_rows": null,
            "grid_column": null,
            "grid_gap": null,
            "grid_row": null,
            "grid_template_areas": null,
            "grid_template_columns": null,
            "grid_template_rows": null,
            "height": null,
            "justify_content": null,
            "justify_items": null,
            "left": null,
            "margin": null,
            "max_height": null,
            "max_width": null,
            "min_height": null,
            "min_width": null,
            "object_fit": null,
            "object_position": null,
            "order": null,
            "overflow": null,
            "overflow_x": null,
            "overflow_y": null,
            "padding": null,
            "right": null,
            "top": null,
            "visibility": null,
            "width": null
          }
        },
        "65df0068e8e54dd2a9535913ace633b5": {
          "model_module": "@jupyter-widgets/controls",
          "model_name": "DescriptionStyleModel",
          "model_module_version": "1.5.0",
          "state": {
            "_model_module": "@jupyter-widgets/controls",
            "_model_module_version": "1.5.0",
            "_model_name": "DescriptionStyleModel",
            "_view_count": null,
            "_view_module": "@jupyter-widgets/base",
            "_view_module_version": "1.2.0",
            "_view_name": "StyleView",
            "description_width": ""
          }
        },
        "dc89cff036ac4de3b8aca09a00065564": {
          "model_module": "@jupyter-widgets/controls",
          "model_name": "HBoxModel",
          "model_module_version": "1.5.0",
          "state": {
            "_dom_classes": [],
            "_model_module": "@jupyter-widgets/controls",
            "_model_module_version": "1.5.0",
            "_model_name": "HBoxModel",
            "_view_count": null,
            "_view_module": "@jupyter-widgets/controls",
            "_view_module_version": "1.5.0",
            "_view_name": "HBoxView",
            "box_style": "",
            "children": [
              "IPY_MODEL_33f50f1322de4b3db5c1afc1de6b7cac",
              "IPY_MODEL_17dd1ac1252f4967b75c93b78eb895e6",
              "IPY_MODEL_430308377afe490e9c66ae386438ebc9"
            ],
            "layout": "IPY_MODEL_e27b825776ca46e292914f6cc3b60de7"
          }
        },
        "33f50f1322de4b3db5c1afc1de6b7cac": {
          "model_module": "@jupyter-widgets/controls",
          "model_name": "HTMLModel",
          "model_module_version": "1.5.0",
          "state": {
            "_dom_classes": [],
            "_model_module": "@jupyter-widgets/controls",
            "_model_module_version": "1.5.0",
            "_model_name": "HTMLModel",
            "_view_count": null,
            "_view_module": "@jupyter-widgets/controls",
            "_view_module_version": "1.5.0",
            "_view_name": "HTMLView",
            "description": "",
            "description_tooltip": null,
            "layout": "IPY_MODEL_2fec113d6bdc4023960de76b3d93d029",
            "placeholder": "​",
            "style": "IPY_MODEL_fe15f1fa8b7244c3b0f6c2a871e529cb",
            "value": "100%"
          }
        },
        "17dd1ac1252f4967b75c93b78eb895e6": {
          "model_module": "@jupyter-widgets/controls",
          "model_name": "FloatProgressModel",
          "model_module_version": "1.5.0",
          "state": {
            "_dom_classes": [],
            "_model_module": "@jupyter-widgets/controls",
            "_model_module_version": "1.5.0",
            "_model_name": "FloatProgressModel",
            "_view_count": null,
            "_view_module": "@jupyter-widgets/controls",
            "_view_module_version": "1.5.0",
            "_view_name": "ProgressView",
            "bar_style": "success",
            "description": "",
            "description_tooltip": null,
            "layout": "IPY_MODEL_5ed12ee3e0ac499a9b6ea53e809b9c5e",
            "max": 150,
            "min": 0,
            "orientation": "horizontal",
            "style": "IPY_MODEL_da374db5a86148148a8dff1d1b885ed0",
            "value": 150
          }
        },
        "430308377afe490e9c66ae386438ebc9": {
          "model_module": "@jupyter-widgets/controls",
          "model_name": "HTMLModel",
          "model_module_version": "1.5.0",
          "state": {
            "_dom_classes": [],
            "_model_module": "@jupyter-widgets/controls",
            "_model_module_version": "1.5.0",
            "_model_name": "HTMLModel",
            "_view_count": null,
            "_view_module": "@jupyter-widgets/controls",
            "_view_module_version": "1.5.0",
            "_view_name": "HTMLView",
            "description": "",
            "description_tooltip": null,
            "layout": "IPY_MODEL_9ae8c036ec6e40f8b5ddcab58be0e06b",
            "placeholder": "​",
            "style": "IPY_MODEL_7f78f338c35d48c2982086e9373554ab",
            "value": " 150/150 [01:39&lt;00:00,  1.63it/s]"
          }
        },
        "e27b825776ca46e292914f6cc3b60de7": {
          "model_module": "@jupyter-widgets/base",
          "model_name": "LayoutModel",
          "model_module_version": "1.2.0",
          "state": {
            "_model_module": "@jupyter-widgets/base",
            "_model_module_version": "1.2.0",
            "_model_name": "LayoutModel",
            "_view_count": null,
            "_view_module": "@jupyter-widgets/base",
            "_view_module_version": "1.2.0",
            "_view_name": "LayoutView",
            "align_content": null,
            "align_items": null,
            "align_self": null,
            "border": null,
            "bottom": null,
            "display": null,
            "flex": null,
            "flex_flow": null,
            "grid_area": null,
            "grid_auto_columns": null,
            "grid_auto_flow": null,
            "grid_auto_rows": null,
            "grid_column": null,
            "grid_gap": null,
            "grid_row": null,
            "grid_template_areas": null,
            "grid_template_columns": null,
            "grid_template_rows": null,
            "height": null,
            "justify_content": null,
            "justify_items": null,
            "left": null,
            "margin": null,
            "max_height": null,
            "max_width": null,
            "min_height": null,
            "min_width": null,
            "object_fit": null,
            "object_position": null,
            "order": null,
            "overflow": null,
            "overflow_x": null,
            "overflow_y": null,
            "padding": null,
            "right": null,
            "top": null,
            "visibility": null,
            "width": null
          }
        },
        "2fec113d6bdc4023960de76b3d93d029": {
          "model_module": "@jupyter-widgets/base",
          "model_name": "LayoutModel",
          "model_module_version": "1.2.0",
          "state": {
            "_model_module": "@jupyter-widgets/base",
            "_model_module_version": "1.2.0",
            "_model_name": "LayoutModel",
            "_view_count": null,
            "_view_module": "@jupyter-widgets/base",
            "_view_module_version": "1.2.0",
            "_view_name": "LayoutView",
            "align_content": null,
            "align_items": null,
            "align_self": null,
            "border": null,
            "bottom": null,
            "display": null,
            "flex": null,
            "flex_flow": null,
            "grid_area": null,
            "grid_auto_columns": null,
            "grid_auto_flow": null,
            "grid_auto_rows": null,
            "grid_column": null,
            "grid_gap": null,
            "grid_row": null,
            "grid_template_areas": null,
            "grid_template_columns": null,
            "grid_template_rows": null,
            "height": null,
            "justify_content": null,
            "justify_items": null,
            "left": null,
            "margin": null,
            "max_height": null,
            "max_width": null,
            "min_height": null,
            "min_width": null,
            "object_fit": null,
            "object_position": null,
            "order": null,
            "overflow": null,
            "overflow_x": null,
            "overflow_y": null,
            "padding": null,
            "right": null,
            "top": null,
            "visibility": null,
            "width": null
          }
        },
        "fe15f1fa8b7244c3b0f6c2a871e529cb": {
          "model_module": "@jupyter-widgets/controls",
          "model_name": "DescriptionStyleModel",
          "model_module_version": "1.5.0",
          "state": {
            "_model_module": "@jupyter-widgets/controls",
            "_model_module_version": "1.5.0",
            "_model_name": "DescriptionStyleModel",
            "_view_count": null,
            "_view_module": "@jupyter-widgets/base",
            "_view_module_version": "1.2.0",
            "_view_name": "StyleView",
            "description_width": ""
          }
        },
        "5ed12ee3e0ac499a9b6ea53e809b9c5e": {
          "model_module": "@jupyter-widgets/base",
          "model_name": "LayoutModel",
          "model_module_version": "1.2.0",
          "state": {
            "_model_module": "@jupyter-widgets/base",
            "_model_module_version": "1.2.0",
            "_model_name": "LayoutModel",
            "_view_count": null,
            "_view_module": "@jupyter-widgets/base",
            "_view_module_version": "1.2.0",
            "_view_name": "LayoutView",
            "align_content": null,
            "align_items": null,
            "align_self": null,
            "border": null,
            "bottom": null,
            "display": null,
            "flex": null,
            "flex_flow": null,
            "grid_area": null,
            "grid_auto_columns": null,
            "grid_auto_flow": null,
            "grid_auto_rows": null,
            "grid_column": null,
            "grid_gap": null,
            "grid_row": null,
            "grid_template_areas": null,
            "grid_template_columns": null,
            "grid_template_rows": null,
            "height": null,
            "justify_content": null,
            "justify_items": null,
            "left": null,
            "margin": null,
            "max_height": null,
            "max_width": null,
            "min_height": null,
            "min_width": null,
            "object_fit": null,
            "object_position": null,
            "order": null,
            "overflow": null,
            "overflow_x": null,
            "overflow_y": null,
            "padding": null,
            "right": null,
            "top": null,
            "visibility": null,
            "width": null
          }
        },
        "da374db5a86148148a8dff1d1b885ed0": {
          "model_module": "@jupyter-widgets/controls",
          "model_name": "ProgressStyleModel",
          "model_module_version": "1.5.0",
          "state": {
            "_model_module": "@jupyter-widgets/controls",
            "_model_module_version": "1.5.0",
            "_model_name": "ProgressStyleModel",
            "_view_count": null,
            "_view_module": "@jupyter-widgets/base",
            "_view_module_version": "1.2.0",
            "_view_name": "StyleView",
            "bar_color": null,
            "description_width": ""
          }
        },
        "9ae8c036ec6e40f8b5ddcab58be0e06b": {
          "model_module": "@jupyter-widgets/base",
          "model_name": "LayoutModel",
          "model_module_version": "1.2.0",
          "state": {
            "_model_module": "@jupyter-widgets/base",
            "_model_module_version": "1.2.0",
            "_model_name": "LayoutModel",
            "_view_count": null,
            "_view_module": "@jupyter-widgets/base",
            "_view_module_version": "1.2.0",
            "_view_name": "LayoutView",
            "align_content": null,
            "align_items": null,
            "align_self": null,
            "border": null,
            "bottom": null,
            "display": null,
            "flex": null,
            "flex_flow": null,
            "grid_area": null,
            "grid_auto_columns": null,
            "grid_auto_flow": null,
            "grid_auto_rows": null,
            "grid_column": null,
            "grid_gap": null,
            "grid_row": null,
            "grid_template_areas": null,
            "grid_template_columns": null,
            "grid_template_rows": null,
            "height": null,
            "justify_content": null,
            "justify_items": null,
            "left": null,
            "margin": null,
            "max_height": null,
            "max_width": null,
            "min_height": null,
            "min_width": null,
            "object_fit": null,
            "object_position": null,
            "order": null,
            "overflow": null,
            "overflow_x": null,
            "overflow_y": null,
            "padding": null,
            "right": null,
            "top": null,
            "visibility": null,
            "width": null
          }
        },
        "7f78f338c35d48c2982086e9373554ab": {
          "model_module": "@jupyter-widgets/controls",
          "model_name": "DescriptionStyleModel",
          "model_module_version": "1.5.0",
          "state": {
            "_model_module": "@jupyter-widgets/controls",
            "_model_module_version": "1.5.0",
            "_model_name": "DescriptionStyleModel",
            "_view_count": null,
            "_view_module": "@jupyter-widgets/base",
            "_view_module_version": "1.2.0",
            "_view_name": "StyleView",
            "description_width": ""
          }
        }
      }
    }
  },
  "cells": [
    {
      "cell_type": "markdown",
      "metadata": {
        "id": "view-in-github",
        "colab_type": "text"
      },
      "source": [
        "<a href=\"https://colab.research.google.com/github/Deji01/Deep-Learning/blob/main/09_PyTorch_Model_Deployment.ipynb\" target=\"_parent\"><img src=\"https://colab.research.google.com/assets/colab-badge.svg\" alt=\"Open In Colab\"/></a>"
      ]
    },
    {
      "cell_type": "markdown",
      "source": [
        "## 0.0 Getting setup"
      ],
      "metadata": {
        "id": "CI_Sc0BtJdnk"
      }
    },
    {
      "cell_type": "code",
      "execution_count": 1,
      "metadata": {
        "colab": {
          "base_uri": "https://localhost:8080/"
        },
        "id": "H9GhJuPqIXLx",
        "outputId": "28a144c2-8118-4f4f-b85f-be5fd34bf799"
      },
      "outputs": [
        {
          "output_type": "stream",
          "name": "stdout",
          "text": [
            "torch version: 1.13.1+cu116\n",
            "torchvision version: 0.14.1+cu116\n"
          ]
        }
      ],
      "source": [
        "# For this notebook to run with updated APIs, we need torch 1.12+ and torchvision 0.13+\n",
        "try:\n",
        "    import torch\n",
        "    import torchvision\n",
        "    assert int(torch.__version__.split(\".\")[1]) >= 12, \"torch version should be 1.12+\"\n",
        "    assert int(torchvision.__version__.split(\".\")[1]) >= 13, \"torchvision version should be 0.13+\"\n",
        "    print(f\"torch version: {torch.__version__}\")\n",
        "    print(f\"torchvision version: {torchvision.__version__}\")\n",
        "except:\n",
        "    print(f\"[INFO] torch/torchvision versions not as required, installing nightly versions.\")\n",
        "    !pip3 install -U torch torchvision torchaudio --extra-index-url https://download.pytorch.org/whl/cu113\n",
        "    import torch\n",
        "    import torchvision\n",
        "    print(f\"torch version: {torch.__version__}\")\n",
        "    print(f\"torchvision version: {torchvision.__version__}\")"
      ]
    },
    {
      "cell_type": "code",
      "source": [
        "# Continue with regular imports\n",
        "import matplotlib.pyplot as plt\n",
        "import torch\n",
        "import torchvision\n",
        "\n",
        "from torch import nn\n",
        "from torchvision import transforms\n",
        "\n",
        "# Try to get torchinfo, install it if it doesn't work\n",
        "try:\n",
        "    from torchinfo import summary\n",
        "except:\n",
        "    print(\"[INFO] Couldn't find torchinfo... installing it.\")\n",
        "    !pip install -q torchinfo\n",
        "    from torchinfo import summary\n",
        "\n",
        "# Try to import the going_modular directory, download it from GitHub if it doesn't work\n",
        "try:\n",
        "    from going_modular.going_modular import data_setup, engine\n",
        "    from helper_functions import download_data, set_seeds, plot_loss_curves\n",
        "except:\n",
        "    # Get the going_modular scripts\n",
        "    print(\"[INFO] Couldn't find going_modular or helper_functions scripts... downloading them from GitHub.\")\n",
        "    !git clone https://github.com/mrdbourke/pytorch-deep-learning\n",
        "    !mv pytorch-deep-learning/going_modular .\n",
        "    !mv pytorch-deep-learning/helper_functions.py . # get the helper_functions.py script\n",
        "    !rm -rf pytorch-deep-learning\n",
        "    from going_modular.going_modular import data_setup, engine\n",
        "    from helper_functions import download_data, set_seeds, plot_loss_curves"
      ],
      "metadata": {
        "colab": {
          "base_uri": "https://localhost:8080/"
        },
        "id": "3-cJIEhcJzR0",
        "outputId": "105a5418-079c-4042-ac4f-aa36b973f332"
      },
      "execution_count": 2,
      "outputs": [
        {
          "output_type": "stream",
          "name": "stdout",
          "text": [
            "[INFO] Couldn't find torchinfo... installing it.\n",
            "[INFO] Couldn't find going_modular or helper_functions scripts... downloading them from GitHub.\n",
            "Cloning into 'pytorch-deep-learning'...\n",
            "remote: Enumerating objects: 3435, done.\u001b[K\n",
            "remote: Total 3435 (delta 0), reused 0 (delta 0), pack-reused 3435\u001b[K\n",
            "Receiving objects: 100% (3435/3435), 641.56 MiB | 38.93 MiB/s, done.\n",
            "Resolving deltas: 100% (1975/1975), done.\n",
            "Updating files: 100% (222/222), done.\n"
          ]
        }
      ]
    },
    {
      "cell_type": "code",
      "source": [
        "device = \"cuda\" if torch.cuda.is_available() else \"cpu\"\n",
        "device"
      ],
      "metadata": {
        "colab": {
          "base_uri": "https://localhost:8080/",
          "height": 35
        },
        "id": "CJgeQCeWJ0Mq",
        "outputId": "ec43cff4-544d-4110-ca8c-c5c95a85f501"
      },
      "execution_count": 3,
      "outputs": [
        {
          "output_type": "execute_result",
          "data": {
            "text/plain": [
              "'cuda'"
            ],
            "application/vnd.google.colaboratory.intrinsic+json": {
              "type": "string"
            }
          },
          "metadata": {},
          "execution_count": 3
        }
      ]
    },
    {
      "cell_type": "markdown",
      "source": [
        "## 1.0 Getting Data"
      ],
      "metadata": {
        "id": "jbhSFdcGJ3sQ"
      }
    },
    {
      "cell_type": "code",
      "source": [
        "# Download pizza, steak, sushi images from GitHub\n",
        "data_20_percent_path = download_data(source=\"https://github.com/mrdbourke/pytorch-deep-learning/raw/main/data/pizza_steak_sushi_20_percent.zip\",\n",
        "                                     destination=\"pizza_steak_sushi_20_percent\")\n",
        "\n",
        "data_20_percent_path"
      ],
      "metadata": {
        "colab": {
          "base_uri": "https://localhost:8080/"
        },
        "id": "QaAXGmJAJ2l9",
        "outputId": "2981b256-1f4b-4882-b2df-867db60157b3"
      },
      "execution_count": 4,
      "outputs": [
        {
          "output_type": "stream",
          "name": "stdout",
          "text": [
            "[INFO] Did not find data/pizza_steak_sushi_20_percent directory, creating one...\n",
            "[INFO] Downloading pizza_steak_sushi_20_percent.zip from https://github.com/mrdbourke/pytorch-deep-learning/raw/main/data/pizza_steak_sushi_20_percent.zip...\n",
            "[INFO] Unzipping pizza_steak_sushi_20_percent.zip data...\n"
          ]
        },
        {
          "output_type": "execute_result",
          "data": {
            "text/plain": [
              "PosixPath('data/pizza_steak_sushi_20_percent')"
            ]
          },
          "metadata": {},
          "execution_count": 4
        }
      ]
    },
    {
      "cell_type": "code",
      "source": [
        "# Setup directory paths to train and test images\n",
        "train_dir = data_20_percent_path / \"train\"\n",
        "test_dir = data_20_percent_path / \"test\""
      ],
      "metadata": {
        "id": "ETOA4vRsJ9X_"
      },
      "execution_count": 5,
      "outputs": []
    },
    {
      "cell_type": "markdown",
      "source": [
        "## 2.0 Creating an EffNetB2 feature extractor"
      ],
      "metadata": {
        "id": "d3tjHNczKGlw"
      }
    },
    {
      "cell_type": "code",
      "source": [
        "# 1. Setup pretrained EffNetB2 weights\n",
        "effnetb2_weights = torchvision.models.EfficientNet_B2_Weights.DEFAULT\n",
        "\n",
        "# 2. Get EffNetB2 transforms\n",
        "effnetb2_transforms = effnetb2_weights.transforms()\n",
        "\n",
        "# 3. Setup pretrained model\n",
        "effnetb2 = torchvision.models.efficientnet_b2(weights=effnetb2_weights) # could also use weights=\"DEFAULT\"\n",
        "\n",
        "# 4. Freeze the base layers in the model (this will freeze all layers to begin with)\n",
        "for param in effnetb2.parameters():\n",
        "    param.requires_grad = False"
      ],
      "metadata": {
        "colab": {
          "base_uri": "https://localhost:8080/",
          "height": 86,
          "referenced_widgets": [
            "d92bf13e4baa4b30898cb3cfc9c4a481",
            "4e5697ed97fd47339e7c51df62c9aa12",
            "9ef175a8f67e4426afe8ff482801f9bd",
            "32e6c51d5bdb4e9d8b95e5c1678d6d30",
            "a56b44a90a4b423aa8a39f7a112b9ba8",
            "6847506da6c64111a6d78198d3af59bd",
            "2ba7272b8bbf40ddae3d15cdb610cd21",
            "668c929544d3403083c245e4a86a4dba",
            "5c2e3f68e06543cd8735ebed9739bce2",
            "cf428e9072e045fa85b39a3fbb43f9fb",
            "01b6062595164bd1bd4ee1944ccb7c08"
          ]
        },
        "id": "rXiImNtAKBc5",
        "outputId": "12af5bb7-9d67-48d1-d71b-c8c988a4720d"
      },
      "execution_count": 6,
      "outputs": [
        {
          "output_type": "stream",
          "name": "stderr",
          "text": [
            "Downloading: \"https://download.pytorch.org/models/efficientnet_b2_rwightman-bcdf34b7.pth\" to /root/.cache/torch/hub/checkpoints/efficientnet_b2_rwightman-bcdf34b7.pth\n"
          ]
        },
        {
          "output_type": "display_data",
          "data": {
            "text/plain": [
              "  0%|          | 0.00/35.2M [00:00<?, ?B/s]"
            ],
            "application/vnd.jupyter.widget-view+json": {
              "version_major": 2,
              "version_minor": 0,
              "model_id": "d92bf13e4baa4b30898cb3cfc9c4a481"
            }
          },
          "metadata": {}
        }
      ]
    },
    {
      "cell_type": "code",
      "source": [
        "# Check out EffNetB2 classifier head\n",
        "effnetb2.classifier"
      ],
      "metadata": {
        "colab": {
          "base_uri": "https://localhost:8080/"
        },
        "id": "h8XicShxKMOQ",
        "outputId": "6b88cc20-d191-4a87-891c-2416f7b5d7df"
      },
      "execution_count": 7,
      "outputs": [
        {
          "output_type": "execute_result",
          "data": {
            "text/plain": [
              "Sequential(\n",
              "  (0): Dropout(p=0.3, inplace=True)\n",
              "  (1): Linear(in_features=1408, out_features=1000, bias=True)\n",
              ")"
            ]
          },
          "metadata": {},
          "execution_count": 7
        }
      ]
    },
    {
      "cell_type": "code",
      "source": [
        "# 5. Update the classifier head\n",
        "effnetb2.classifier = nn.Sequential(\n",
        "    nn.Dropout(p=0.3, inplace=True), # keep dropout layer same\n",
        "    nn.Linear(in_features=1408, # keep in_features same \n",
        "              out_features=3)) # change out_features to suit our number of classes"
      ],
      "metadata": {
        "id": "rXxDlcH2KO5l"
      },
      "execution_count": 8,
      "outputs": []
    },
    {
      "cell_type": "code",
      "source": [
        "def create_effnetb2_model(num_classes:int=3, \n",
        "                          seed:int=42):\n",
        "    \"\"\"Creates an EfficientNetB2 feature extractor model and transforms.\n",
        "\n",
        "    Args:\n",
        "        num_classes (int, optional): number of classes in the classifier head. \n",
        "            Defaults to 3.\n",
        "        seed (int, optional): random seed value. Defaults to 42.\n",
        "\n",
        "    Returns:\n",
        "        model (torch.nn.Module): EffNetB2 feature extractor model. \n",
        "        transforms (torchvision.transforms): EffNetB2 image transforms.\n",
        "    \"\"\"\n",
        "    # 1, 2, 3. Create EffNetB2 pretrained weights, transforms and model\n",
        "    weights = torchvision.models.EfficientNet_B2_Weights.DEFAULT\n",
        "    transforms = weights.transforms()\n",
        "    model = torchvision.models.efficientnet_b2(weights=weights)\n",
        "\n",
        "    # 4. Freeze all layers in base model\n",
        "    for param in model.parameters():\n",
        "        param.requires_grad = False\n",
        "\n",
        "    # 5. Change classifier head with random seed for reproducibility\n",
        "    torch.manual_seed(seed)\n",
        "    model.classifier = nn.Sequential(\n",
        "        nn.Dropout(p=0.3, inplace=True),\n",
        "        nn.Linear(in_features=1408, out_features=num_classes),\n",
        "    )\n",
        "    \n",
        "    return model, transforms"
      ],
      "metadata": {
        "id": "2dd-FihtKRjn"
      },
      "execution_count": 9,
      "outputs": []
    },
    {
      "cell_type": "code",
      "source": [
        "effnetb2, effnetb2_transforms = create_effnetb2_model(num_classes=3,\n",
        "                                                      seed=42)"
      ],
      "metadata": {
        "id": "h4FiCy92KT1u"
      },
      "execution_count": 10,
      "outputs": []
    },
    {
      "cell_type": "code",
      "source": [
        "from torchinfo import summary\n",
        "\n",
        "# # Print EffNetB2 model summary\n",
        "summary(effnetb2, \n",
        "        input_size=(1, 3, 224, 224),\n",
        "        col_names=[\"input_size\", \"output_size\", \"num_params\", \"trainable\"],\n",
        "        col_width=20,\n",
        "        row_settings=[\"var_names\"])"
      ],
      "metadata": {
        "colab": {
          "base_uri": "https://localhost:8080/"
        },
        "id": "uHXrWcEQKW_4",
        "outputId": "e7d3f81e-5ba7-4f71-d50e-bdbf05bd25a7"
      },
      "execution_count": 11,
      "outputs": [
        {
          "output_type": "execute_result",
          "data": {
            "text/plain": [
              "============================================================================================================================================\n",
              "Layer (type (var_name))                                      Input Shape          Output Shape         Param #              Trainable\n",
              "============================================================================================================================================\n",
              "EfficientNet (EfficientNet)                                  [1, 3, 224, 224]     [1, 3]               --                   Partial\n",
              "├─Sequential (features)                                      [1, 3, 224, 224]     [1, 1408, 7, 7]      --                   False\n",
              "│    └─Conv2dNormActivation (0)                              [1, 3, 224, 224]     [1, 32, 112, 112]    --                   False\n",
              "│    │    └─Conv2d (0)                                       [1, 3, 224, 224]     [1, 32, 112, 112]    (864)                False\n",
              "│    │    └─BatchNorm2d (1)                                  [1, 32, 112, 112]    [1, 32, 112, 112]    (64)                 False\n",
              "│    │    └─SiLU (2)                                         [1, 32, 112, 112]    [1, 32, 112, 112]    --                   --\n",
              "│    └─Sequential (1)                                        [1, 32, 112, 112]    [1, 16, 112, 112]    --                   False\n",
              "│    │    └─MBConv (0)                                       [1, 32, 112, 112]    [1, 16, 112, 112]    (1,448)              False\n",
              "│    │    └─MBConv (1)                                       [1, 16, 112, 112]    [1, 16, 112, 112]    (612)                False\n",
              "│    └─Sequential (2)                                        [1, 16, 112, 112]    [1, 24, 56, 56]      --                   False\n",
              "│    │    └─MBConv (0)                                       [1, 16, 112, 112]    [1, 24, 56, 56]      (6,004)              False\n",
              "│    │    └─MBConv (1)                                       [1, 24, 56, 56]      [1, 24, 56, 56]      (10,710)             False\n",
              "│    │    └─MBConv (2)                                       [1, 24, 56, 56]      [1, 24, 56, 56]      (10,710)             False\n",
              "│    └─Sequential (3)                                        [1, 24, 56, 56]      [1, 48, 28, 28]      --                   False\n",
              "│    │    └─MBConv (0)                                       [1, 24, 56, 56]      [1, 48, 28, 28]      (16,518)             False\n",
              "│    │    └─MBConv (1)                                       [1, 48, 28, 28]      [1, 48, 28, 28]      (43,308)             False\n",
              "│    │    └─MBConv (2)                                       [1, 48, 28, 28]      [1, 48, 28, 28]      (43,308)             False\n",
              "│    └─Sequential (4)                                        [1, 48, 28, 28]      [1, 88, 14, 14]      --                   False\n",
              "│    │    └─MBConv (0)                                       [1, 48, 28, 28]      [1, 88, 14, 14]      (50,300)             False\n",
              "│    │    └─MBConv (1)                                       [1, 88, 14, 14]      [1, 88, 14, 14]      (123,750)            False\n",
              "│    │    └─MBConv (2)                                       [1, 88, 14, 14]      [1, 88, 14, 14]      (123,750)            False\n",
              "│    │    └─MBConv (3)                                       [1, 88, 14, 14]      [1, 88, 14, 14]      (123,750)            False\n",
              "│    └─Sequential (5)                                        [1, 88, 14, 14]      [1, 120, 14, 14]     --                   False\n",
              "│    │    └─MBConv (0)                                       [1, 88, 14, 14]      [1, 120, 14, 14]     (149,158)            False\n",
              "│    │    └─MBConv (1)                                       [1, 120, 14, 14]     [1, 120, 14, 14]     (237,870)            False\n",
              "│    │    └─MBConv (2)                                       [1, 120, 14, 14]     [1, 120, 14, 14]     (237,870)            False\n",
              "│    │    └─MBConv (3)                                       [1, 120, 14, 14]     [1, 120, 14, 14]     (237,870)            False\n",
              "│    └─Sequential (6)                                        [1, 120, 14, 14]     [1, 208, 7, 7]       --                   False\n",
              "│    │    └─MBConv (0)                                       [1, 120, 14, 14]     [1, 208, 7, 7]       (301,406)            False\n",
              "│    │    └─MBConv (1)                                       [1, 208, 7, 7]       [1, 208, 7, 7]       (686,868)            False\n",
              "│    │    └─MBConv (2)                                       [1, 208, 7, 7]       [1, 208, 7, 7]       (686,868)            False\n",
              "│    │    └─MBConv (3)                                       [1, 208, 7, 7]       [1, 208, 7, 7]       (686,868)            False\n",
              "│    │    └─MBConv (4)                                       [1, 208, 7, 7]       [1, 208, 7, 7]       (686,868)            False\n",
              "│    └─Sequential (7)                                        [1, 208, 7, 7]       [1, 352, 7, 7]       --                   False\n",
              "│    │    └─MBConv (0)                                       [1, 208, 7, 7]       [1, 352, 7, 7]       (846,900)            False\n",
              "│    │    └─MBConv (1)                                       [1, 352, 7, 7]       [1, 352, 7, 7]       (1,888,920)          False\n",
              "│    └─Conv2dNormActivation (8)                              [1, 352, 7, 7]       [1, 1408, 7, 7]      --                   False\n",
              "│    │    └─Conv2d (0)                                       [1, 352, 7, 7]       [1, 1408, 7, 7]      (495,616)            False\n",
              "│    │    └─BatchNorm2d (1)                                  [1, 1408, 7, 7]      [1, 1408, 7, 7]      (2,816)              False\n",
              "│    │    └─SiLU (2)                                         [1, 1408, 7, 7]      [1, 1408, 7, 7]      --                   --\n",
              "├─AdaptiveAvgPool2d (avgpool)                                [1, 1408, 7, 7]      [1, 1408, 1, 1]      --                   --\n",
              "├─Sequential (classifier)                                    [1, 1408]            [1, 3]               --                   True\n",
              "│    └─Dropout (0)                                           [1, 1408]            [1, 1408]            --                   --\n",
              "│    └─Linear (1)                                            [1, 1408]            [1, 3]               4,227                True\n",
              "============================================================================================================================================\n",
              "Total params: 7,705,221\n",
              "Trainable params: 4,227\n",
              "Non-trainable params: 7,700,994\n",
              "Total mult-adds (M): 657.64\n",
              "============================================================================================================================================\n",
              "Input size (MB): 0.60\n",
              "Forward/backward pass size (MB): 156.80\n",
              "Params size (MB): 30.82\n",
              "Estimated Total Size (MB): 188.22\n",
              "============================================================================================================================================"
            ]
          },
          "metadata": {},
          "execution_count": 11
        }
      ]
    },
    {
      "cell_type": "code",
      "source": [
        "# Setup DataLoaders\n",
        "from going_modular.going_modular import data_setup\n",
        "train_dataloader_effnetb2, test_dataloader_effnetb2, class_names = data_setup.create_dataloaders(train_dir=train_dir,\n",
        "                                                                                                 test_dir=test_dir,\n",
        "                                                                                                 transform=effnetb2_transforms,\n",
        "                                                                                                 batch_size=32)"
      ],
      "metadata": {
        "id": "abunpqDbKals"
      },
      "execution_count": 12,
      "outputs": []
    },
    {
      "cell_type": "code",
      "source": [
        "from going_modular.going_modular import engine\n",
        "\n",
        "# Setup optimizer\n",
        "optimizer = torch.optim.Adam(params=effnetb2.parameters(),\n",
        "                             lr=1e-3)\n",
        "# Setup loss function\n",
        "loss_fn = torch.nn.CrossEntropyLoss()\n",
        "\n",
        "# Set seeds for reproducibility and train the model\n",
        "set_seeds()\n",
        "effnetb2_results = engine.train(model=effnetb2,\n",
        "                                train_dataloader=train_dataloader_effnetb2,\n",
        "                                test_dataloader=test_dataloader_effnetb2,\n",
        "                                epochs=10,\n",
        "                                optimizer=optimizer,\n",
        "                                loss_fn=loss_fn,\n",
        "                                device=device)"
      ],
      "metadata": {
        "colab": {
          "base_uri": "https://localhost:8080/",
          "height": 243,
          "referenced_widgets": [
            "b594db3420c54052b69f214ee8231d96",
            "5a36e8b7f79441f193926209a24e3597",
            "d7d85654ceb74012b371baad09d06ff3",
            "c592d36950d74b2cb6d049d3557e3175",
            "c0c92e4375e9462f9fa058d7ce809c3b",
            "b126dd3b3a714dd68fe69333ba78cf8a",
            "06621bc6fc214decaefa15aab7d163e0",
            "0aa192fc6bfb400ebf4de34f6e205f35",
            "15866fcb8bea43a682531c9e6160c487",
            "763475a57edc4f91a8482193f6b536ab",
            "2f9712dec327412784d3b4344bb6321e"
          ]
        },
        "id": "sDwoblVCKg9w",
        "outputId": "ce7777bf-0d4f-408a-8785-b67056468c10"
      },
      "execution_count": 13,
      "outputs": [
        {
          "output_type": "display_data",
          "data": {
            "text/plain": [
              "  0%|          | 0/10 [00:00<?, ?it/s]"
            ],
            "application/vnd.jupyter.widget-view+json": {
              "version_major": 2,
              "version_minor": 0,
              "model_id": "b594db3420c54052b69f214ee8231d96"
            }
          },
          "metadata": {}
        },
        {
          "output_type": "stream",
          "name": "stdout",
          "text": [
            "Epoch: 1 | train_loss: 0.9848 | train_acc: 0.5667 | test_loss: 0.7388 | test_acc: 0.9409\n",
            "Epoch: 2 | train_loss: 0.7138 | train_acc: 0.8375 | test_loss: 0.5851 | test_acc: 0.9409\n",
            "Epoch: 3 | train_loss: 0.5871 | train_acc: 0.8938 | test_loss: 0.4897 | test_acc: 0.9500\n",
            "Epoch: 4 | train_loss: 0.4480 | train_acc: 0.9104 | test_loss: 0.4342 | test_acc: 0.9318\n",
            "Epoch: 5 | train_loss: 0.4264 | train_acc: 0.9125 | test_loss: 0.3899 | test_acc: 0.9443\n",
            "Epoch: 6 | train_loss: 0.4377 | train_acc: 0.8896 | test_loss: 0.3513 | test_acc: 0.9688\n",
            "Epoch: 7 | train_loss: 0.4238 | train_acc: 0.8750 | test_loss: 0.3264 | test_acc: 0.9563\n",
            "Epoch: 8 | train_loss: 0.3881 | train_acc: 0.8979 | test_loss: 0.3458 | test_acc: 0.9443\n",
            "Epoch: 9 | train_loss: 0.3773 | train_acc: 0.8792 | test_loss: 0.3125 | test_acc: 0.9193\n",
            "Epoch: 10 | train_loss: 0.3739 | train_acc: 0.8688 | test_loss: 0.2809 | test_acc: 0.9688\n"
          ]
        }
      ]
    },
    {
      "cell_type": "code",
      "source": [
        "from helper_functions import plot_loss_curves\n",
        "\n",
        "plot_loss_curves(effnetb2_results)"
      ],
      "metadata": {
        "colab": {
          "base_uri": "https://localhost:8080/",
          "height": 334
        },
        "id": "ki9KVOIgKlU0",
        "outputId": "77746508-4074-4b26-d294-7b2b270200b5"
      },
      "execution_count": 14,
      "outputs": [
        {
          "output_type": "display_data",
          "data": {
            "text/plain": [
              "<Figure size 1080x504 with 2 Axes>"
            ],
            "image/png": "[encoded data removed]"
          },
          "metadata": {
            "needs_background": "light"
          }
        }
      ]
    },
    {
      "cell_type": "code",
      "source": [
        "from going_modular.going_modular import utils\n",
        "\n",
        "# Save the model\n",
        "utils.save_model(model=effnetb2,\n",
        "                 target_dir=\"models\",\n",
        "                 model_name=\"09_pretrained_effnetb2_feature_extractor_pizza_steak_sushi_20_percent.pth\")"
      ],
      "metadata": {
        "colab": {
          "base_uri": "https://localhost:8080/"
        },
        "id": "Wq2hn-C5KpFq",
        "outputId": "756356d0-2eb8-4eef-931a-4829ed786eb7"
      },
      "execution_count": 15,
      "outputs": [
        {
          "output_type": "stream",
          "name": "stdout",
          "text": [
            "[INFO] Saving model to: models/09_pretrained_effnetb2_feature_extractor_pizza_steak_sushi_20_percent.pth\n"
          ]
        }
      ]
    },
    {
      "cell_type": "code",
      "source": [
        "from pathlib import Path\n",
        "\n",
        "# Get the model size in bytes then convert to megabytes\n",
        "pretrained_effnetb2_model_size = Path(\"models/09_pretrained_effnetb2_feature_extractor_pizza_steak_sushi_20_percent.pth\").stat().st_size // (1024*1024) # division converts bytes to megabytes (roughly) \n",
        "print(f\"Pretrained EffNetB2 feature extractor model size: {pretrained_effnetb2_model_size} MB\")"
      ],
      "metadata": {
        "colab": {
          "base_uri": "https://localhost:8080/"
        },
        "id": "8qWBxKFvKr6z",
        "outputId": "02845f83-021d-41be-e58f-75c9d3144af5"
      },
      "execution_count": 16,
      "outputs": [
        {
          "output_type": "stream",
          "name": "stdout",
          "text": [
            "Pretrained EffNetB2 feature extractor model size: 29 MB\n"
          ]
        }
      ]
    },
    {
      "cell_type": "code",
      "source": [
        "# Count number of parameters in EffNetB2\n",
        "effnetb2_total_params = sum(torch.numel(param) for param in effnetb2.parameters())\n",
        "effnetb2_total_params"
      ],
      "metadata": {
        "colab": {
          "base_uri": "https://localhost:8080/"
        },
        "id": "UlrxEsyqK8Od",
        "outputId": "d2ccb466-ea31-4338-a014-e3be5c2c5c71"
      },
      "execution_count": 17,
      "outputs": [
        {
          "output_type": "execute_result",
          "data": {
            "text/plain": [
              "7705221"
            ]
          },
          "metadata": {},
          "execution_count": 17
        }
      ]
    },
    {
      "cell_type": "code",
      "source": [
        "# Create a dictionary with EffNetB2 statistics\n",
        "effnetb2_stats = {\"test_loss\": effnetb2_results[\"test_loss\"][-1],\n",
        "                  \"test_acc\": effnetb2_results[\"test_acc\"][-1],\n",
        "                  \"number_of_parameters\": effnetb2_total_params,\n",
        "                  \"model_size (MB)\": pretrained_effnetb2_model_size}\n",
        "effnetb2_stats"
      ],
      "metadata": {
        "colab": {
          "base_uri": "https://localhost:8080/"
        },
        "id": "KCafU955K_H9",
        "outputId": "c6967d46-4406-43cf-b09d-4dee3ecda831"
      },
      "execution_count": 18,
      "outputs": [
        {
          "output_type": "execute_result",
          "data": {
            "text/plain": [
              "{'test_loss': 0.28086441457271577,\n",
              " 'test_acc': 0.96875,\n",
              " 'number_of_parameters': 7705221,\n",
              " 'model_size (MB)': 29}"
            ]
          },
          "metadata": {},
          "execution_count": 18
        }
      ]
    },
    {
      "cell_type": "code",
      "source": [],
      "metadata": {
        "id": "b6CsD2kGLCU7"
      },
      "execution_count": null,
      "outputs": []
    },
    {
      "cell_type": "markdown",
      "source": [
        "## 3.0 Creating a ViT feature extractor"
      ],
      "metadata": {
        "id": "kSQ8x0HcLNje"
      }
    },
    {
      "cell_type": "code",
      "source": [
        "# Check out ViT heads layer\n",
        "vit = torchvision.models.vit_b_16()\n",
        "vit.heads"
      ],
      "metadata": {
        "colab": {
          "base_uri": "https://localhost:8080/"
        },
        "id": "UUUcNc_cLP9_",
        "outputId": "1d263df9-8e56-4ca6-dcc4-091e8c1e3541"
      },
      "execution_count": 19,
      "outputs": [
        {
          "output_type": "execute_result",
          "data": {
            "text/plain": [
              "Sequential(\n",
              "  (head): Linear(in_features=768, out_features=1000, bias=True)\n",
              ")"
            ]
          },
          "metadata": {},
          "execution_count": 19
        }
      ]
    },
    {
      "cell_type": "code",
      "source": [
        "def create_vit_model(num_classes:int=3, \n",
        "                     seed:int=42):\n",
        "    \"\"\"Creates a ViT-B/16 feature extractor model and transforms.\n",
        "\n",
        "    Args:\n",
        "        num_classes (int, optional): number of target classes. Defaults to 3.\n",
        "        seed (int, optional): random seed value for output layer. Defaults to 42.\n",
        "\n",
        "    Returns:\n",
        "        model (torch.nn.Module): ViT-B/16 feature extractor model. \n",
        "        transforms (torchvision.transforms): ViT-B/16 image transforms.\n",
        "    \"\"\"\n",
        "    # Create ViT_B_16 pretrained weights, transforms and model\n",
        "    weights = torchvision.models.ViT_B_16_Weights.DEFAULT\n",
        "    transforms = weights.transforms()\n",
        "    model = torchvision.models.vit_b_16(weights=weights)\n",
        "\n",
        "    # Freeze all layers in model\n",
        "    for param in model.parameters():\n",
        "        param.requires_grad = False\n",
        "\n",
        "    # Change classifier head to suit our needs (this will be trainable)\n",
        "    torch.manual_seed(seed)\n",
        "    model.heads = nn.Sequential(nn.Linear(in_features=768, # keep this the same as original model\n",
        "                                          out_features=num_classes)) # update to reflect target number of classes\n",
        "    \n",
        "    return model, transforms"
      ],
      "metadata": {
        "id": "QcAZTGnxLSzP"
      },
      "execution_count": 20,
      "outputs": []
    },
    {
      "cell_type": "code",
      "source": [
        "# Create ViT model and transforms\n",
        "vit, vit_transforms = create_vit_model(num_classes=3,\n",
        "                                       seed=42)"
      ],
      "metadata": {
        "colab": {
          "base_uri": "https://localhost:8080/",
          "height": 86,
          "referenced_widgets": [
            "6bab152d1290493695030e26b5674ee0",
            "9f49fdb9cdd549b08f85a7995858479f",
            "6b78c3d0c3b644c5be2e368bb1f58d5b",
            "2962d0aa7de948c982272ee9cf4b55ae",
            "5c75a450058f450eb67f0c853a6b4959",
            "8445e15e225b40d1adbec32029e3dabb",
            "ba219557f1254951afb89e2e4b95a628",
            "890b8bc6274a4fe8a1ce16f5603c0d13",
            "f62c3823b64d43e6816977539360da50",
            "67bfcd0af31f4c75b99c0cbc7d40e243",
            "6e4e0423b90c4b8a9224855d0a3b37db"
          ]
        },
        "id": "bknZfNHFLUc6",
        "outputId": "16cd2b27-1418-4865-c800-1f6147b6f0d4"
      },
      "execution_count": 21,
      "outputs": [
        {
          "output_type": "stream",
          "name": "stderr",
          "text": [
            "Downloading: \"https://download.pytorch.org/models/vit_b_16-c867db91.pth\" to /root/.cache/torch/hub/checkpoints/vit_b_16-c867db91.pth\n"
          ]
        },
        {
          "output_type": "display_data",
          "data": {
            "text/plain": [
              "  0%|          | 0.00/330M [00:00<?, ?B/s]"
            ],
            "application/vnd.jupyter.widget-view+json": {
              "version_major": 2,
              "version_minor": 0,
              "model_id": "6bab152d1290493695030e26b5674ee0"
            }
          },
          "metadata": {}
        }
      ]
    },
    {
      "cell_type": "code",
      "source": [
        "from torchinfo import summary\n",
        "\n",
        "# # Print ViT feature extractor model summary \n",
        "summary(vit, \n",
        "        input_size=(1, 3, 224, 224),\n",
        "        col_names=[\"input_size\", \"output_size\", \"num_params\", \"trainable\"],\n",
        "        col_width=20,\n",
        "        row_settings=[\"var_names\"])"
      ],
      "metadata": {
        "colab": {
          "base_uri": "https://localhost:8080/"
        },
        "id": "gHuTx7VOLX3m",
        "outputId": "eb8708a7-8a6e-47cf-b3ea-b308b2efacf3"
      },
      "execution_count": 22,
      "outputs": [
        {
          "output_type": "execute_result",
          "data": {
            "text/plain": [
              "============================================================================================================================================\n",
              "Layer (type (var_name))                                      Input Shape          Output Shape         Param #              Trainable\n",
              "============================================================================================================================================\n",
              "VisionTransformer (VisionTransformer)                        [1, 3, 224, 224]     [1, 3]               768                  Partial\n",
              "├─Conv2d (conv_proj)                                         [1, 3, 224, 224]     [1, 768, 14, 14]     (590,592)            False\n",
              "├─Encoder (encoder)                                          [1, 197, 768]        [1, 197, 768]        151,296              False\n",
              "│    └─Dropout (dropout)                                     [1, 197, 768]        [1, 197, 768]        --                   --\n",
              "│    └─Sequential (layers)                                   [1, 197, 768]        [1, 197, 768]        --                   False\n",
              "│    │    └─EncoderBlock (encoder_layer_0)                   [1, 197, 768]        [1, 197, 768]        (7,087,872)          False\n",
              "│    │    └─EncoderBlock (encoder_layer_1)                   [1, 197, 768]        [1, 197, 768]        (7,087,872)          False\n",
              "│    │    └─EncoderBlock (encoder_layer_2)                   [1, 197, 768]        [1, 197, 768]        (7,087,872)          False\n",
              "│    │    └─EncoderBlock (encoder_layer_3)                   [1, 197, 768]        [1, 197, 768]        (7,087,872)          False\n",
              "│    │    └─EncoderBlock (encoder_layer_4)                   [1, 197, 768]        [1, 197, 768]        (7,087,872)          False\n",
              "│    │    └─EncoderBlock (encoder_layer_5)                   [1, 197, 768]        [1, 197, 768]        (7,087,872)          False\n",
              "│    │    └─EncoderBlock (encoder_layer_6)                   [1, 197, 768]        [1, 197, 768]        (7,087,872)          False\n",
              "│    │    └─EncoderBlock (encoder_layer_7)                   [1, 197, 768]        [1, 197, 768]        (7,087,872)          False\n",
              "│    │    └─EncoderBlock (encoder_layer_8)                   [1, 197, 768]        [1, 197, 768]        (7,087,872)          False\n",
              "│    │    └─EncoderBlock (encoder_layer_9)                   [1, 197, 768]        [1, 197, 768]        (7,087,872)          False\n",
              "│    │    └─EncoderBlock (encoder_layer_10)                  [1, 197, 768]        [1, 197, 768]        (7,087,872)          False\n",
              "│    │    └─EncoderBlock (encoder_layer_11)                  [1, 197, 768]        [1, 197, 768]        (7,087,872)          False\n",
              "│    └─LayerNorm (ln)                                        [1, 197, 768]        [1, 197, 768]        (1,536)              False\n",
              "├─Sequential (heads)                                         [1, 768]             [1, 3]               --                   True\n",
              "│    └─Linear (0)                                            [1, 768]             [1, 3]               2,307                True\n",
              "============================================================================================================================================\n",
              "Total params: 85,800,963\n",
              "Trainable params: 2,307\n",
              "Non-trainable params: 85,798,656\n",
              "Total mult-adds (M): 172.47\n",
              "============================================================================================================================================\n",
              "Input size (MB): 0.60\n",
              "Forward/backward pass size (MB): 104.09\n",
              "Params size (MB): 229.20\n",
              "Estimated Total Size (MB): 333.89\n",
              "============================================================================================================================================"
            ]
          },
          "metadata": {},
          "execution_count": 22
        }
      ]
    },
    {
      "cell_type": "code",
      "source": [
        "# Setup ViT DataLoaders\n",
        "from going_modular.going_modular import data_setup\n",
        "train_dataloader_vit, test_dataloader_vit, class_names = data_setup.create_dataloaders(train_dir=train_dir,\n",
        "                                                                                       test_dir=test_dir,\n",
        "                                                                                       transform=vit_transforms,\n",
        "                                                                                       batch_size=32)"
      ],
      "metadata": {
        "id": "tEFToMDWLcQf"
      },
      "execution_count": 23,
      "outputs": []
    },
    {
      "cell_type": "code",
      "source": [
        "from going_modular.going_modular import engine\n",
        "\n",
        "# Setup optimizer\n",
        "optimizer = torch.optim.Adam(params=vit.parameters(),\n",
        "                             lr=1e-3)\n",
        "# Setup loss function\n",
        "loss_fn = torch.nn.CrossEntropyLoss()\n",
        "\n",
        "# Train ViT model with seeds set for reproducibility\n",
        "set_seeds()\n",
        "vit_results = engine.train(model=vit,\n",
        "                           train_dataloader=train_dataloader_vit,\n",
        "                           test_dataloader=test_dataloader_vit,\n",
        "                           epochs=10,\n",
        "                           optimizer=optimizer,\n",
        "                           loss_fn=loss_fn,\n",
        "                           device=device)"
      ],
      "metadata": {
        "colab": {
          "base_uri": "https://localhost:8080/",
          "height": 243,
          "referenced_widgets": [
            "3306df18860a4759b7160e2b99f9e9f5",
            "f89f0061cb4a45fca682bae26f24b132",
            "a8d882fe0fbb4d7b8ce1548655766768",
            "8ee9ed59a57c42f7aa0f7e0054d12096",
            "9b0981db9bec46e28e5764dbc77bbe52",
            "0f9cb3eecada4a2f8d246027b163ac96",
            "837da5b582514a1d8b1d3643e78cbab3",
            "5a8cac0ec0ec440fa652c80769652877",
            "205e8bd3e94e45cf814b5cb55f0764ed",
            "95b17f0109d5433bbe4c2f998869debf",
            "4011800831de49c79449ccb70edf64c9"
          ]
        },
        "id": "_uSkVLoeLffy",
        "outputId": "e7ca7737-6603-4d18-aed2-8c1455d07fa0"
      },
      "execution_count": 24,
      "outputs": [
        {
          "output_type": "display_data",
          "data": {
            "text/plain": [
              "  0%|          | 0/10 [00:00<?, ?it/s]"
            ],
            "application/vnd.jupyter.widget-view+json": {
              "version_major": 2,
              "version_minor": 0,
              "model_id": "3306df18860a4759b7160e2b99f9e9f5"
            }
          },
          "metadata": {}
        },
        {
          "output_type": "stream",
          "name": "stdout",
          "text": [
            "Epoch: 1 | train_loss: 0.7023 | train_acc: 0.7500 | test_loss: 0.2714 | test_acc: 0.9290\n",
            "Epoch: 2 | train_loss: 0.2531 | train_acc: 0.9104 | test_loss: 0.1669 | test_acc: 0.9602\n",
            "Epoch: 3 | train_loss: 0.1766 | train_acc: 0.9542 | test_loss: 0.1270 | test_acc: 0.9693\n",
            "Epoch: 4 | train_loss: 0.1277 | train_acc: 0.9625 | test_loss: 0.1072 | test_acc: 0.9722\n",
            "Epoch: 5 | train_loss: 0.1163 | train_acc: 0.9646 | test_loss: 0.0950 | test_acc: 0.9784\n",
            "Epoch: 6 | train_loss: 0.1270 | train_acc: 0.9375 | test_loss: 0.0830 | test_acc: 0.9722\n",
            "Epoch: 7 | train_loss: 0.0899 | train_acc: 0.9771 | test_loss: 0.0844 | test_acc: 0.9784\n",
            "Epoch: 8 | train_loss: 0.0928 | train_acc: 0.9812 | test_loss: 0.0759 | test_acc: 0.9722\n",
            "Epoch: 9 | train_loss: 0.0933 | train_acc: 0.9792 | test_loss: 0.0729 | test_acc: 0.9784\n",
            "Epoch: 10 | train_loss: 0.0662 | train_acc: 0.9833 | test_loss: 0.0642 | test_acc: 0.9847\n"
          ]
        }
      ]
    },
    {
      "cell_type": "code",
      "source": [
        "from helper_functions import plot_loss_curves\n",
        "\n",
        "plot_loss_curves(vit_results)"
      ],
      "metadata": {
        "colab": {
          "base_uri": "https://localhost:8080/",
          "height": 334
        },
        "id": "AW5Zks54LhlY",
        "outputId": "bdcd9508-d341-4e43-a0c9-63e5629ce1a9"
      },
      "execution_count": 25,
      "outputs": [
        {
          "output_type": "display_data",
          "data": {
            "text/plain": [
              "<Figure size 1080x504 with 2 Axes>"
            ],
            "image/png": "[encoded data removed]"
          },
          "metadata": {
            "needs_background": "light"
          }
        }
      ]
    },
    {
      "cell_type": "code",
      "source": [
        "# Save the model\n",
        "from going_modular.going_modular import utils\n",
        "\n",
        "utils.save_model(model=vit,\n",
        "                 target_dir=\"models\",\n",
        "                 model_name=\"09_pretrained_vit_feature_extractor_pizza_steak_sushi_20_percent.pth\")"
      ],
      "metadata": {
        "colab": {
          "base_uri": "https://localhost:8080/"
        },
        "id": "r9COOojzLlTd",
        "outputId": "e6b30fec-167f-4361-cd4f-f156a0eb1664"
      },
      "execution_count": 26,
      "outputs": [
        {
          "output_type": "stream",
          "name": "stdout",
          "text": [
            "[INFO] Saving model to: models/09_pretrained_vit_feature_extractor_pizza_steak_sushi_20_percent.pth\n"
          ]
        }
      ]
    },
    {
      "cell_type": "code",
      "source": [
        "from pathlib import Path\n",
        "\n",
        "# Get the model size in bytes then convert to megabytes\n",
        "pretrained_vit_model_size = Path(\"models/09_pretrained_vit_feature_extractor_pizza_steak_sushi_20_percent.pth\").stat().st_size // (1024*1024) # division converts bytes to megabytes (roughly) \n",
        "print(f\"Pretrained ViT feature extractor model size: {pretrained_vit_model_size} MB\")"
      ],
      "metadata": {
        "colab": {
          "base_uri": "https://localhost:8080/"
        },
        "id": "jjrxerfdLncg",
        "outputId": "7003a08e-d730-42e0-f530-2ab27173371d"
      },
      "execution_count": 27,
      "outputs": [
        {
          "output_type": "stream",
          "name": "stdout",
          "text": [
            "Pretrained ViT feature extractor model size: 327 MB\n"
          ]
        }
      ]
    },
    {
      "cell_type": "code",
      "source": [
        "# Count number of parameters in ViT\n",
        "vit_total_params = sum(torch.numel(param) for param in vit.parameters())\n",
        "vit_total_params"
      ],
      "metadata": {
        "colab": {
          "base_uri": "https://localhost:8080/"
        },
        "id": "_KGBALZwLpYD",
        "outputId": "abb591e8-cf96-4ddc-cb6d-3b53d79b8024"
      },
      "execution_count": 28,
      "outputs": [
        {
          "output_type": "execute_result",
          "data": {
            "text/plain": [
              "85800963"
            ]
          },
          "metadata": {},
          "execution_count": 28
        }
      ]
    },
    {
      "cell_type": "code",
      "source": [
        "# Create ViT statistics dictionary\n",
        "vit_stats = {\"test_loss\": vit_results[\"test_loss\"][-1],\n",
        "             \"test_acc\": vit_results[\"test_acc\"][-1],\n",
        "             \"number_of_parameters\": vit_total_params,\n",
        "             \"model_size (MB)\": pretrained_vit_model_size}\n",
        "\n",
        "vit_stats"
      ],
      "metadata": {
        "colab": {
          "base_uri": "https://localhost:8080/"
        },
        "id": "4DoQTZa5LrbM",
        "outputId": "1086cfa1-160d-42bd-dbe0-d946502d2b71"
      },
      "execution_count": 29,
      "outputs": [
        {
          "output_type": "execute_result",
          "data": {
            "text/plain": [
              "{'test_loss': 0.06418211054988206,\n",
              " 'test_acc': 0.984659090909091,\n",
              " 'number_of_parameters': 85800963,\n",
              " 'model_size (MB)': 327}"
            ]
          },
          "metadata": {},
          "execution_count": 29
        }
      ]
    },
    {
      "cell_type": "markdown",
      "source": [
        "## 4.0 Making predictions with our trained models and timing them"
      ],
      "metadata": {
        "id": "GkZEovrOLwE5"
      }
    },
    {
      "cell_type": "code",
      "source": [
        "from pathlib import Path\n",
        "\n",
        "# Get all test data paths\n",
        "print(f\"[INFO] Finding all filepaths ending with '.jpg' in directory: {test_dir}\")\n",
        "test_data_paths = list(Path(test_dir).glob(\"*/*.jpg\"))\n",
        "test_data_paths[:5]"
      ],
      "metadata": {
        "colab": {
          "base_uri": "https://localhost:8080/"
        },
        "id": "ikUlR4nKLtmH",
        "outputId": "dcc344f8-74ac-4c46-9085-3b0f08df7194"
      },
      "execution_count": 30,
      "outputs": [
        {
          "output_type": "stream",
          "name": "stdout",
          "text": [
            "[INFO] Finding all filepaths ending with '.jpg' in directory: data/pizza_steak_sushi_20_percent/test\n"
          ]
        },
        {
          "output_type": "execute_result",
          "data": {
            "text/plain": [
              "[PosixPath('data/pizza_steak_sushi_20_percent/test/sushi/472912.jpg'),\n",
              " PosixPath('data/pizza_steak_sushi_20_percent/test/sushi/3227791.jpg'),\n",
              " PosixPath('data/pizza_steak_sushi_20_percent/test/sushi/2903621.jpg'),\n",
              " PosixPath('data/pizza_steak_sushi_20_percent/test/sushi/1063878.jpg'),\n",
              " PosixPath('data/pizza_steak_sushi_20_percent/test/sushi/715227.jpg')]"
            ]
          },
          "metadata": {},
          "execution_count": 30
        }
      ]
    },
    {
      "cell_type": "code",
      "source": [
        "import pathlib\n",
        "import torch\n",
        "\n",
        "from PIL import Image\n",
        "from timeit import default_timer as timer \n",
        "from tqdm.auto import tqdm\n",
        "from typing import List, Dict\n",
        "\n",
        "# 1. Create a function to return a list of dictionaries with sample, truth label, prediction, prediction probability and prediction time\n",
        "def pred_and_store(paths: List[pathlib.Path], \n",
        "                   model: torch.nn.Module,\n",
        "                   transform: torchvision.transforms, \n",
        "                   class_names: List[str], \n",
        "                   device: str = \"cuda\" if torch.cuda.is_available() else \"cpu\") -> List[Dict]:\n",
        "    \n",
        "    # 2. Create an empty list to store prediction dictionaires\n",
        "    pred_list = []\n",
        "    \n",
        "    # 3. Loop through target paths\n",
        "    for path in tqdm(paths):\n",
        "        \n",
        "        # 4. Create empty dictionary to store prediction information for each sample\n",
        "        pred_dict = {}\n",
        "\n",
        "        # 5. Get the sample path and ground truth class name\n",
        "        pred_dict[\"image_path\"] = path\n",
        "        class_name = path.parent.stem\n",
        "        pred_dict[\"class_name\"] = class_name\n",
        "        \n",
        "        # 6. Start the prediction timer\n",
        "        start_time = timer()\n",
        "        \n",
        "        # 7. Open image path\n",
        "        img = Image.open(path)\n",
        "        \n",
        "        # 8. Transform the image, add batch dimension and put image on target device\n",
        "        transformed_image = transform(img).unsqueeze(0).to(device) \n",
        "        \n",
        "        # 9. Prepare model for inference by sending it to target device and turning on eval() mode\n",
        "        model.to(device)\n",
        "        model.eval()\n",
        "        \n",
        "        # 10. Get prediction probability, predicition label and prediction class\n",
        "        with torch.inference_mode():\n",
        "            pred_logit = model(transformed_image) # perform inference on target sample \n",
        "            pred_prob = torch.softmax(pred_logit, dim=1) # turn logits into prediction probabilities\n",
        "            pred_label = torch.argmax(pred_prob, dim=1) # turn prediction probabilities into prediction label\n",
        "            pred_class = class_names[pred_label.cpu()] # hardcode prediction class to be on CPU\n",
        "\n",
        "            # 11. Make sure things in the dictionary are on CPU (required for inspecting predictions later on) \n",
        "            pred_dict[\"pred_prob\"] = round(pred_prob.unsqueeze(0).max().cpu().item(), 4)\n",
        "            pred_dict[\"pred_class\"] = pred_class\n",
        "            \n",
        "            # 12. End the timer and calculate time per pred\n",
        "            end_time = timer()\n",
        "            pred_dict[\"time_for_pred\"] = round(end_time-start_time, 4)\n",
        "\n",
        "        # 13. Does the pred match the true label?\n",
        "        pred_dict[\"correct\"] = class_name == pred_class\n",
        "\n",
        "        # 14. Add the dictionary to the list of preds\n",
        "        pred_list.append(pred_dict)\n",
        "    \n",
        "    # 15. Return list of prediction dictionaries\n",
        "    return pred_list"
      ],
      "metadata": {
        "id": "56lw7PnmL0of"
      },
      "execution_count": 31,
      "outputs": []
    },
    {
      "cell_type": "code",
      "source": [
        "# Make predictions across test dataset with EffNetB2\n",
        "effnetb2_test_pred_dicts = pred_and_store(paths=test_data_paths,\n",
        "                                          model=effnetb2,\n",
        "                                          transform=effnetb2_transforms,\n",
        "                                          class_names=class_names,\n",
        "                                          device=\"cpu\") # make predictions on CPU "
      ],
      "metadata": {
        "colab": {
          "base_uri": "https://localhost:8080/",
          "height": 49,
          "referenced_widgets": [
            "918cc9d4dbb144c8bad315e834081e60",
            "6ed81d78c6a844788870d7ce4b06e2cd",
            "fe6726c045174b288fba10533c3f05e8",
            "47857bce65dc419f8ca7d605ebf7359f",
            "7ee0e8697b044fed9057a848abb75cbb",
            "d77e003c231c42f58d279c3d35b3883f",
            "66b313e6f66b4cd1b4ec4eb7c6d5426f",
            "cd3150c486634a70834519c1eb3b774e",
            "d40c25e3681f4894b8066810a4cd7c71",
            "e8e9e2a1be574dbd9a27db358bb95744",
            "65df0068e8e54dd2a9535913ace633b5"
          ]
        },
        "id": "djpEndkmL7XM",
        "outputId": "75500c47-3899-4240-9b16-dc3a980389e8"
      },
      "execution_count": 32,
      "outputs": [
        {
          "output_type": "display_data",
          "data": {
            "text/plain": [
              "  0%|          | 0/150 [00:00<?, ?it/s]"
            ],
            "application/vnd.jupyter.widget-view+json": {
              "version_major": 2,
              "version_minor": 0,
              "model_id": "918cc9d4dbb144c8bad315e834081e60"
            }
          },
          "metadata": {}
        }
      ]
    },
    {
      "cell_type": "code",
      "source": [
        "# Inspect the first 2 prediction dictionaries\n",
        "effnetb2_test_pred_dicts[:2]"
      ],
      "metadata": {
        "colab": {
          "base_uri": "https://localhost:8080/"
        },
        "id": "ERbmMI3gMEOD",
        "outputId": "1a1d2b2d-9d8b-4c83-8356-723f8b37b138"
      },
      "execution_count": 33,
      "outputs": [
        {
          "output_type": "execute_result",
          "data": {
            "text/plain": [
              "[{'image_path': PosixPath('data/pizza_steak_sushi_20_percent/test/sushi/472912.jpg'),\n",
              "  'class_name': 'sushi',\n",
              "  'pred_prob': 0.6727,\n",
              "  'pred_class': 'sushi',\n",
              "  'time_for_pred': 0.2559,\n",
              "  'correct': True},\n",
              " {'image_path': PosixPath('data/pizza_steak_sushi_20_percent/test/sushi/3227791.jpg'),\n",
              "  'class_name': 'sushi',\n",
              "  'pred_prob': 0.8664,\n",
              "  'pred_class': 'sushi',\n",
              "  'time_for_pred': 0.1025,\n",
              "  'correct': True}]"
            ]
          },
          "metadata": {},
          "execution_count": 33
        }
      ]
    },
    {
      "cell_type": "code",
      "source": [
        "# Turn the test_pred_dicts into a DataFrame\n",
        "import pandas as pd\n",
        "effnetb2_test_pred_df = pd.DataFrame(effnetb2_test_pred_dicts)\n",
        "effnetb2_test_pred_df.head()"
      ],
      "metadata": {
        "colab": {
          "base_uri": "https://localhost:8080/",
          "height": 270
        },
        "id": "6lOUr6lnMGj6",
        "outputId": "a68d6957-c3d9-4652-8a04-eadad3d76220"
      },
      "execution_count": 34,
      "outputs": [
        {
          "output_type": "execute_result",
          "data": {
            "text/plain": [
              "                                          image_path class_name  pred_prob  \\\n",
              "0  data/pizza_steak_sushi_20_percent/test/sushi/4...      sushi     0.6727   \n",
              "1  data/pizza_steak_sushi_20_percent/test/sushi/3...      sushi     0.8664   \n",
              "2  data/pizza_steak_sushi_20_percent/test/sushi/2...      sushi     0.7458   \n",
              "3  data/pizza_steak_sushi_20_percent/test/sushi/1...      sushi     0.9626   \n",
              "4  data/pizza_steak_sushi_20_percent/test/sushi/7...      sushi     0.7316   \n",
              "\n",
              "  pred_class  time_for_pred  correct  \n",
              "0      sushi         0.2559     True  \n",
              "1      sushi         0.1025     True  \n",
              "2      sushi         0.1507     True  \n",
              "3      sushi         0.1567     True  \n",
              "4      sushi         0.1605     True  "
            ],
            "text/html": [
              "\n",
              "  <div id=\"df-b6e2cd7d-d2d0-424a-a219-899607541a0e\">\n",
              "    <div class=\"colab-df-container\">\n",
              "      <div>\n",
              "<style scoped>\n",
              "    .dataframe tbody tr th:only-of-type {\n",
              "        vertical-align: middle;\n",
              "    }\n",
              "\n",
              "    .dataframe tbody tr th {\n",
              "        vertical-align: top;\n",
              "    }\n",
              "\n",
              "    .dataframe thead th {\n",
              "        text-align: right;\n",
              "    }\n",
              "</style>\n",
              "<table border=\"1\" class=\"dataframe\">\n",
              "  <thead>\n",
              "    <tr style=\"text-align: right;\">\n",
              "      <th></th>\n",
              "      <th>image_path</th>\n",
              "      <th>class_name</th>\n",
              "      <th>pred_prob</th>\n",
              "      <th>pred_class</th>\n",
              "      <th>time_for_pred</th>\n",
              "      <th>correct</th>\n",
              "    </tr>\n",
              "  </thead>\n",
              "  <tbody>\n",
              "    <tr>\n",
              "      <th>0</th>\n",
              "      <td>data/pizza_steak_sushi_20_percent/test/sushi/4...</td>\n",
              "      <td>sushi</td>\n",
              "      <td>0.6727</td>\n",
              "      <td>sushi</td>\n",
              "      <td>0.2559</td>\n",
              "      <td>True</td>\n",
              "    </tr>\n",
              "    <tr>\n",
              "      <th>1</th>\n",
              "      <td>data/pizza_steak_sushi_20_percent/test/sushi/3...</td>\n",
              "      <td>sushi</td>\n",
              "      <td>0.8664</td>\n",
              "      <td>sushi</td>\n",
              "      <td>0.1025</td>\n",
              "      <td>True</td>\n",
              "    </tr>\n",
              "    <tr>\n",
              "      <th>2</th>\n",
              "      <td>data/pizza_steak_sushi_20_percent/test/sushi/2...</td>\n",
              "      <td>sushi</td>\n",
              "      <td>0.7458</td>\n",
              "      <td>sushi</td>\n",
              "      <td>0.1507</td>\n",
              "      <td>True</td>\n",
              "    </tr>\n",
              "    <tr>\n",
              "      <th>3</th>\n",
              "      <td>data/pizza_steak_sushi_20_percent/test/sushi/1...</td>\n",
              "      <td>sushi</td>\n",
              "      <td>0.9626</td>\n",
              "      <td>sushi</td>\n",
              "      <td>0.1567</td>\n",
              "      <td>True</td>\n",
              "    </tr>\n",
              "    <tr>\n",
              "      <th>4</th>\n",
              "      <td>data/pizza_steak_sushi_20_percent/test/sushi/7...</td>\n",
              "      <td>sushi</td>\n",
              "      <td>0.7316</td>\n",
              "      <td>sushi</td>\n",
              "      <td>0.1605</td>\n",
              "      <td>True</td>\n",
              "    </tr>\n",
              "  </tbody>\n",
              "</table>\n",
              "</div>\n",
              "      <button class=\"colab-df-convert\" onclick=\"convertToInteractive('df-b6e2cd7d-d2d0-424a-a219-899607541a0e')\"\n",
              "              title=\"Convert this dataframe to an interactive table.\"\n",
              "              style=\"display:none;\">\n",
              "        \n",
              "  <svg xmlns=\"http://www.w3.org/2000/svg\" height=\"24px\"viewBox=\"0 0 24 24\"\n",
              "       width=\"24px\">\n",
              "    <path d=\"M0 0h24v24H0V0z\" fill=\"none\"/>\n",
              "    <path d=\"M18.56 5.44l.94 2.06.94-2.06 2.06-.94-2.06-.94-.94-2.06-.94 2.06-2.06.94zm-11 1L8.5 8.5l.94-2.06 2.06-.94-2.06-.94L8.5 2.5l-.94 2.06-2.06.94zm10 10l.94 2.06.94-2.06 2.06-.94-2.06-.94-.94-2.06-.94 2.06-2.06.94z\"/><path d=\"M17.41 7.96l-1.37-1.37c-.4-.4-.92-.59-1.43-.59-.52 0-1.04.2-1.43.59L10.3 9.45l-7.72 7.72c-.78.78-.78 2.05 0 2.83L4 21.41c.39.39.9.59 1.41.59.51 0 1.02-.2 1.41-.59l7.78-7.78 2.81-2.81c.8-.78.8-2.07 0-2.86zM5.41 20L4 18.59l7.72-7.72 1.47 1.35L5.41 20z\"/>\n",
              "  </svg>\n",
              "      </button>\n",
              "      \n",
              "  <style>\n",
              "    .colab-df-container {\n",
              "      display:flex;\n",
              "      flex-wrap:wrap;\n",
              "      gap: 12px;\n",
              "    }\n",
              "\n",
              "    .colab-df-convert {\n",
              "      background-color: #E8F0FE;\n",
              "      border: none;\n",
              "      border-radius: 50%;\n",
              "      cursor: pointer;\n",
              "      display: none;\n",
              "      fill: #1967D2;\n",
              "      height: 32px;\n",
              "      padding: 0 0 0 0;\n",
              "      width: 32px;\n",
              "    }\n",
              "\n",
              "    .colab-df-convert:hover {\n",
              "      background-color: #E2EBFA;\n",
              "      box-shadow: 0px 1px 2px rgba(60, 64, 67, 0.3), 0px 1px 3px 1px rgba(60, 64, 67, 0.15);\n",
              "      fill: #174EA6;\n",
              "    }\n",
              "\n",
              "    [theme=dark] .colab-df-convert {\n",
              "      background-color: #3B4455;\n",
              "      fill: #D2E3FC;\n",
              "    }\n",
              "\n",
              "    [theme=dark] .colab-df-convert:hover {\n",
              "      background-color: #434B5C;\n",
              "      box-shadow: 0px 1px 3px 1px rgba(0, 0, 0, 0.15);\n",
              "      filter: drop-shadow(0px 1px 2px rgba(0, 0, 0, 0.3));\n",
              "      fill: #FFFFFF;\n",
              "    }\n",
              "  </style>\n",
              "\n",
              "      <script>\n",
              "        const buttonEl =\n",
              "          document.querySelector('#df-b6e2cd7d-d2d0-424a-a219-899607541a0e button.colab-df-convert');\n",
              "        buttonEl.style.display =\n",
              "          google.colab.kernel.accessAllowed ? 'block' : 'none';\n",
              "\n",
              "        async function convertToInteractive(key) {\n",
              "          const element = document.querySelector('#df-b6e2cd7d-d2d0-424a-a219-899607541a0e');\n",
              "          const dataTable =\n",
              "            await google.colab.kernel.invokeFunction('convertToInteractive',\n",
              "                                                     [key], {});\n",
              "          if (!dataTable) return;\n",
              "\n",
              "          const docLinkHtml = 'Like what you see? Visit the ' +\n",
              "            '<a target=\"_blank\" href=https://colab.research.google.com/notebooks/data_table.ipynb>data table notebook</a>'\n",
              "            + ' to learn more about interactive tables.';\n",
              "          element.innerHTML = '';\n",
              "          dataTable['output_type'] = 'display_data';\n",
              "          await google.colab.output.renderOutput(dataTable, element);\n",
              "          const docLink = document.createElement('div');\n",
              "          docLink.innerHTML = docLinkHtml;\n",
              "          element.appendChild(docLink);\n",
              "        }\n",
              "      </script>\n",
              "    </div>\n",
              "  </div>\n",
              "  "
            ]
          },
          "metadata": {},
          "execution_count": 34
        }
      ]
    },
    {
      "cell_type": "code",
      "source": [
        "# Check number of correct predictions\n",
        "effnetb2_test_pred_df.correct.value_counts()"
      ],
      "metadata": {
        "colab": {
          "base_uri": "https://localhost:8080/"
        },
        "id": "EqnPe0DTMJBL",
        "outputId": "e7625dd3-cdef-4452-d07a-478a7386de6e"
      },
      "execution_count": 35,
      "outputs": [
        {
          "output_type": "execute_result",
          "data": {
            "text/plain": [
              "True     145\n",
              "False      5\n",
              "Name: correct, dtype: int64"
            ]
          },
          "metadata": {},
          "execution_count": 35
        }
      ]
    },
    {
      "cell_type": "code",
      "source": [
        "# Find the average time per prediction \n",
        "effnetb2_average_time_per_pred = round(effnetb2_test_pred_df.time_for_pred.mean(), 4)\n",
        "print(f\"EffNetB2 average time per prediction: {effnetb2_average_time_per_pred} seconds\")"
      ],
      "metadata": {
        "colab": {
          "base_uri": "https://localhost:8080/"
        },
        "id": "uJ0nbMmMMOKC",
        "outputId": "4a0fa86b-d356-4f16-f037-d49093072500"
      },
      "execution_count": 36,
      "outputs": [
        {
          "output_type": "stream",
          "name": "stdout",
          "text": [
            "EffNetB2 average time per prediction: 0.1351 seconds\n"
          ]
        }
      ]
    },
    {
      "cell_type": "code",
      "source": [
        "# Add EffNetB2 average prediction time to stats dictionary \n",
        "effnetb2_stats[\"time_per_pred_cpu\"] = effnetb2_average_time_per_pred\n",
        "effnetb2_stats"
      ],
      "metadata": {
        "colab": {
          "base_uri": "https://localhost:8080/"
        },
        "id": "puShm8XHMPth",
        "outputId": "f6f978fb-77f6-42f8-8d84-80ba39698389"
      },
      "execution_count": 37,
      "outputs": [
        {
          "output_type": "execute_result",
          "data": {
            "text/plain": [
              "{'test_loss': 0.28086441457271577,\n",
              " 'test_acc': 0.96875,\n",
              " 'number_of_parameters': 7705221,\n",
              " 'model_size (MB)': 29,\n",
              " 'time_per_pred_cpu': 0.1351}"
            ]
          },
          "metadata": {},
          "execution_count": 37
        }
      ]
    },
    {
      "cell_type": "code",
      "source": [
        "# Make list of prediction dictionaries with ViT feature extractor model on test images\n",
        "vit_test_pred_dicts = pred_and_store(paths=test_data_paths,\n",
        "                                     model=vit,\n",
        "                                     transform=vit_transforms,\n",
        "                                     class_names=class_names,\n",
        "                                     device=\"cpu\")"
      ],
      "metadata": {
        "colab": {
          "base_uri": "https://localhost:8080/",
          "height": 49,
          "referenced_widgets": [
            "dc89cff036ac4de3b8aca09a00065564",
            "33f50f1322de4b3db5c1afc1de6b7cac",
            "17dd1ac1252f4967b75c93b78eb895e6",
            "430308377afe490e9c66ae386438ebc9",
            "e27b825776ca46e292914f6cc3b60de7",
            "2fec113d6bdc4023960de76b3d93d029",
            "fe15f1fa8b7244c3b0f6c2a871e529cb",
            "5ed12ee3e0ac499a9b6ea53e809b9c5e",
            "da374db5a86148148a8dff1d1b885ed0",
            "9ae8c036ec6e40f8b5ddcab58be0e06b",
            "7f78f338c35d48c2982086e9373554ab"
          ]
        },
        "id": "NSuh2mBtMUXU",
        "outputId": "bceec68e-efd8-415a-e2ff-e5869a61f870"
      },
      "execution_count": 38,
      "outputs": [
        {
          "output_type": "display_data",
          "data": {
            "text/plain": [
              "  0%|          | 0/150 [00:00<?, ?it/s]"
            ],
            "application/vnd.jupyter.widget-view+json": {
              "version_major": 2,
              "version_minor": 0,
              "model_id": "dc89cff036ac4de3b8aca09a00065564"
            }
          },
          "metadata": {}
        }
      ]
    },
    {
      "cell_type": "code",
      "source": [
        "# Check the first couple of ViT predictions on the test dataset\n",
        "vit_test_pred_dicts[:2]"
      ],
      "metadata": {
        "colab": {
          "base_uri": "https://localhost:8080/"
        },
        "id": "yc-73_pNMXur",
        "outputId": "14391e63-b8a0-4f67-da2f-5182d5a17b16"
      },
      "execution_count": 39,
      "outputs": [
        {
          "output_type": "execute_result",
          "data": {
            "text/plain": [
              "[{'image_path': PosixPath('data/pizza_steak_sushi_20_percent/test/sushi/472912.jpg'),\n",
              "  'class_name': 'sushi',\n",
              "  'pred_prob': 0.8311,\n",
              "  'pred_class': 'sushi',\n",
              "  'time_for_pred': 0.7918,\n",
              "  'correct': True},\n",
              " {'image_path': PosixPath('data/pizza_steak_sushi_20_percent/test/sushi/3227791.jpg'),\n",
              "  'class_name': 'sushi',\n",
              "  'pred_prob': 0.4956,\n",
              "  'pred_class': 'pizza',\n",
              "  'time_for_pred': 0.5337,\n",
              "  'correct': False}]"
            ]
          },
          "metadata": {},
          "execution_count": 39
        }
      ]
    },
    {
      "cell_type": "code",
      "source": [
        "# Turn vit_test_pred_dicts into a DataFrame\n",
        "import pandas as pd\n",
        "vit_test_pred_df = pd.DataFrame(vit_test_pred_dicts)\n",
        "vit_test_pred_df.head()"
      ],
      "metadata": {
        "colab": {
          "base_uri": "https://localhost:8080/",
          "height": 270
        },
        "id": "TWiR0izOMaxo",
        "outputId": "597014a5-a892-4236-e8d1-63886b864063"
      },
      "execution_count": 40,
      "outputs": [
        {
          "output_type": "execute_result",
          "data": {
            "text/plain": [
              "                                          image_path class_name  pred_prob  \\\n",
              "0  data/pizza_steak_sushi_20_percent/test/sushi/4...      sushi     0.8311   \n",
              "1  data/pizza_steak_sushi_20_percent/test/sushi/3...      sushi     0.4956   \n",
              "2  data/pizza_steak_sushi_20_percent/test/sushi/2...      sushi     0.9039   \n",
              "3  data/pizza_steak_sushi_20_percent/test/sushi/1...      sushi     0.9668   \n",
              "4  data/pizza_steak_sushi_20_percent/test/sushi/7...      sushi     0.9859   \n",
              "\n",
              "  pred_class  time_for_pred  correct  \n",
              "0      sushi         0.7918     True  \n",
              "1      pizza         0.5337    False  \n",
              "2      sushi         0.5209     True  \n",
              "3      sushi         0.5218     True  \n",
              "4      sushi         0.5397     True  "
            ],
            "text/html": [
              "\n",
              "  <div id=\"df-523b4f6c-c6d1-4ddf-929a-6561ef1055d2\">\n",
              "    <div class=\"colab-df-container\">\n",
              "      <div>\n",
              "<style scoped>\n",
              "    .dataframe tbody tr th:only-of-type {\n",
              "        vertical-align: middle;\n",
              "    }\n",
              "\n",
              "    .dataframe tbody tr th {\n",
              "        vertical-align: top;\n",
              "    }\n",
              "\n",
              "    .dataframe thead th {\n",
              "        text-align: right;\n",
              "    }\n",
              "</style>\n",
              "<table border=\"1\" class=\"dataframe\">\n",
              "  <thead>\n",
              "    <tr style=\"text-align: right;\">\n",
              "      <th></th>\n",
              "      <th>image_path</th>\n",
              "      <th>class_name</th>\n",
              "      <th>pred_prob</th>\n",
              "      <th>pred_class</th>\n",
              "      <th>time_for_pred</th>\n",
              "      <th>correct</th>\n",
              "    </tr>\n",
              "  </thead>\n",
              "  <tbody>\n",
              "    <tr>\n",
              "      <th>0</th>\n",
              "      <td>data/pizza_steak_sushi_20_percent/test/sushi/4...</td>\n",
              "      <td>sushi</td>\n",
              "      <td>0.8311</td>\n",
              "      <td>sushi</td>\n",
              "      <td>0.7918</td>\n",
              "      <td>True</td>\n",
              "    </tr>\n",
              "    <tr>\n",
              "      <th>1</th>\n",
              "      <td>data/pizza_steak_sushi_20_percent/test/sushi/3...</td>\n",
              "      <td>sushi</td>\n",
              "      <td>0.4956</td>\n",
              "      <td>pizza</td>\n",
              "      <td>0.5337</td>\n",
              "      <td>False</td>\n",
              "    </tr>\n",
              "    <tr>\n",
              "      <th>2</th>\n",
              "      <td>data/pizza_steak_sushi_20_percent/test/sushi/2...</td>\n",
              "      <td>sushi</td>\n",
              "      <td>0.9039</td>\n",
              "      <td>sushi</td>\n",
              "      <td>0.5209</td>\n",
              "      <td>True</td>\n",
              "    </tr>\n",
              "    <tr>\n",
              "      <th>3</th>\n",
              "      <td>data/pizza_steak_sushi_20_percent/test/sushi/1...</td>\n",
              "      <td>sushi</td>\n",
              "      <td>0.9668</td>\n",
              "      <td>sushi</td>\n",
              "      <td>0.5218</td>\n",
              "      <td>True</td>\n",
              "    </tr>\n",
              "    <tr>\n",
              "      <th>4</th>\n",
              "      <td>data/pizza_steak_sushi_20_percent/test/sushi/7...</td>\n",
              "      <td>sushi</td>\n",
              "      <td>0.9859</td>\n",
              "      <td>sushi</td>\n",
              "      <td>0.5397</td>\n",
              "      <td>True</td>\n",
              "    </tr>\n",
              "  </tbody>\n",
              "</table>\n",
              "</div>\n",
              "      <button class=\"colab-df-convert\" onclick=\"convertToInteractive('df-523b4f6c-c6d1-4ddf-929a-6561ef1055d2')\"\n",
              "              title=\"Convert this dataframe to an interactive table.\"\n",
              "              style=\"display:none;\">\n",
              "        \n",
              "  <svg xmlns=\"http://www.w3.org/2000/svg\" height=\"24px\"viewBox=\"0 0 24 24\"\n",
              "       width=\"24px\">\n",
              "    <path d=\"M0 0h24v24H0V0z\" fill=\"none\"/>\n",
              "    <path d=\"M18.56 5.44l.94 2.06.94-2.06 2.06-.94-2.06-.94-.94-2.06-.94 2.06-2.06.94zm-11 1L8.5 8.5l.94-2.06 2.06-.94-2.06-.94L8.5 2.5l-.94 2.06-2.06.94zm10 10l.94 2.06.94-2.06 2.06-.94-2.06-.94-.94-2.06-.94 2.06-2.06.94z\"/><path d=\"M17.41 7.96l-1.37-1.37c-.4-.4-.92-.59-1.43-.59-.52 0-1.04.2-1.43.59L10.3 9.45l-7.72 7.72c-.78.78-.78 2.05 0 2.83L4 21.41c.39.39.9.59 1.41.59.51 0 1.02-.2 1.41-.59l7.78-7.78 2.81-2.81c.8-.78.8-2.07 0-2.86zM5.41 20L4 18.59l7.72-7.72 1.47 1.35L5.41 20z\"/>\n",
              "  </svg>\n",
              "      </button>\n",
              "      \n",
              "  <style>\n",
              "    .colab-df-container {\n",
              "      display:flex;\n",
              "      flex-wrap:wrap;\n",
              "      gap: 12px;\n",
              "    }\n",
              "\n",
              "    .colab-df-convert {\n",
              "      background-color: #E8F0FE;\n",
              "      border: none;\n",
              "      border-radius: 50%;\n",
              "      cursor: pointer;\n",
              "      display: none;\n",
              "      fill: #1967D2;\n",
              "      height: 32px;\n",
              "      padding: 0 0 0 0;\n",
              "      width: 32px;\n",
              "    }\n",
              "\n",
              "    .colab-df-convert:hover {\n",
              "      background-color: #E2EBFA;\n",
              "      box-shadow: 0px 1px 2px rgba(60, 64, 67, 0.3), 0px 1px 3px 1px rgba(60, 64, 67, 0.15);\n",
              "      fill: #174EA6;\n",
              "    }\n",
              "\n",
              "    [theme=dark] .colab-df-convert {\n",
              "      background-color: #3B4455;\n",
              "      fill: #D2E3FC;\n",
              "    }\n",
              "\n",
              "    [theme=dark] .colab-df-convert:hover {\n",
              "      background-color: #434B5C;\n",
              "      box-shadow: 0px 1px 3px 1px rgba(0, 0, 0, 0.15);\n",
              "      filter: drop-shadow(0px 1px 2px rgba(0, 0, 0, 0.3));\n",
              "      fill: #FFFFFF;\n",
              "    }\n",
              "  </style>\n",
              "\n",
              "      <script>\n",
              "        const buttonEl =\n",
              "          document.querySelector('#df-523b4f6c-c6d1-4ddf-929a-6561ef1055d2 button.colab-df-convert');\n",
              "        buttonEl.style.display =\n",
              "          google.colab.kernel.accessAllowed ? 'block' : 'none';\n",
              "\n",
              "        async function convertToInteractive(key) {\n",
              "          const element = document.querySelector('#df-523b4f6c-c6d1-4ddf-929a-6561ef1055d2');\n",
              "          const dataTable =\n",
              "            await google.colab.kernel.invokeFunction('convertToInteractive',\n",
              "                                                     [key], {});\n",
              "          if (!dataTable) return;\n",
              "\n",
              "          const docLinkHtml = 'Like what you see? Visit the ' +\n",
              "            '<a target=\"_blank\" href=https://colab.research.google.com/notebooks/data_table.ipynb>data table notebook</a>'\n",
              "            + ' to learn more about interactive tables.';\n",
              "          element.innerHTML = '';\n",
              "          dataTable['output_type'] = 'display_data';\n",
              "          await google.colab.output.renderOutput(dataTable, element);\n",
              "          const docLink = document.createElement('div');\n",
              "          docLink.innerHTML = docLinkHtml;\n",
              "          element.appendChild(docLink);\n",
              "        }\n",
              "      </script>\n",
              "    </div>\n",
              "  </div>\n",
              "  "
            ]
          },
          "metadata": {},
          "execution_count": 40
        }
      ]
    },
    {
      "cell_type": "code",
      "source": [
        "# Count the number of correct predictions\n",
        "vit_test_pred_df.correct.value_counts()"
      ],
      "metadata": {
        "colab": {
          "base_uri": "https://localhost:8080/"
        },
        "id": "YyDEZ_zZMdCV",
        "outputId": "207e2cba-b429-4fb5-8edb-5ac1b370b65c"
      },
      "execution_count": 41,
      "outputs": [
        {
          "output_type": "execute_result",
          "data": {
            "text/plain": [
              "True     148\n",
              "False      2\n",
              "Name: correct, dtype: int64"
            ]
          },
          "metadata": {},
          "execution_count": 41
        }
      ]
    },
    {
      "cell_type": "code",
      "source": [
        "# Calculate average time per prediction for ViT model\n",
        "vit_average_time_per_pred = round(vit_test_pred_df.time_for_pred.mean(), 4)\n",
        "print(f\"ViT average time per prediction: {vit_average_time_per_pred} seconds\")"
      ],
      "metadata": {
        "colab": {
          "base_uri": "https://localhost:8080/"
        },
        "id": "e2aytbZwMffL",
        "outputId": "fbffac09-a6c9-4a45-891f-f18a28b45a4b"
      },
      "execution_count": 42,
      "outputs": [
        {
          "output_type": "stream",
          "name": "stdout",
          "text": [
            "ViT average time per prediction: 0.6637 seconds\n"
          ]
        }
      ]
    },
    {
      "cell_type": "code",
      "source": [
        "# Add average prediction time for ViT model on CPU\n",
        "vit_stats[\"time_per_pred_cpu\"] = vit_average_time_per_pred\n",
        "vit_stats"
      ],
      "metadata": {
        "colab": {
          "base_uri": "https://localhost:8080/"
        },
        "id": "X10TJwyAMh0v",
        "outputId": "2c3f8f76-020c-4eca-94fc-1fcdc06a62b4"
      },
      "execution_count": 43,
      "outputs": [
        {
          "output_type": "execute_result",
          "data": {
            "text/plain": [
              "{'test_loss': 0.06418211054988206,\n",
              " 'test_acc': 0.984659090909091,\n",
              " 'number_of_parameters': 85800963,\n",
              " 'model_size (MB)': 327,\n",
              " 'time_per_pred_cpu': 0.6637}"
            ]
          },
          "metadata": {},
          "execution_count": 43
        }
      ]
    },
    {
      "cell_type": "markdown",
      "source": [
        "## 5.0 Comparing model results, prediction times and size"
      ],
      "metadata": {
        "id": "-k7e7a7FMmha"
      }
    },
    {
      "cell_type": "code",
      "source": [
        "# Turn stat dictionaries into DataFrame\n",
        "df = pd.DataFrame([effnetb2_stats, vit_stats])\n",
        "\n",
        "# Add column for model names\n",
        "df[\"model\"] = [\"EffNetB2\", \"ViT\"]\n",
        "\n",
        "# Convert accuracy to percentages\n",
        "df[\"test_acc\"] = round(df[\"test_acc\"] * 100, 2)\n",
        "\n",
        "df"
      ],
      "metadata": {
        "colab": {
          "base_uri": "https://localhost:8080/",
          "height": 193
        },
        "id": "SX94H-EgMkMF",
        "outputId": "4f8f50f7-199e-4b45-bccb-0ef1b3d29da5"
      },
      "execution_count": 44,
      "outputs": [
        {
          "output_type": "execute_result",
          "data": {
            "text/plain": [
              "   test_loss  test_acc  number_of_parameters  model_size (MB)  \\\n",
              "0   0.280864     96.88               7705221               29   \n",
              "1   0.064182     98.47              85800963              327   \n",
              "\n",
              "   time_per_pred_cpu     model  \n",
              "0             0.1351  EffNetB2  \n",
              "1             0.6637       ViT  "
            ],
            "text/html": [
              "\n",
              "  <div id=\"df-d0e1cc32-4f8c-4c06-ad68-51524b1d04ba\">\n",
              "    <div class=\"colab-df-container\">\n",
              "      <div>\n",
              "<style scoped>\n",
              "    .dataframe tbody tr th:only-of-type {\n",
              "        vertical-align: middle;\n",
              "    }\n",
              "\n",
              "    .dataframe tbody tr th {\n",
              "        vertical-align: top;\n",
              "    }\n",
              "\n",
              "    .dataframe thead th {\n",
              "        text-align: right;\n",
              "    }\n",
              "</style>\n",
              "<table border=\"1\" class=\"dataframe\">\n",
              "  <thead>\n",
              "    <tr style=\"text-align: right;\">\n",
              "      <th></th>\n",
              "      <th>test_loss</th>\n",
              "      <th>test_acc</th>\n",
              "      <th>number_of_parameters</th>\n",
              "      <th>model_size (MB)</th>\n",
              "      <th>time_per_pred_cpu</th>\n",
              "      <th>model</th>\n",
              "    </tr>\n",
              "  </thead>\n",
              "  <tbody>\n",
              "    <tr>\n",
              "      <th>0</th>\n",
              "      <td>0.280864</td>\n",
              "      <td>96.88</td>\n",
              "      <td>7705221</td>\n",
              "      <td>29</td>\n",
              "      <td>0.1351</td>\n",
              "      <td>EffNetB2</td>\n",
              "    </tr>\n",
              "    <tr>\n",
              "      <th>1</th>\n",
              "      <td>0.064182</td>\n",
              "      <td>98.47</td>\n",
              "      <td>85800963</td>\n",
              "      <td>327</td>\n",
              "      <td>0.6637</td>\n",
              "      <td>ViT</td>\n",
              "    </tr>\n",
              "  </tbody>\n",
              "</table>\n",
              "</div>\n",
              "      <button class=\"colab-df-convert\" onclick=\"convertToInteractive('df-d0e1cc32-4f8c-4c06-ad68-51524b1d04ba')\"\n",
              "              title=\"Convert this dataframe to an interactive table.\"\n",
              "              style=\"display:none;\">\n",
              "        \n",
              "  <svg xmlns=\"http://www.w3.org/2000/svg\" height=\"24px\"viewBox=\"0 0 24 24\"\n",
              "       width=\"24px\">\n",
              "    <path d=\"M0 0h24v24H0V0z\" fill=\"none\"/>\n",
              "    <path d=\"M18.56 5.44l.94 2.06.94-2.06 2.06-.94-2.06-.94-.94-2.06-.94 2.06-2.06.94zm-11 1L8.5 8.5l.94-2.06 2.06-.94-2.06-.94L8.5 2.5l-.94 2.06-2.06.94zm10 10l.94 2.06.94-2.06 2.06-.94-2.06-.94-.94-2.06-.94 2.06-2.06.94z\"/><path d=\"M17.41 7.96l-1.37-1.37c-.4-.4-.92-.59-1.43-.59-.52 0-1.04.2-1.43.59L10.3 9.45l-7.72 7.72c-.78.78-.78 2.05 0 2.83L4 21.41c.39.39.9.59 1.41.59.51 0 1.02-.2 1.41-.59l7.78-7.78 2.81-2.81c.8-.78.8-2.07 0-2.86zM5.41 20L4 18.59l7.72-7.72 1.47 1.35L5.41 20z\"/>\n",
              "  </svg>\n",
              "      </button>\n",
              "      \n",
              "  <style>\n",
              "    .colab-df-container {\n",
              "      display:flex;\n",
              "      flex-wrap:wrap;\n",
              "      gap: 12px;\n",
              "    }\n",
              "\n",
              "    .colab-df-convert {\n",
              "      background-color: #E8F0FE;\n",
              "      border: none;\n",
              "      border-radius: 50%;\n",
              "      cursor: pointer;\n",
              "      display: none;\n",
              "      fill: #1967D2;\n",
              "      height: 32px;\n",
              "      padding: 0 0 0 0;\n",
              "      width: 32px;\n",
              "    }\n",
              "\n",
              "    .colab-df-convert:hover {\n",
              "      background-color: #E2EBFA;\n",
              "      box-shadow: 0px 1px 2px rgba(60, 64, 67, 0.3), 0px 1px 3px 1px rgba(60, 64, 67, 0.15);\n",
              "      fill: #174EA6;\n",
              "    }\n",
              "\n",
              "    [theme=dark] .colab-df-convert {\n",
              "      background-color: #3B4455;\n",
              "      fill: #D2E3FC;\n",
              "    }\n",
              "\n",
              "    [theme=dark] .colab-df-convert:hover {\n",
              "      background-color: #434B5C;\n",
              "      box-shadow: 0px 1px 3px 1px rgba(0, 0, 0, 0.15);\n",
              "      filter: drop-shadow(0px 1px 2px rgba(0, 0, 0, 0.3));\n",
              "      fill: #FFFFFF;\n",
              "    }\n",
              "  </style>\n",
              "\n",
              "      <script>\n",
              "        const buttonEl =\n",
              "          document.querySelector('#df-d0e1cc32-4f8c-4c06-ad68-51524b1d04ba button.colab-df-convert');\n",
              "        buttonEl.style.display =\n",
              "          google.colab.kernel.accessAllowed ? 'block' : 'none';\n",
              "\n",
              "        async function convertToInteractive(key) {\n",
              "          const element = document.querySelector('#df-d0e1cc32-4f8c-4c06-ad68-51524b1d04ba');\n",
              "          const dataTable =\n",
              "            await google.colab.kernel.invokeFunction('convertToInteractive',\n",
              "                                                     [key], {});\n",
              "          if (!dataTable) return;\n",
              "\n",
              "          const docLinkHtml = 'Like what you see? Visit the ' +\n",
              "            '<a target=\"_blank\" href=https://colab.research.google.com/notebooks/data_table.ipynb>data table notebook</a>'\n",
              "            + ' to learn more about interactive tables.';\n",
              "          element.innerHTML = '';\n",
              "          dataTable['output_type'] = 'display_data';\n",
              "          await google.colab.output.renderOutput(dataTable, element);\n",
              "          const docLink = document.createElement('div');\n",
              "          docLink.innerHTML = docLinkHtml;\n",
              "          element.appendChild(docLink);\n",
              "        }\n",
              "      </script>\n",
              "    </div>\n",
              "  </div>\n",
              "  "
            ]
          },
          "metadata": {},
          "execution_count": 44
        }
      ]
    },
    {
      "cell_type": "code",
      "source": [
        "# Compare ViT to EffNetB2 across different characteristics\n",
        "pd.DataFrame(data=(df.set_index(\"model\").loc[\"ViT\"] / df.set_index(\"model\").loc[\"EffNetB2\"]), # divide ViT statistics by EffNetB2 statistics\n",
        "             columns=[\"ViT to EffNetB2 ratios\"]).T"
      ],
      "metadata": {
        "colab": {
          "base_uri": "https://localhost:8080/",
          "height": 197
        },
        "id": "msB9C_HwMukI",
        "outputId": "69c3dfaf-a8df-407f-bf1f-aa3ff7115677"
      },
      "execution_count": 45,
      "outputs": [
        {
          "output_type": "execute_result",
          "data": {
            "text/plain": [
              "                        test_loss  test_acc  number_of_parameters  \\\n",
              "ViT to EffNetB2 ratios   0.228516  1.016412             11.135432   \n",
              "\n",
              "                        model_size (MB)  time_per_pred_cpu  \n",
              "ViT to EffNetB2 ratios        11.275862           4.912657  "
            ],
            "text/html": [
              "\n",
              "  <div id=\"df-ac7d823f-61d6-43ac-ab8e-d432c44b5d5e\">\n",
              "    <div class=\"colab-df-container\">\n",
              "      <div>\n",
              "<style scoped>\n",
              "    .dataframe tbody tr th:only-of-type {\n",
              "        vertical-align: middle;\n",
              "    }\n",
              "\n",
              "    .dataframe tbody tr th {\n",
              "        vertical-align: top;\n",
              "    }\n",
              "\n",
              "    .dataframe thead th {\n",
              "        text-align: right;\n",
              "    }\n",
              "</style>\n",
              "<table border=\"1\" class=\"dataframe\">\n",
              "  <thead>\n",
              "    <tr style=\"text-align: right;\">\n",
              "      <th></th>\n",
              "      <th>test_loss</th>\n",
              "      <th>test_acc</th>\n",
              "      <th>number_of_parameters</th>\n",
              "      <th>model_size (MB)</th>\n",
              "      <th>time_per_pred_cpu</th>\n",
              "    </tr>\n",
              "  </thead>\n",
              "  <tbody>\n",
              "    <tr>\n",
              "      <th>ViT to EffNetB2 ratios</th>\n",
              "      <td>0.228516</td>\n",
              "      <td>1.016412</td>\n",
              "      <td>11.135432</td>\n",
              "      <td>11.275862</td>\n",
              "      <td>4.912657</td>\n",
              "    </tr>\n",
              "  </tbody>\n",
              "</table>\n",
              "</div>\n",
              "      <button class=\"colab-df-convert\" onclick=\"convertToInteractive('df-ac7d823f-61d6-43ac-ab8e-d432c44b5d5e')\"\n",
              "              title=\"Convert this dataframe to an interactive table.\"\n",
              "              style=\"display:none;\">\n",
              "        \n",
              "  <svg xmlns=\"http://www.w3.org/2000/svg\" height=\"24px\"viewBox=\"0 0 24 24\"\n",
              "       width=\"24px\">\n",
              "    <path d=\"M0 0h24v24H0V0z\" fill=\"none\"/>\n",
              "    <path d=\"M18.56 5.44l.94 2.06.94-2.06 2.06-.94-2.06-.94-.94-2.06-.94 2.06-2.06.94zm-11 1L8.5 8.5l.94-2.06 2.06-.94-2.06-.94L8.5 2.5l-.94 2.06-2.06.94zm10 10l.94 2.06.94-2.06 2.06-.94-2.06-.94-.94-2.06-.94 2.06-2.06.94z\"/><path d=\"M17.41 7.96l-1.37-1.37c-.4-.4-.92-.59-1.43-.59-.52 0-1.04.2-1.43.59L10.3 9.45l-7.72 7.72c-.78.78-.78 2.05 0 2.83L4 21.41c.39.39.9.59 1.41.59.51 0 1.02-.2 1.41-.59l7.78-7.78 2.81-2.81c.8-.78.8-2.07 0-2.86zM5.41 20L4 18.59l7.72-7.72 1.47 1.35L5.41 20z\"/>\n",
              "  </svg>\n",
              "      </button>\n",
              "      \n",
              "  <style>\n",
              "    .colab-df-container {\n",
              "      display:flex;\n",
              "      flex-wrap:wrap;\n",
              "      gap: 12px;\n",
              "    }\n",
              "\n",
              "    .colab-df-convert {\n",
              "      background-color: #E8F0FE;\n",
              "      border: none;\n",
              "      border-radius: 50%;\n",
              "      cursor: pointer;\n",
              "      display: none;\n",
              "      fill: #1967D2;\n",
              "      height: 32px;\n",
              "      padding: 0 0 0 0;\n",
              "      width: 32px;\n",
              "    }\n",
              "\n",
              "    .colab-df-convert:hover {\n",
              "      background-color: #E2EBFA;\n",
              "      box-shadow: 0px 1px 2px rgba(60, 64, 67, 0.3), 0px 1px 3px 1px rgba(60, 64, 67, 0.15);\n",
              "      fill: #174EA6;\n",
              "    }\n",
              "\n",
              "    [theme=dark] .colab-df-convert {\n",
              "      background-color: #3B4455;\n",
              "      fill: #D2E3FC;\n",
              "    }\n",
              "\n",
              "    [theme=dark] .colab-df-convert:hover {\n",
              "      background-color: #434B5C;\n",
              "      box-shadow: 0px 1px 3px 1px rgba(0, 0, 0, 0.15);\n",
              "      filter: drop-shadow(0px 1px 2px rgba(0, 0, 0, 0.3));\n",
              "      fill: #FFFFFF;\n",
              "    }\n",
              "  </style>\n",
              "\n",
              "      <script>\n",
              "        const buttonEl =\n",
              "          document.querySelector('#df-ac7d823f-61d6-43ac-ab8e-d432c44b5d5e button.colab-df-convert');\n",
              "        buttonEl.style.display =\n",
              "          google.colab.kernel.accessAllowed ? 'block' : 'none';\n",
              "\n",
              "        async function convertToInteractive(key) {\n",
              "          const element = document.querySelector('#df-ac7d823f-61d6-43ac-ab8e-d432c44b5d5e');\n",
              "          const dataTable =\n",
              "            await google.colab.kernel.invokeFunction('convertToInteractive',\n",
              "                                                     [key], {});\n",
              "          if (!dataTable) return;\n",
              "\n",
              "          const docLinkHtml = 'Like what you see? Visit the ' +\n",
              "            '<a target=\"_blank\" href=https://colab.research.google.com/notebooks/data_table.ipynb>data table notebook</a>'\n",
              "            + ' to learn more about interactive tables.';\n",
              "          element.innerHTML = '';\n",
              "          dataTable['output_type'] = 'display_data';\n",
              "          await google.colab.output.renderOutput(dataTable, element);\n",
              "          const docLink = document.createElement('div');\n",
              "          docLink.innerHTML = docLinkHtml;\n",
              "          element.appendChild(docLink);\n",
              "        }\n",
              "      </script>\n",
              "    </div>\n",
              "  </div>\n",
              "  "
            ]
          },
          "metadata": {},
          "execution_count": 45
        }
      ]
    },
    {
      "cell_type": "code",
      "source": [
        "# 1. Create a plot from model comparison DataFrame\n",
        "fig, ax = plt.subplots(figsize=(12, 8))\n",
        "scatter = ax.scatter(data=df, \n",
        "                     x=\"time_per_pred_cpu\", \n",
        "                     y=\"test_acc\", \n",
        "                     c=[\"blue\", \"orange\"], # what colours to use?\n",
        "                     s=\"model_size (MB)\") # size the dots by the model sizes\n",
        "\n",
        "# 2. Add titles, labels and customize fontsize for aesthetics\n",
        "ax.set_title(\"FoodVision Mini Inference Speed vs Performance\", fontsize=18)\n",
        "ax.set_xlabel(\"Prediction time per image (seconds)\", fontsize=14)\n",
        "ax.set_ylabel(\"Test accuracy (%)\", fontsize=14)\n",
        "ax.tick_params(axis='both', labelsize=12)\n",
        "ax.grid(True)\n",
        "\n",
        "# 3. Annotate with model names\n",
        "for index, row in df.iterrows():\n",
        "    ax.annotate(text=row[\"model\"], # note: depending on your version of Matplotlib, you may need to use \"s=...\" or \"text=...\", see: https://github.com/faustomorales/keras-ocr/issues/183#issuecomment-977733270 \n",
        "                xy=(row[\"time_per_pred_cpu\"]+0.01, row[\"test_acc\"]+0.03),\n",
        "                size=12)\n",
        "\n",
        "# 4. Create a legend based on model sizes\n",
        "handles, labels = scatter.legend_elements(prop=\"sizes\", alpha=0.5)\n",
        "model_size_legend = ax.legend(handles, \n",
        "                              labels, \n",
        "                              loc=\"lower right\", \n",
        "                              title=\"Model size (MB)\",\n",
        "                              fontsize=12)\n",
        "\n",
        "# Save the figure\n",
        "plt.savefig(\"images/09-foodvision-mini-inference-speed-vs-performance.jpg\")\n",
        "\n",
        "# Show the figure\n",
        "plt.show()"
      ],
      "metadata": {
        "colab": {
          "base_uri": "https://localhost:8080/",
          "height": 451
        },
        "id": "Y_m5n60KMxiD",
        "outputId": "f00a0b56-86b9-4ba1-c97e-e78d8e68e319"
      },
      "execution_count": 50,
      "outputs": [
        {
          "output_type": "display_data",
          "data": {
            "text/plain": [
              "<Figure size 864x576 with 1 Axes>"
            ],
            "image/png": "[encoded data removed]"
          },
          "metadata": {
            "needs_background": "light"
          }
        }
      ]
    },
    {
      "cell_type": "markdown",
      "source": [
        "## 6.0 Bringing FoodVision Mini to life by creating a Gradio demo"
      ],
      "metadata": {
        "id": "zII7_XcYN4oJ"
      }
    },
    {
      "cell_type": "code",
      "source": [
        "# Import/install Gradio \n",
        "try:\n",
        "    import gradio as gr\n",
        "except: \n",
        "    !pip -q install gradio\n",
        "    import gradio as gr\n",
        "    \n",
        "print(f\"Gradio version: {gr.__version__}\")"
      ],
      "metadata": {
        "colab": {
          "base_uri": "https://localhost:8080/"
        },
        "id": "y4euBpW-NISe",
        "outputId": "3ea44a2d-d25e-4826-d4b0-8be26b687b96"
      },
      "execution_count": 51,
      "outputs": [
        {
          "output_type": "stream",
          "name": "stdout",
          "text": [
            "\u001b[2K     \u001b[90m━━━━━━━━━━━━━━━━━━━━━━━━━━━━━━━━━━━━━━━━\u001b[0m \u001b[32m14.3/14.3 MB\u001b[0m \u001b[31m26.1 MB/s\u001b[0m eta \u001b[36m0:00:00\u001b[0m\n",
            "\u001b[2K     \u001b[90m━━━━━━━━━━━━━━━━━━━━━━━━━━━━━━━━━━━━━━━━\u001b[0m \u001b[32m2.1/2.1 MB\u001b[0m \u001b[31m27.7 MB/s\u001b[0m eta \u001b[36m0:00:00\u001b[0m\n",
            "\u001b[2K     \u001b[90m━━━━━━━━━━━━━━━━━━━━━━━━━━━━━━━━━━━━━━━━\u001b[0m \u001b[32m71.5/71.5 KB\u001b[0m \u001b[31m8.6 MB/s\u001b[0m eta \u001b[36m0:00:00\u001b[0m\n",
            "\u001b[2K     \u001b[90m━━━━━━━━━━━━━━━━━━━━━━━━━━━━━━━━━━━━━━━━\u001b[0m \u001b[32m84.5/84.5 KB\u001b[0m \u001b[31m9.5 MB/s\u001b[0m eta \u001b[36m0:00:00\u001b[0m\n",
            "\u001b[2K     \u001b[90m━━━━━━━━━━━━━━━━━━━━━━━━━━━━━━━━━━━━━━━━\u001b[0m \u001b[32m56.9/56.9 KB\u001b[0m \u001b[31m7.7 MB/s\u001b[0m eta \u001b[36m0:00:00\u001b[0m\n",
            "\u001b[?25h  Preparing metadata (setup.py) ... \u001b[?25l\u001b[?25hdone\n",
            "\u001b[2K     \u001b[90m━━━━━━━━━━━━━━━━━━━━━━━━━━━━━━━━━━━━━━\u001b[0m \u001b[32m140.7/140.7 KB\u001b[0m \u001b[31m14.7 MB/s\u001b[0m eta \u001b[36m0:00:00\u001b[0m\n",
            "\u001b[2K     \u001b[90m━━━━━━━━━━━━━━━━━━━━━━━━━━━━━━━━━━━━━━━━\u001b[0m \u001b[32m56.2/56.2 KB\u001b[0m \u001b[31m7.1 MB/s\u001b[0m eta \u001b[36m0:00:00\u001b[0m\n",
            "\u001b[2K     \u001b[90m━━━━━━━━━━━━━━━━━━━━━━━━━━━━━━━━━━━━━━━━\u001b[0m \u001b[32m50.5/50.5 KB\u001b[0m \u001b[31m4.2 MB/s\u001b[0m eta \u001b[36m0:00:00\u001b[0m\n",
            "\u001b[2K     \u001b[90m━━━━━━━━━━━━━━━━━━━━━━━━━━━━━━━━━━━━━━\u001b[0m \u001b[32m107.0/107.0 KB\u001b[0m \u001b[31m11.5 MB/s\u001b[0m eta \u001b[36m0:00:00\u001b[0m\n",
            "\u001b[2K     \u001b[90m━━━━━━━━━━━━━━━━━━━━━━━━━━━━━━━━━━━━━━━━\u001b[0m \u001b[32m45.7/45.7 KB\u001b[0m \u001b[31m2.8 MB/s\u001b[0m eta \u001b[36m0:00:00\u001b[0m\n",
            "\u001b[2K     \u001b[90m━━━━━━━━━━━━━━━━━━━━━━━━━━━━━━━━━━━━━━━━\u001b[0m \u001b[32m66.4/66.4 KB\u001b[0m \u001b[31m7.5 MB/s\u001b[0m eta \u001b[36m0:00:00\u001b[0m\n",
            "\u001b[2K     \u001b[90m━━━━━━━━━━━━━━━━━━━━━━━━━━━━━━━━━━━━━━━━\u001b[0m \u001b[32m69.6/69.6 KB\u001b[0m \u001b[31m8.9 MB/s\u001b[0m eta \u001b[36m0:00:00\u001b[0m\n",
            "\u001b[2K     \u001b[90m━━━━━━━━━━━━━━━━━━━━━━━━━━━━━━━━━━━━━━━━\u001b[0m \u001b[32m58.3/58.3 KB\u001b[0m \u001b[31m7.1 MB/s\u001b[0m eta \u001b[36m0:00:00\u001b[0m\n",
            "\u001b[2K     \u001b[90m━━━━━━━━━━━━━━━━━━━━━━━━━━━━━━━━━━━━━━━━\u001b[0m \u001b[32m80.6/80.6 KB\u001b[0m \u001b[31m10.3 MB/s\u001b[0m eta \u001b[36m0:00:00\u001b[0m\n",
            "\u001b[?25h  Building wheel for ffmpy (setup.py) ... \u001b[?25l\u001b[?25hdone\n",
            "Gradio version: 3.20.0\n"
          ]
        }
      ]
    },
    {
      "cell_type": "code",
      "source": [
        "# Put EffNetB2 on CPU\n",
        "effnetb2.to(\"cpu\") \n",
        "\n",
        "# Check the device\n",
        "next(iter(effnetb2.parameters())).device"
      ],
      "metadata": {
        "colab": {
          "base_uri": "https://localhost:8080/"
        },
        "id": "_QfqUcZBN9KI",
        "outputId": "9359a5aa-f0c8-4ddc-f4db-834252a4f3e4"
      },
      "execution_count": 52,
      "outputs": [
        {
          "output_type": "execute_result",
          "data": {
            "text/plain": [
              "device(type='cpu')"
            ]
          },
          "metadata": {},
          "execution_count": 52
        }
      ]
    },
    {
      "cell_type": "code",
      "source": [
        "from typing import Tuple, Dict\n",
        "\n",
        "def predict(img) -> Tuple[Dict, float]:\n",
        "    \"\"\"Transforms and performs a prediction on img and returns prediction and time taken.\n",
        "    \"\"\"\n",
        "    # Start the timer\n",
        "    start_time = timer()\n",
        "    \n",
        "    # Transform the target image and add a batch dimension\n",
        "    img = effnetb2_transforms(img).unsqueeze(0)\n",
        "    \n",
        "    # Put model into evaluation mode and turn on inference mode\n",
        "    effnetb2.eval()\n",
        "    with torch.inference_mode():\n",
        "        # Pass the transformed image through the model and turn the prediction logits into prediction probabilities\n",
        "        pred_probs = torch.softmax(effnetb2(img), dim=1)\n",
        "    \n",
        "    # Create a prediction label and prediction probability dictionary for each prediction class (this is the required format for Gradio's output parameter)\n",
        "    pred_labels_and_probs = {class_names[i]: float(pred_probs[0][i]) for i in range(len(class_names))}\n",
        "    \n",
        "    # Calculate the prediction time\n",
        "    pred_time = round(timer() - start_time, 5)\n",
        "    \n",
        "    # Return the prediction dictionary and prediction time \n",
        "    return pred_labels_and_probs, pred_time"
      ],
      "metadata": {
        "id": "L-H3vcLOOBoW"
      },
      "execution_count": 53,
      "outputs": []
    },
    {
      "cell_type": "code",
      "source": [
        "import random\n",
        "from PIL import Image\n",
        "\n",
        "# Get a list of all test image filepaths\n",
        "test_data_paths = list(Path(test_dir).glob(\"*/*.jpg\"))\n",
        "\n",
        "# Randomly select a test image path\n",
        "random_image_path = random.sample(test_data_paths, k=1)[0]\n",
        "\n",
        "# Open the target image\n",
        "image = Image.open(random_image_path)\n",
        "print(f\"[INFO] Predicting on image at path: {random_image_path}\\n\")\n",
        "\n",
        "# Predict on the target image and print out the outputs\n",
        "pred_dict, pred_time = predict(img=image)\n",
        "print(f\"Prediction label and probability dictionary: \\n{pred_dict}\")\n",
        "print(f\"Prediction time: {pred_time} seconds\")"
      ],
      "metadata": {
        "colab": {
          "base_uri": "https://localhost:8080/"
        },
        "id": "QBOKu5vBOC-P",
        "outputId": "4c983b2a-4469-41b0-87f8-af83001220dd"
      },
      "execution_count": 54,
      "outputs": [
        {
          "output_type": "stream",
          "name": "stdout",
          "text": [
            "[INFO] Predicting on image at path: data/pizza_steak_sushi_20_percent/test/pizza/482858.jpg\n",
            "\n",
            "Prediction label and probability dictionary: \n",
            "{'pizza': 0.9848403334617615, 'steak': 0.006687356159090996, 'sushi': 0.008472317829728127}\n",
            "Prediction time: 0.16119 seconds\n"
          ]
        }
      ]
    },
    {
      "cell_type": "code",
      "source": [
        "# Create a list of example inputs to our Gradio demo\n",
        "example_list = [[str(filepath)] for filepath in random.sample(test_data_paths, k=3)]\n",
        "example_list"
      ],
      "metadata": {
        "colab": {
          "base_uri": "https://localhost:8080/"
        },
        "id": "Yx8y9K99OHw2",
        "outputId": "c71ca9bb-d07b-4d67-e15b-1d825e1959e3"
      },
      "execution_count": 55,
      "outputs": [
        {
          "output_type": "execute_result",
          "data": {
            "text/plain": [
              "[['data/pizza_steak_sushi_20_percent/test/steak/367422.jpg'],\n",
              " ['data/pizza_steak_sushi_20_percent/test/pizza/2582289.jpg'],\n",
              " ['data/pizza_steak_sushi_20_percent/test/steak/399377.jpg']]"
            ]
          },
          "metadata": {},
          "execution_count": 55
        }
      ]
    },
    {
      "cell_type": "code",
      "source": [
        "import gradio as gr\n",
        "\n",
        "# Create title, description and article strings\n",
        "title = \"FoodVision Mini 🍕🥩🍣\"\n",
        "description = \"An EfficientNetB2 feature extractor computer vision model to classify images of food as pizza, steak or sushi.\"\n",
        "article = \"Created at [09. PyTorch Model Deployment](https://www.learnpytorch.io/09_pytorch_model_deployment/).\"\n",
        "\n",
        "# Create the Gradio demo\n",
        "demo = gr.Interface(fn=predict, # mapping function from input to output\n",
        "                    inputs=gr.Image(type=\"pil\"), # what are the inputs?\n",
        "                    outputs=[gr.Label(num_top_classes=3, label=\"Predictions\"), # what are the outputs?\n",
        "                             gr.Number(label=\"Prediction time (s)\")], # our fn has two outputs, therefore we have two outputs\n",
        "                    examples=example_list, \n",
        "                    title=title,\n",
        "                    description=description,\n",
        "                    article=article)\n",
        "\n",
        "# Launch the demo!\n",
        "demo.launch(debug=False, # print errors locally?\n",
        "            share=True) # generate a publically shareable URL?"
      ],
      "metadata": {
        "colab": {
          "base_uri": "https://localhost:8080/",
          "height": 611
        },
        "id": "qX2gzymOON1p",
        "outputId": "13283e31-46a8-46ef-df18-ce504ba174c6"
      },
      "execution_count": 56,
      "outputs": [
        {
          "output_type": "stream",
          "name": "stdout",
          "text": [
            "Colab notebook detected. To show errors in colab notebook, set debug=True in launch()\n",
            "Running on public URL: https://8fc26f5df6480357ac.gradio.live\n",
            "\n",
            "This share link expires in 72 hours. For free permanent hosting and GPU upgrades (NEW!), check out Spaces: https://huggingface.co/spaces\n"
          ]
        },
        {
          "output_type": "display_data",
          "data": {
            "text/plain": [
              "<IPython.core.display.HTML object>"
            ],
            "text/html": [
              "<div><iframe src=\"https://8fc26f5df6480357ac.gradio.live\" width=\"100%\" height=\"500\" allow=\"autoplay; camera; microphone; clipboard-read; clipboard-write;\" frameborder=\"0\" allowfullscreen></iframe></div>"
            ]
          },
          "metadata": {}
        },
        {
          "output_type": "execute_result",
          "data": {
            "text/plain": []
          },
          "metadata": {},
          "execution_count": 56
        }
      ]
    },
    {
      "cell_type": "markdown",
      "source": [
        "## 7.0 Turning our FoodVision Mini Gradio Demo into a deployable app"
      ],
      "metadata": {
        "id": "9sJr6CsSOdsU"
      }
    },
    {
      "cell_type": "markdown",
      "source": [
        "```\n",
        "demos/\n",
        "└── foodvision_mini/\n",
        "    ├── 09_pretrained_effnetb2_feature_extractor_pizza_steak_sushi_20_percent.pth\n",
        "    ├── app.py\n",
        "    ├── examples/\n",
        "    │   ├── example_1.jpg\n",
        "    │   ├── example_2.jpg\n",
        "    │   └── example_3.jpg\n",
        "    ├── model.py\n",
        "    └── requirements.txt\n",
        "```"
      ],
      "metadata": {
        "id": "3JNe992cOme5"
      }
    },
    {
      "cell_type": "code",
      "source": [
        "import shutil\n",
        "from pathlib import Path\n",
        "\n",
        "# Create FoodVision mini demo path\n",
        "foodvision_mini_demo_path = Path(\"demos/foodvision_mini/\")\n",
        "\n",
        "# Remove files that might already exist there and create new directory\n",
        "if foodvision_mini_demo_path.exists():\n",
        "    shutil.rmtree(foodvision_mini_demo_path)\n",
        "    foodvision_mini_demo_path.mkdir(parents=True, # make the parent folders?\n",
        "                                    exist_ok=True) # create it even if it already exists?\n",
        "else:\n",
        "    # If the file doesn't exist, create it anyway\n",
        "    foodvision_mini_demo_path.mkdir(parents=True, \n",
        "                                    exist_ok=True)\n",
        "    \n",
        "# Check what's in the folder\n",
        "!ls demos/foodvision_mini/"
      ],
      "metadata": {
        "id": "1r4eY2NDOQFe"
      },
      "execution_count": 57,
      "outputs": []
    },
    {
      "cell_type": "code",
      "source": [
        "import shutil\n",
        "from pathlib import Path\n",
        "\n",
        "# 1. Create an examples directory\n",
        "foodvision_mini_examples_path = foodvision_mini_demo_path / \"examples\"\n",
        "foodvision_mini_examples_path.mkdir(parents=True, exist_ok=True)\n",
        "\n",
        "# 2. Collect three random test dataset image paths\n",
        "foodvision_mini_examples = [Path('data/pizza_steak_sushi_20_percent/test/sushi/592799.jpg'),\n",
        "                            Path('data/pizza_steak_sushi_20_percent/test/steak/3622237.jpg'),\n",
        "                            Path('data/pizza_steak_sushi_20_percent/test/pizza/2582289.jpg')]\n",
        "\n",
        "# 3. Copy the three random images to the examples directory\n",
        "for example in foodvision_mini_examples:\n",
        "    destination = foodvision_mini_examples_path / example.name\n",
        "    print(f\"[INFO] Copying {example} to {destination}\")\n",
        "    shutil.copy2(src=example, dst=destination)"
      ],
      "metadata": {
        "colab": {
          "base_uri": "https://localhost:8080/"
        },
        "id": "GDdet0WCOvi6",
        "outputId": "39a023dd-3229-4954-f128-e043910b578d"
      },
      "execution_count": 58,
      "outputs": [
        {
          "output_type": "stream",
          "name": "stdout",
          "text": [
            "[INFO] Copying data/pizza_steak_sushi_20_percent/test/sushi/592799.jpg to demos/foodvision_mini/examples/592799.jpg\n",
            "[INFO] Copying data/pizza_steak_sushi_20_percent/test/steak/3622237.jpg to demos/foodvision_mini/examples/3622237.jpg\n",
            "[INFO] Copying data/pizza_steak_sushi_20_percent/test/pizza/2582289.jpg to demos/foodvision_mini/examples/2582289.jpg\n"
          ]
        }
      ]
    },
    {
      "cell_type": "code",
      "source": [
        "import os\n",
        "\n",
        "# Get example filepaths in a list of lists\n",
        "example_list = [[\"examples/\" + example] for example in os.listdir(foodvision_mini_examples_path)]\n",
        "example_list"
      ],
      "metadata": {
        "colab": {
          "base_uri": "https://localhost:8080/"
        },
        "id": "v35s5miTOyvN",
        "outputId": "234eee0d-812b-4a01-cb3f-c2178f9b9c28"
      },
      "execution_count": 59,
      "outputs": [
        {
          "output_type": "execute_result",
          "data": {
            "text/plain": [
              "[['examples/3622237.jpg'], ['examples/592799.jpg'], ['examples/2582289.jpg']]"
            ]
          },
          "metadata": {},
          "execution_count": 59
        }
      ]
    },
    {
      "cell_type": "code",
      "source": [
        "import shutil\n",
        "\n",
        "# Create a source path for our target model\n",
        "effnetb2_foodvision_mini_model_path = \"models/09_pretrained_effnetb2_feature_extractor_pizza_steak_sushi_20_percent.pth\"\n",
        "\n",
        "# Create a destination path for our target model \n",
        "effnetb2_foodvision_mini_model_destination = foodvision_mini_demo_path / effnetb2_foodvision_mini_model_path.split(\"/\")[1]\n",
        "\n",
        "# Try to move the file\n",
        "try:\n",
        "    print(f\"[INFO] Attempting to move {effnetb2_foodvision_mini_model_path} to {effnetb2_foodvision_mini_model_destination}\")\n",
        "    \n",
        "    # Move the model\n",
        "    shutil.move(src=effnetb2_foodvision_mini_model_path, \n",
        "                dst=effnetb2_foodvision_mini_model_destination)\n",
        "    \n",
        "    print(f\"[INFO] Model move complete.\")\n",
        "\n",
        "# If the model has already been moved, check if it exists\n",
        "except:\n",
        "    print(f\"[INFO] No model found at {effnetb2_foodvision_mini_model_path}, perhaps its already been moved?\")\n",
        "    print(f\"[INFO] Model exists at {effnetb2_foodvision_mini_model_destination}: {effnetb2_foodvision_mini_model_destination.exists()}\")"
      ],
      "metadata": {
        "colab": {
          "base_uri": "https://localhost:8080/"
        },
        "id": "UNpf1TQNO2W5",
        "outputId": "f6270803-54fc-4afd-c42a-0891b34bbd3d"
      },
      "execution_count": 60,
      "outputs": [
        {
          "output_type": "stream",
          "name": "stdout",
          "text": [
            "[INFO] Attempting to move models/09_pretrained_effnetb2_feature_extractor_pizza_steak_sushi_20_percent.pth to demos/foodvision_mini/09_pretrained_effnetb2_feature_extractor_pizza_steak_sushi_20_percent.pth\n",
            "[INFO] Model move complete.\n"
          ]
        }
      ]
    },
    {
      "cell_type": "code",
      "source": [
        "%%writefile demos/foodvision_mini/model.py\n",
        "import torch\n",
        "import torchvision\n",
        "\n",
        "from torch import nn\n",
        "\n",
        "\n",
        "def create_effnetb2_model(num_classes:int=3, \n",
        "                          seed:int=42):\n",
        "    \"\"\"Creates an EfficientNetB2 feature extractor model and transforms.\n",
        "\n",
        "    Args:\n",
        "        num_classes (int, optional): number of classes in the classifier head. \n",
        "            Defaults to 3.\n",
        "        seed (int, optional): random seed value. Defaults to 42.\n",
        "\n",
        "    Returns:\n",
        "        model (torch.nn.Module): EffNetB2 feature extractor model. \n",
        "        transforms (torchvision.transforms): EffNetB2 image transforms.\n",
        "    \"\"\"\n",
        "    # Create EffNetB2 pretrained weights, transforms and model\n",
        "    weights = torchvision.models.EfficientNet_B2_Weights.DEFAULT\n",
        "    transforms = weights.transforms()\n",
        "    model = torchvision.models.efficientnet_b2(weights=weights)\n",
        "\n",
        "    # Freeze all layers in base model\n",
        "    for param in model.parameters():\n",
        "        param.requires_grad = False\n",
        "\n",
        "    # Change classifier head with random seed for reproducibility\n",
        "    torch.manual_seed(seed)\n",
        "    model.classifier = nn.Sequential(\n",
        "        nn.Dropout(p=0.3, inplace=True),\n",
        "        nn.Linear(in_features=1408, out_features=num_classes),\n",
        "    )\n",
        "    \n",
        "    return model, transforms"
      ],
      "metadata": {
        "colab": {
          "base_uri": "https://localhost:8080/"
        },
        "id": "H44ZimUCO4-r",
        "outputId": "deb300f3-545d-460f-aee3-30e2a7b00529"
      },
      "execution_count": 61,
      "outputs": [
        {
          "output_type": "stream",
          "name": "stdout",
          "text": [
            "Writing demos/foodvision_mini/model.py\n"
          ]
        }
      ]
    },
    {
      "cell_type": "code",
      "source": [
        "%%writefile demos/foodvision_mini/app.py\n",
        "### 1. Imports and class names setup ### \n",
        "import gradio as gr\n",
        "import os\n",
        "import torch\n",
        "\n",
        "from model import create_effnetb2_model\n",
        "from timeit import default_timer as timer\n",
        "from typing import Tuple, Dict\n",
        "\n",
        "# Setup class names\n",
        "class_names = [\"pizza\", \"steak\", \"sushi\"]\n",
        "\n",
        "### 2. Model and transforms preparation ###\n",
        "\n",
        "# Create EffNetB2 model\n",
        "effnetb2, effnetb2_transforms = create_effnetb2_model(\n",
        "    num_classes=3, # len(class_names) would also work\n",
        ")\n",
        "\n",
        "# Load saved weights\n",
        "effnetb2.load_state_dict(\n",
        "    torch.load(\n",
        "        f=\"09_pretrained_effnetb2_feature_extractor_pizza_steak_sushi_20_percent.pth\",\n",
        "        map_location=torch.device(\"cpu\"),  # load to CPU\n",
        "    )\n",
        ")\n",
        "\n",
        "### 3. Predict function ###\n",
        "\n",
        "# Create predict function\n",
        "def predict(img) -> Tuple[Dict, float]:\n",
        "    \"\"\"Transforms and performs a prediction on img and returns prediction and time taken.\n",
        "    \"\"\"\n",
        "    # Start the timer\n",
        "    start_time = timer()\n",
        "    \n",
        "    # Transform the target image and add a batch dimension\n",
        "    img = effnetb2_transforms(img).unsqueeze(0)\n",
        "    \n",
        "    # Put model into evaluation mode and turn on inference mode\n",
        "    effnetb2.eval()\n",
        "    with torch.inference_mode():\n",
        "        # Pass the transformed image through the model and turn the prediction logits into prediction probabilities\n",
        "        pred_probs = torch.softmax(effnetb2(img), dim=1)\n",
        "    \n",
        "    # Create a prediction label and prediction probability dictionary for each prediction class (this is the required format for Gradio's output parameter)\n",
        "    pred_labels_and_probs = {class_names[i]: float(pred_probs[0][i]) for i in range(len(class_names))}\n",
        "    \n",
        "    # Calculate the prediction time\n",
        "    pred_time = round(timer() - start_time, 5)\n",
        "    \n",
        "    # Return the prediction dictionary and prediction time \n",
        "    return pred_labels_and_probs, pred_time\n",
        "\n",
        "### 4. Gradio app ###\n",
        "\n",
        "# Create title, description and article strings\n",
        "title = \"FoodVision Mini 🍕🥩🍣\"\n",
        "description = \"An EfficientNetB2 feature extractor computer vision model to classify images of food as pizza, steak or sushi.\"\n",
        "article = \"Created at [09. PyTorch Model Deployment](https://www.learnpytorch.io/09_pytorch_model_deployment/).\"\n",
        "\n",
        "# Create examples list from \"examples/\" directory\n",
        "example_list = [[\"examples/\" + example] for example in os.listdir(\"examples\")]\n",
        "\n",
        "# Create the Gradio demo\n",
        "demo = gr.Interface(fn=predict, # mapping function from input to output\n",
        "                    inputs=gr.Image(type=\"pil\"), # what are the inputs?\n",
        "                    outputs=[gr.Label(num_top_classes=3, label=\"Predictions\"), # what are the outputs?\n",
        "                             gr.Number(label=\"Prediction time (s)\")], # our fn has two outputs, therefore we have two outputs\n",
        "                    # Create examples list from \"examples/\" directory\n",
        "                    examples=example_list, \n",
        "                    title=title,\n",
        "                    description=description,\n",
        "                    article=article)\n",
        "\n",
        "# Launch the demo!\n",
        "demo.launch()"
      ],
      "metadata": {
        "colab": {
          "base_uri": "https://localhost:8080/"
        },
        "id": "0kZhTGlYO-L2",
        "outputId": "4589a4e2-0e7f-4e18-de2a-9618e5a54560"
      },
      "execution_count": 62,
      "outputs": [
        {
          "output_type": "stream",
          "name": "stdout",
          "text": [
            "Writing demos/foodvision_mini/app.py\n"
          ]
        }
      ]
    },
    {
      "cell_type": "code",
      "source": [
        "%%writefile demos/foodvision_mini/requirements.txt\n",
        "torch==1.12.0\n",
        "torchvision==0.13.0\n",
        "gradio==3.1.4"
      ],
      "metadata": {
        "colab": {
          "base_uri": "https://localhost:8080/"
        },
        "id": "ioRovnVqPDl9",
        "outputId": "4e52b929-2561-40f2-f6f5-783b3d2711ba"
      },
      "execution_count": 63,
      "outputs": [
        {
          "output_type": "stream",
          "name": "stdout",
          "text": [
            "Writing demos/foodvision_mini/requirements.txt\n"
          ]
        }
      ]
    },
    {
      "cell_type": "code",
      "source": [
        "!ls demos/foodvision_mini"
      ],
      "metadata": {
        "colab": {
          "base_uri": "https://localhost:8080/"
        },
        "id": "BrY0t6RDPLMa",
        "outputId": "09932f3f-b8d4-4d39-a53e-4db3f2372554"
      },
      "execution_count": 64,
      "outputs": [
        {
          "output_type": "stream",
          "name": "stdout",
          "text": [
            "09_pretrained_effnetb2_feature_extractor_pizza_steak_sushi_20_percent.pth\n",
            "app.py\n",
            "examples\n",
            "model.py\n",
            "requirements.txt\n"
          ]
        }
      ]
    },
    {
      "cell_type": "code",
      "source": [
        "!zip -r ../foodvision_mini.zip * -x \"*.pyc\" \"*.ipynb\" \"*__pycache__*\" \"*ipynb_checkpoints\""
      ],
      "metadata": {
        "colab": {
          "base_uri": "https://localhost:8080/"
        },
        "id": "plci9x-2POLE",
        "outputId": "ff7a1819-b756-4b31-cdd3-34c113f0c02a"
      },
      "execution_count": 69,
      "outputs": [
        {
          "output_type": "stream",
          "name": "stdout",
          "text": [
            "  adding: data/ (stored 0%)\n",
            "  adding: data/pizza_steak_sushi_20_percent/ (stored 0%)\n",
            "  adding: data/pizza_steak_sushi_20_percent/test/ (stored 0%)\n",
            "  adding: data/pizza_steak_sushi_20_percent/test/sushi/ (stored 0%)\n",
            "  adding: data/pizza_steak_sushi_20_percent/test/sushi/472912.jpg (deflated 9%)\n",
            "  adding: data/pizza_steak_sushi_20_percent/test/sushi/3227791.jpg (deflated 1%)\n",
            "  adding: data/pizza_steak_sushi_20_percent/test/sushi/2903621.jpg (deflated 0%)\n",
            "  adding: data/pizza_steak_sushi_20_percent/test/sushi/1063878.jpg (deflated 1%)\n",
            "  adding: data/pizza_steak_sushi_20_percent/test/sushi/715227.jpg (deflated 1%)\n",
            "  adding: data/pizza_steak_sushi_20_percent/test/sushi/804460.jpg (deflated 1%)\n",
            "  adding: data/pizza_steak_sushi_20_percent/test/sushi/1245545.jpg (deflated 0%)\n",
            "  adding: data/pizza_steak_sushi_20_percent/test/sushi/2274102.jpg (deflated 1%)\n",
            "  adding: data/pizza_steak_sushi_20_percent/test/sushi/2743100.jpg (deflated 0%)\n",
            "  adding: data/pizza_steak_sushi_20_percent/test/sushi/3401466.jpg (deflated 0%)\n",
            "  adding: data/pizza_steak_sushi_20_percent/test/sushi/2378406.jpg (deflated 1%)\n",
            "  adding: data/pizza_steak_sushi_20_percent/test/sushi/46797.jpg (deflated 14%)\n",
            "  adding: data/pizza_steak_sushi_20_percent/test/sushi/1994748.jpg (deflated 1%)\n",
            "  adding: data/pizza_steak_sushi_20_percent/test/sushi/2903125.jpg (deflated 0%)\n",
            "  adding: data/pizza_steak_sushi_20_percent/test/sushi/511818.jpg (deflated 0%)\n",
            "  adding: data/pizza_steak_sushi_20_percent/test/sushi/1944743.jpg (deflated 27%)\n",
            "  adding: data/pizza_steak_sushi_20_percent/test/sushi/1346344.jpg (deflated 1%)\n",
            "  adding: data/pizza_steak_sushi_20_percent/test/sushi/780283.jpg (deflated 1%)\n",
            "  adding: data/pizza_steak_sushi_20_percent/test/sushi/1203702.jpg (deflated 0%)\n",
            "  adding: data/pizza_steak_sushi_20_percent/test/sushi/592799.jpg (deflated 1%)\n",
            "  adding: data/pizza_steak_sushi_20_percent/test/sushi/911808.jpg (deflated 0%)\n",
            "  adding: data/pizza_steak_sushi_20_percent/test/sushi/2012780.jpg (deflated 0%)\n",
            "  adding: data/pizza_steak_sushi_20_percent/test/sushi/3886015.jpg (deflated 1%)\n",
            "  adding: data/pizza_steak_sushi_20_percent/test/sushi/2948087.jpg (deflated 1%)\n",
            "  adding: data/pizza_steak_sushi_20_percent/test/sushi/720302.jpg (deflated 0%)\n",
            "  adding: data/pizza_steak_sushi_20_percent/test/sushi/2394442.jpg (deflated 0%)\n",
            "  adding: data/pizza_steak_sushi_20_percent/test/sushi/3494950.jpg (deflated 14%)\n",
            "  adding: data/pizza_steak_sushi_20_percent/test/sushi/167716.jpg (deflated 0%)\n",
            "  adding: data/pizza_steak_sushi_20_percent/test/sushi/593071.jpg (deflated 0%)\n",
            "  adding: data/pizza_steak_sushi_20_percent/test/sushi/1383396.jpg (deflated 0%)\n",
            "  adding: data/pizza_steak_sushi_20_percent/test/sushi/1844723.jpg (deflated 0%)\n",
            "  adding: data/pizza_steak_sushi_20_percent/test/sushi/1683426.jpg (deflated 0%)\n",
            "  adding: data/pizza_steak_sushi_20_percent/test/sushi/705150.jpg (deflated 0%)\n",
            "  adding: data/pizza_steak_sushi_20_percent/test/sushi/3834718.jpg (deflated 0%)\n",
            "  adding: data/pizza_steak_sushi_20_percent/test/sushi/1404154.jpg (deflated 0%)\n",
            "  adding: data/pizza_steak_sushi_20_percent/test/sushi/2416569.jpg (deflated 1%)\n",
            "  adding: data/pizza_steak_sushi_20_percent/test/sushi/3177743.jpg (deflated 0%)\n",
            "  adding: data/pizza_steak_sushi_20_percent/test/sushi/3365273.jpg (deflated 1%)\n",
            "  adding: data/pizza_steak_sushi_20_percent/test/sushi/2352914.jpg (deflated 0%)\n",
            "  adding: data/pizza_steak_sushi_20_percent/test/sushi/2819945.jpg (deflated 1%)\n",
            "  adding: data/pizza_steak_sushi_20_percent/test/sushi/389730.jpg (deflated 0%)\n",
            "  adding: data/pizza_steak_sushi_20_percent/test/sushi/128616.jpg (deflated 0%)\n",
            "  adding: data/pizza_steak_sushi_20_percent/test/sushi/1600999.jpg (deflated 9%)\n",
            "  adding: data/pizza_steak_sushi_20_percent/test/sushi/57230.jpg (deflated 14%)\n",
            "  adding: data/pizza_steak_sushi_20_percent/test/sushi/124279.jpg (deflated 0%)\n",
            "  adding: data/pizza_steak_sushi_20_percent/test/sushi/301603.jpg (deflated 14%)\n",
            "  adding: data/pizza_steak_sushi_20_percent/test/pizza/ (stored 0%)\n",
            "  adding: data/pizza_steak_sushi_20_percent/test/pizza/129666.jpg (deflated 0%)\n",
            "  adding: data/pizza_steak_sushi_20_percent/test/pizza/416067.jpg (deflated 0%)\n",
            "  adding: data/pizza_steak_sushi_20_percent/test/pizza/2549661.jpg (deflated 0%)\n",
            "  adding: data/pizza_steak_sushi_20_percent/test/pizza/44810.jpg (deflated 3%)\n",
            "  adding: data/pizza_steak_sushi_20_percent/test/pizza/148765.jpg (deflated 0%)\n",
            "  adding: data/pizza_steak_sushi_20_percent/test/pizza/482858.jpg (deflated 0%)\n",
            "  adding: data/pizza_steak_sushi_20_percent/test/pizza/724290.jpg (deflated 19%)\n",
            "  adding: data/pizza_steak_sushi_20_percent/test/pizza/788315.jpg (deflated 0%)\n",
            "  adding: data/pizza_steak_sushi_20_percent/test/pizza/648055.jpg (deflated 0%)\n",
            "  adding: data/pizza_steak_sushi_20_percent/test/pizza/441659.jpg (deflated 0%)\n",
            "  adding: data/pizza_steak_sushi_20_percent/test/pizza/998005.jpg (deflated 0%)\n",
            "  adding: data/pizza_steak_sushi_20_percent/test/pizza/3497151.jpg (deflated 1%)\n",
            "  adding: data/pizza_steak_sushi_20_percent/test/pizza/61656.jpg (deflated 0%)\n",
            "  adding: data/pizza_steak_sushi_20_percent/test/pizza/833711.jpg (deflated 0%)\n",
            "  adding: data/pizza_steak_sushi_20_percent/test/pizza/204151.jpg (deflated 0%)\n",
            "  adding: data/pizza_steak_sushi_20_percent/test/pizza/2398925.jpg (deflated 0%)\n",
            "  adding: data/pizza_steak_sushi_20_percent/test/pizza/1618659.jpg (deflated 1%)\n",
            "  adding: data/pizza_steak_sushi_20_percent/test/pizza/2250611.jpg (deflated 1%)\n",
            "  adding: data/pizza_steak_sushi_20_percent/test/pizza/2582289.jpg (deflated 17%)\n",
            "  adding: data/pizza_steak_sushi_20_percent/test/pizza/419962.jpg (deflated 0%)\n",
            "  adding: data/pizza_steak_sushi_20_percent/test/pizza/1032754.jpg (deflated 0%)\n",
            "  adding: data/pizza_steak_sushi_20_percent/test/pizza/1315645.jpg (deflated 1%)\n",
            "  adding: data/pizza_steak_sushi_20_percent/test/pizza/3174637.jpg (deflated 0%)\n",
            "  adding: data/pizza_steak_sushi_20_percent/test/pizza/420409.jpg (deflated 0%)\n",
            "  adding: data/pizza_steak_sushi_20_percent/test/pizza/796922.jpg (deflated 0%)\n",
            "  adding: data/pizza_steak_sushi_20_percent/test/pizza/3486640.jpg (deflated 0%)\n",
            "  adding: data/pizza_steak_sushi_20_percent/test/pizza/3729167.jpg (deflated 0%)\n",
            "  adding: data/pizza_steak_sushi_20_percent/test/pizza/3376617.jpg (deflated 0%)\n",
            "  adding: data/pizza_steak_sushi_20_percent/test/pizza/476421.jpg (deflated 22%)\n",
            "  adding: data/pizza_steak_sushi_20_percent/test/pizza/2111981.jpg (deflated 1%)\n",
            "  adding: data/pizza_steak_sushi_20_percent/test/pizza/138961.jpg (deflated 0%)\n",
            "  adding: data/pizza_steak_sushi_20_percent/test/pizza/1555015.jpg (deflated 0%)\n",
            "  adding: data/pizza_steak_sushi_20_percent/test/pizza/3375083.jpg (deflated 0%)\n",
            "  adding: data/pizza_steak_sushi_20_percent/test/pizza/2901001.jpg (deflated 0%)\n",
            "  adding: data/pizza_steak_sushi_20_percent/test/pizza/2997525.jpg (deflated 0%)\n",
            "  adding: data/pizza_steak_sushi_20_percent/test/pizza/2782998.jpg (deflated 1%)\n",
            "  adding: data/pizza_steak_sushi_20_percent/test/pizza/1001116.jpg (deflated 0%)\n",
            "  adding: data/pizza_steak_sushi_20_percent/test/pizza/1067986.jpg (deflated 1%)\n",
            "  adding: data/pizza_steak_sushi_20_percent/test/pizza/380739.jpg (deflated 0%)\n",
            "  adding: data/pizza_steak_sushi_20_percent/test/pizza/2572488.jpg (deflated 1%)\n",
            "  adding: data/pizza_steak_sushi_20_percent/test/pizza/3770514.jpg (deflated 0%)\n",
            "  adding: data/pizza_steak_sushi_20_percent/test/pizza/3785667.jpg (deflated 0%)\n",
            "  adding: data/pizza_steak_sushi_20_percent/test/pizza/1687143.jpg (deflated 0%)\n",
            "  adding: data/pizza_steak_sushi_20_percent/test/pizza/296426.jpg (deflated 0%)\n",
            "  adding: data/pizza_steak_sushi_20_percent/test/pizza/930553.jpg (deflated 0%)\n",
            "  adding: data/pizza_steak_sushi_20_percent/test/pizza/771336.jpg (deflated 3%)\n",
            "  adding: data/pizza_steak_sushi_20_percent/test/steak/ (stored 0%)\n",
            "  adding: data/pizza_steak_sushi_20_percent/test/steak/289822.jpg (deflated 0%)\n",
            "  adding: data/pizza_steak_sushi_20_percent/test/steak/3497585.jpg (deflated 1%)\n",
            "  adding: data/pizza_steak_sushi_20_percent/test/steak/2061929.jpg (deflated 1%)\n",
            "  adding: data/pizza_steak_sushi_20_percent/test/steak/413497.jpg (deflated 0%)\n",
            "  adding: data/pizza_steak_sushi_20_percent/test/steak/3873655.jpg (deflated 1%)\n",
            "  adding: data/pizza_steak_sushi_20_percent/test/steak/1882831.jpg (deflated 0%)\n",
            "  adding: data/pizza_steak_sushi_20_percent/test/steak/1655387.jpg (deflated 13%)\n",
            "  adding: data/pizza_steak_sushi_20_percent/test/steak/2756200.jpg (deflated 1%)\n",
            "  adding: data/pizza_steak_sushi_20_percent/test/steak/1848936.jpg (deflated 1%)\n",
            "  adding: data/pizza_steak_sushi_20_percent/test/steak/108310.jpg (deflated 0%)\n",
            "  adding: data/pizza_steak_sushi_20_percent/test/steak/670345.jpg (deflated 0%)\n",
            "  adding: data/pizza_steak_sushi_20_percent/test/steak/3479599.jpg (deflated 1%)\n",
            "  adding: data/pizza_steak_sushi_20_percent/test/steak/1972463.jpg (deflated 1%)\n",
            "  adding: data/pizza_steak_sushi_20_percent/test/steak/2117351.jpg (deflated 1%)\n",
            "  adding: data/pizza_steak_sushi_20_percent/test/steak/48208.jpg (deflated 15%)\n",
            "  adding: data/pizza_steak_sushi_20_percent/test/steak/3100563.jpg (deflated 0%)\n",
            "  adding: data/pizza_steak_sushi_20_percent/test/steak/2069289.jpg (deflated 1%)\n",
            "  adding: data/pizza_steak_sushi_20_percent/test/steak/2475366.jpg (deflated 2%)\n",
            "  adding: data/pizza_steak_sushi_20_percent/test/steak/730464.jpg (deflated 0%)\n",
            "  adding: data/pizza_steak_sushi_20_percent/test/steak/2365038.jpg (deflated 3%)\n",
            "  adding: data/pizza_steak_sushi_20_percent/test/steak/1523026.jpg (deflated 1%)\n",
            "  adding: data/pizza_steak_sushi_20_percent/test/steak/3622237.jpg (deflated 0%)\n",
            "  adding: data/pizza_steak_sushi_20_percent/test/steak/2716791.jpg (deflated 1%)\n",
            "  adding: data/pizza_steak_sushi_20_percent/test/steak/1982192.jpg (deflated 0%)\n",
            "  adding: data/pizza_steak_sushi_20_percent/test/steak/1166047.jpg (deflated 1%)\n",
            "  adding: data/pizza_steak_sushi_20_percent/test/steak/1302563.jpg (deflated 1%)\n",
            "  adding: data/pizza_steak_sushi_20_percent/test/steak/86782.jpg (deflated 0%)\n",
            "  adding: data/pizza_steak_sushi_20_percent/test/steak/2315011.jpg (deflated 0%)\n",
            "  adding: data/pizza_steak_sushi_20_percent/test/steak/3553838.jpg (deflated 0%)\n",
            "  adding: data/pizza_steak_sushi_20_percent/test/steak/2246332.jpg (deflated 2%)\n",
            "  adding: data/pizza_steak_sushi_20_percent/test/steak/550687.jpg (deflated 0%)\n",
            "  adding: data/pizza_steak_sushi_20_percent/test/steak/746921.jpg (deflated 0%)\n",
            "  adding: data/pizza_steak_sushi_20_percent/test/steak/1082384.jpg (deflated 0%)\n",
            "  adding: data/pizza_steak_sushi_20_percent/test/steak/39461.jpg (deflated 0%)\n",
            "  adding: data/pizza_steak_sushi_20_percent/test/steak/1902895.jpg (deflated 1%)\n",
            "  adding: data/pizza_steak_sushi_20_percent/test/steak/100274.jpg (deflated 1%)\n",
            "  adding: data/pizza_steak_sushi_20_percent/test/steak/66858.jpg (deflated 0%)\n",
            "  adding: data/pizza_steak_sushi_20_percent/test/steak/1482489.jpg (deflated 1%)\n",
            "  adding: data/pizza_steak_sushi_20_percent/test/steak/476333.jpg (deflated 0%)\n",
            "  adding: data/pizza_steak_sushi_20_percent/test/steak/595836.jpg (deflated 1%)\n",
            "  adding: data/pizza_steak_sushi_20_percent/test/steak/2752603.jpg (deflated 1%)\n",
            "  adding: data/pizza_steak_sushi_20_percent/test/steak/2307638.jpg (deflated 1%)\n",
            "  adding: data/pizza_steak_sushi_20_percent/test/steak/3757027.jpg (deflated 0%)\n",
            "  adding: data/pizza_steak_sushi_20_percent/test/steak/831681.jpg (deflated 1%)\n",
            "  adding: data/pizza_steak_sushi_20_percent/test/steak/367422.jpg (deflated 0%)\n",
            "  adding: data/pizza_steak_sushi_20_percent/test/steak/1335842.jpg (deflated 0%)\n",
            "  adding: data/pizza_steak_sushi_20_percent/test/steak/3541033.jpg (deflated 1%)\n",
            "  adding: data/pizza_steak_sushi_20_percent/test/steak/3173402.jpg (deflated 1%)\n",
            "  adding: data/pizza_steak_sushi_20_percent/test/steak/3063435.jpg (deflated 1%)\n",
            "  adding: data/pizza_steak_sushi_20_percent/test/steak/2353677.jpg (deflated 0%)\n",
            "  adding: data/pizza_steak_sushi_20_percent/test/steak/399377.jpg (deflated 0%)\n",
            "  adding: data/pizza_steak_sushi_20_percent/test/steak/219196.jpg (deflated 0%)\n",
            "  adding: data/pizza_steak_sushi_20_percent/test/steak/864661.jpg (deflated 1%)\n",
            "  adding: data/pizza_steak_sushi_20_percent/test/steak/1285886.jpg (deflated 0%)\n",
            "  adding: data/pizza_steak_sushi_20_percent/test/steak/552171.jpg (deflated 11%)\n",
            "  adding: data/pizza_steak_sushi_20_percent/test/steak/697562.jpg (deflated 1%)\n",
            "  adding: data/pizza_steak_sushi_20_percent/test/steak/3138001.jpg (deflated 0%)\n",
            "  adding: data/pizza_steak_sushi_20_percent/test/steak/40947.jpg (deflated 0%)\n",
            "  adding: data/pizza_steak_sushi_20_percent/train/ (stored 0%)\n",
            "  adding: data/pizza_steak_sushi_20_percent/train/sushi/ (stored 0%)\n",
            "  adding: data/pizza_steak_sushi_20_percent/train/sushi/2267190.jpg (deflated 1%)\n",
            "  adding: data/pizza_steak_sushi_20_percent/train/sushi/377047.jpg (deflated 0%)\n",
            "  adding: data/pizza_steak_sushi_20_percent/train/sushi/3036492.jpg (deflated 1%)\n",
            "  adding: data/pizza_steak_sushi_20_percent/train/sushi/731414.jpg (deflated 0%)\n",
            "  adding: data/pizza_steak_sushi_20_percent/train/sushi/2323548.jpg (deflated 1%)\n",
            "  adding: data/pizza_steak_sushi_20_percent/train/sushi/852186.jpg (deflated 0%)\n",
            "  adding: data/pizza_steak_sushi_20_percent/train/sushi/902214.jpg (deflated 1%)\n",
            "  adding: data/pizza_steak_sushi_20_percent/train/sushi/3600867.jpg (deflated 1%)\n",
            "  adding: data/pizza_steak_sushi_20_percent/train/sushi/2318569.jpg (deflated 0%)\n",
            "  adding: data/pizza_steak_sushi_20_percent/train/sushi/20588.jpg (deflated 0%)\n",
            "  adding: data/pizza_steak_sushi_20_percent/train/sushi/2814372.jpg (deflated 1%)\n",
            "  adding: data/pizza_steak_sushi_20_percent/train/sushi/2019344.jpg (deflated 0%)\n",
            "  adding: data/pizza_steak_sushi_20_percent/train/sushi/623621.jpg (deflated 0%)\n",
            "  adding: data/pizza_steak_sushi_20_percent/train/sushi/2021381.jpg (deflated 2%)\n",
            "  adding: data/pizza_steak_sushi_20_percent/train/sushi/2004525.jpg (deflated 1%)\n",
            "  adding: data/pizza_steak_sushi_20_percent/train/sushi/1398853.jpg (deflated 0%)\n",
            "  adding: data/pizza_steak_sushi_20_percent/train/sushi/96680.jpg (deflated 0%)\n",
            "  adding: data/pizza_steak_sushi_20_percent/train/sushi/638929.jpg (deflated 0%)\n",
            "  adding: data/pizza_steak_sushi_20_percent/train/sushi/2120573.jpg (deflated 12%)\n",
            "  adding: data/pizza_steak_sushi_20_percent/train/sushi/1423517.jpg (deflated 0%)\n",
            "  adding: data/pizza_steak_sushi_20_percent/train/sushi/77209.jpg (deflated 7%)\n",
            "  adding: data/pizza_steak_sushi_20_percent/train/sushi/2674024.jpg (deflated 0%)\n",
            "  adding: data/pizza_steak_sushi_20_percent/train/sushi/900178.jpg (deflated 1%)\n",
            "  adding: data/pizza_steak_sushi_20_percent/train/sushi/1092674.jpg (deflated 1%)\n",
            "  adding: data/pizza_steak_sushi_20_percent/train/sushi/3004029.jpg (deflated 0%)\n",
            "  adding: data/pizza_steak_sushi_20_percent/train/sushi/2120484.jpg (deflated 0%)\n",
            "  adding: data/pizza_steak_sushi_20_percent/train/sushi/3426958.jpg (deflated 0%)\n",
            "  adding: data/pizza_steak_sushi_20_percent/train/sushi/1615453.jpg (deflated 0%)\n",
            "  adding: data/pizza_steak_sushi_20_percent/train/sushi/1033302.jpg (deflated 1%)\n",
            "  adding: data/pizza_steak_sushi_20_percent/train/sushi/3335345.jpg (deflated 14%)\n",
            "  adding: data/pizza_steak_sushi_20_percent/train/sushi/2995090.jpg (deflated 0%)\n",
            "  adding: data/pizza_steak_sushi_20_percent/train/sushi/2349183.jpg (deflated 0%)\n",
            "  adding: data/pizza_steak_sushi_20_percent/train/sushi/148799.jpg (deflated 0%)\n",
            "  adding: data/pizza_steak_sushi_20_percent/train/sushi/3191504.jpg (deflated 1%)\n",
            "  adding: data/pizza_steak_sushi_20_percent/train/sushi/1422524.jpg (deflated 0%)\n",
            "  adding: data/pizza_steak_sushi_20_percent/train/sushi/998971.jpg (deflated 0%)\n",
            "  adding: data/pizza_steak_sushi_20_percent/train/sushi/548408.jpg (deflated 0%)\n",
            "  adding: data/pizza_steak_sushi_20_percent/train/sushi/2873571.jpg (deflated 0%)\n",
            "  adding: data/pizza_steak_sushi_20_percent/train/sushi/2813454.jpg (deflated 0%)\n",
            "  adding: data/pizza_steak_sushi_20_percent/train/sushi/929471.jpg (deflated 0%)\n",
            "  adding: data/pizza_steak_sushi_20_percent/train/sushi/932954.jpg (deflated 1%)\n",
            "  adding: data/pizza_steak_sushi_20_percent/train/sushi/2211604.jpg (deflated 0%)\n",
            "  adding: data/pizza_steak_sushi_20_percent/train/sushi/2036680.jpg (deflated 1%)\n",
            "  adding: data/pizza_steak_sushi_20_percent/train/sushi/2017378.jpg (deflated 0%)\n",
            "  adding: data/pizza_steak_sushi_20_percent/train/sushi/1919810.jpg (deflated 2%)\n",
            "  adding: data/pizza_steak_sushi_20_percent/train/sushi/2871052.jpg (deflated 0%)\n",
            "  adding: data/pizza_steak_sushi_20_percent/train/sushi/464276.jpg (deflated 1%)\n",
            "  adding: data/pizza_steak_sushi_20_percent/train/sushi/3880093.jpg (deflated 1%)\n",
            "  adding: data/pizza_steak_sushi_20_percent/train/sushi/1221830.jpg (deflated 21%)\n",
            "  adding: data/pizza_steak_sushi_20_percent/train/sushi/1303005.jpg (deflated 1%)\n",
            "  adding: data/pizza_steak_sushi_20_percent/train/sushi/1924555.jpg (deflated 1%)\n",
            "  adding: data/pizza_steak_sushi_20_percent/train/sushi/999858.jpg (deflated 1%)\n",
            "  adding: data/pizza_steak_sushi_20_percent/train/sushi/390178.jpg (deflated 0%)\n",
            "  adding: data/pizza_steak_sushi_20_percent/train/sushi/2692550.jpg (deflated 0%)\n",
            "  adding: data/pizza_steak_sushi_20_percent/train/sushi/2641778.jpg (deflated 1%)\n",
            "  adding: data/pizza_steak_sushi_20_percent/train/sushi/200025.jpg (deflated 0%)\n",
            "  adding: data/pizza_steak_sushi_20_percent/train/sushi/2175561.jpg (deflated 1%)\n",
            "  adding: data/pizza_steak_sushi_20_percent/train/sushi/307738.jpg (deflated 0%)\n",
            "  adding: data/pizza_steak_sushi_20_percent/train/sushi/3360232.jpg (deflated 11%)\n",
            "  adding: data/pizza_steak_sushi_20_percent/train/sushi/310820.jpg (deflated 0%)\n",
            "  adding: data/pizza_steak_sushi_20_percent/train/sushi/1085066.jpg (deflated 1%)\n",
            "  adding: data/pizza_steak_sushi_20_percent/train/sushi/1659155.jpg (deflated 1%)\n",
            "  adding: data/pizza_steak_sushi_20_percent/train/sushi/1538536.jpg (deflated 0%)\n",
            "  adding: data/pizza_steak_sushi_20_percent/train/sushi/2574453.jpg (deflated 0%)\n",
            "  adding: data/pizza_steak_sushi_20_percent/train/sushi/1138695.jpg (deflated 1%)\n",
            "  adding: data/pizza_steak_sushi_20_percent/train/sushi/649456.jpg (deflated 0%)\n",
            "  adding: data/pizza_steak_sushi_20_percent/train/sushi/2021685.jpg (deflated 3%)\n",
            "  adding: data/pizza_steak_sushi_20_percent/train/sushi/865839.jpg (deflated 1%)\n",
            "  adding: data/pizza_steak_sushi_20_percent/train/sushi/2168648.jpg (deflated 1%)\n",
            "  adding: data/pizza_steak_sushi_20_percent/train/sushi/766596.jpg (deflated 0%)\n",
            "  adding: data/pizza_steak_sushi_20_percent/train/sushi/881859.jpg (deflated 0%)\n",
            "  adding: data/pizza_steak_sushi_20_percent/train/sushi/1025041.jpg (deflated 1%)\n",
            "  adding: data/pizza_steak_sushi_20_percent/train/sushi/733020.jpg (deflated 0%)\n",
            "  adding: data/pizza_steak_sushi_20_percent/train/sushi/1674187.jpg (deflated 1%)\n",
            "  adding: data/pizza_steak_sushi_20_percent/train/sushi/710379.jpg (deflated 0%)\n",
            "  adding: data/pizza_steak_sushi_20_percent/train/sushi/3001740.jpg (deflated 1%)\n",
            "  adding: data/pizza_steak_sushi_20_percent/train/sushi/3590238.jpg (deflated 1%)\n",
            "  adding: data/pizza_steak_sushi_20_percent/train/sushi/67007.jpg (deflated 4%)\n",
            "  adding: data/pizza_steak_sushi_20_percent/train/sushi/3579071.jpg (deflated 1%)\n",
            "  adding: data/pizza_steak_sushi_20_percent/train/sushi/1551817.jpg (deflated 0%)\n",
            "  adding: data/pizza_steak_sushi_20_percent/train/sushi/794736.jpg (deflated 22%)\n",
            "  adding: data/pizza_steak_sushi_20_percent/train/sushi/821108.jpg (deflated 0%)\n",
            "  adding: data/pizza_steak_sushi_20_percent/train/sushi/1152316.jpg (deflated 1%)\n",
            "  adding: data/pizza_steak_sushi_20_percent/train/sushi/1280119.jpg (deflated 0%)\n",
            "  adding: data/pizza_steak_sushi_20_percent/train/sushi/3576399.jpg (deflated 30%)\n",
            "  adding: data/pizza_steak_sushi_20_percent/train/sushi/268990.jpg (deflated 0%)\n",
            "  adding: data/pizza_steak_sushi_20_percent/train/sushi/1129338.jpg (deflated 0%)\n",
            "  adding: data/pizza_steak_sushi_20_percent/train/sushi/308627.jpg (deflated 0%)\n",
            "  adding: data/pizza_steak_sushi_20_percent/train/sushi/3081701.jpg (deflated 1%)\n",
            "  adding: data/pizza_steak_sushi_20_percent/train/sushi/1717393.jpg (deflated 1%)\n",
            "  adding: data/pizza_steak_sushi_20_percent/train/sushi/1930318.jpg (deflated 1%)\n",
            "  adding: data/pizza_steak_sushi_20_percent/train/sushi/17704.jpg (deflated 0%)\n",
            "  adding: data/pizza_steak_sushi_20_percent/train/sushi/385154.jpg (deflated 0%)\n",
            "  adding: data/pizza_steak_sushi_20_percent/train/sushi/93139.jpg (deflated 1%)\n",
            "  adding: data/pizza_steak_sushi_20_percent/train/sushi/3179173.jpg (deflated 18%)\n",
            "  adding: data/pizza_steak_sushi_20_percent/train/sushi/3353428.jpg (deflated 0%)\n",
            "  adding: data/pizza_steak_sushi_20_percent/train/sushi/843815.jpg (deflated 0%)\n",
            "  adding: data/pizza_steak_sushi_20_percent/train/sushi/773725.jpg (deflated 3%)\n",
            "  adding: data/pizza_steak_sushi_20_percent/train/sushi/3618081.jpg (deflated 0%)\n",
            "  adding: data/pizza_steak_sushi_20_percent/train/sushi/1070104.jpg (deflated 17%)\n",
            "  adding: data/pizza_steak_sushi_20_percent/train/sushi/424994.jpg (deflated 0%)\n",
            "  adding: data/pizza_steak_sushi_20_percent/train/sushi/2590819.jpg (deflated 1%)\n",
            "  adding: data/pizza_steak_sushi_20_percent/train/sushi/2906905.jpg (deflated 1%)\n",
            "  adding: data/pizza_steak_sushi_20_percent/train/sushi/23060.jpg (deflated 0%)\n",
            "  adding: data/pizza_steak_sushi_20_percent/train/sushi/3309395.jpg (deflated 1%)\n",
            "  adding: data/pizza_steak_sushi_20_percent/train/sushi/1168726.jpg (deflated 7%)\n",
            "  adding: data/pizza_steak_sushi_20_percent/train/sushi/2980779.jpg (deflated 1%)\n",
            "  adding: data/pizza_steak_sushi_20_percent/train/sushi/2667370.jpg (deflated 0%)\n",
            "  adding: data/pizza_steak_sushi_20_percent/train/sushi/2156885.jpg (deflated 0%)\n",
            "  adding: data/pizza_steak_sushi_20_percent/train/sushi/953649.jpg (deflated 1%)\n",
            "  adding: data/pizza_steak_sushi_20_percent/train/sushi/2438557.jpg (deflated 1%)\n",
            "  adding: data/pizza_steak_sushi_20_percent/train/sushi/3107839.jpg (deflated 0%)\n",
            "  adding: data/pizza_steak_sushi_20_percent/train/sushi/3157863.jpg (deflated 0%)\n",
            "  adding: data/pizza_steak_sushi_20_percent/train/sushi/2388655.jpg (deflated 23%)\n",
            "  adding: data/pizza_steak_sushi_20_percent/train/sushi/2357133.jpg (deflated 1%)\n",
            "  adding: data/pizza_steak_sushi_20_percent/train/sushi/1179238.jpg (deflated 0%)\n",
            "  adding: data/pizza_steak_sushi_20_percent/train/sushi/2087002.jpg (deflated 0%)\n",
            "  adding: data/pizza_steak_sushi_20_percent/train/sushi/2431398.jpg (deflated 1%)\n",
            "  adding: data/pizza_steak_sushi_20_percent/train/sushi/3827966.jpg (deflated 0%)\n",
            "  adding: data/pizza_steak_sushi_20_percent/train/sushi/1957449.jpg (deflated 0%)\n",
            "  adding: data/pizza_steak_sushi_20_percent/train/sushi/38958.jpg (deflated 14%)\n",
            "  adding: data/pizza_steak_sushi_20_percent/train/sushi/121940.jpg (deflated 0%)\n",
            "  adding: data/pizza_steak_sushi_20_percent/train/sushi/2509962.jpg (deflated 1%)\n",
            "  adding: data/pizza_steak_sushi_20_percent/train/sushi/2507003.jpg (deflated 1%)\n",
            "  adding: data/pizza_steak_sushi_20_percent/train/sushi/2634094.jpg (deflated 2%)\n",
            "  adding: data/pizza_steak_sushi_20_percent/train/sushi/155981.jpg (deflated 0%)\n",
            "  adding: data/pizza_steak_sushi_20_percent/train/sushi/414450.jpg (deflated 0%)\n",
            "  adding: data/pizza_steak_sushi_20_percent/train/sushi/507775.jpg (deflated 0%)\n",
            "  adding: data/pizza_steak_sushi_20_percent/train/sushi/2797464.jpg (deflated 1%)\n",
            "  adding: data/pizza_steak_sushi_20_percent/train/sushi/3737197.jpg (deflated 1%)\n",
            "  adding: data/pizza_steak_sushi_20_percent/train/sushi/592581.jpg (deflated 0%)\n",
            "  adding: data/pizza_steak_sushi_20_percent/train/sushi/1626195.jpg (deflated 0%)\n",
            "  adding: data/pizza_steak_sushi_20_percent/train/sushi/920703.jpg (deflated 0%)\n",
            "  adding: data/pizza_steak_sushi_20_percent/train/sushi/3226272.jpg (deflated 1%)\n",
            "  adding: data/pizza_steak_sushi_20_percent/train/sushi/185340.jpg (deflated 0%)\n",
            "  adding: data/pizza_steak_sushi_20_percent/train/sushi/285268.jpg (deflated 0%)\n",
            "  adding: data/pizza_steak_sushi_20_percent/train/sushi/1232045.jpg (deflated 1%)\n",
            "  adding: data/pizza_steak_sushi_20_percent/train/sushi/2970648.jpg (deflated 0%)\n",
            "  adding: data/pizza_steak_sushi_20_percent/train/sushi/1575445.jpg (deflated 0%)\n",
            "  adding: data/pizza_steak_sushi_20_percent/train/sushi/170385.jpg (deflated 0%)\n",
            "  adding: data/pizza_steak_sushi_20_percent/train/sushi/2937874.jpg (deflated 0%)\n",
            "  adding: data/pizza_steak_sushi_20_percent/train/sushi/1552504.jpg (deflated 0%)\n",
            "  adding: data/pizza_steak_sushi_20_percent/train/sushi/1209865.jpg (deflated 1%)\n",
            "  adding: data/pizza_steak_sushi_20_percent/train/sushi/1429127.jpg (deflated 1%)\n",
            "  adding: data/pizza_steak_sushi_20_percent/train/sushi/3493412.jpg (deflated 1%)\n",
            "  adding: data/pizza_steak_sushi_20_percent/train/sushi/3231443.jpg (deflated 1%)\n",
            "  adding: data/pizza_steak_sushi_20_percent/train/sushi/568994.jpg (deflated 1%)\n",
            "  adding: data/pizza_steak_sushi_20_percent/train/sushi/3755656.jpg (deflated 1%)\n",
            "  adding: data/pizza_steak_sushi_20_percent/train/sushi/3337386.jpg (deflated 1%)\n",
            "  adding: data/pizza_steak_sushi_20_percent/train/sushi/3734413.jpg (deflated 1%)\n",
            "  adding: data/pizza_steak_sushi_20_percent/train/pizza/ (stored 0%)\n",
            "  adding: data/pizza_steak_sushi_20_percent/train/pizza/54461.jpg (deflated 1%)\n",
            "  adding: data/pizza_steak_sushi_20_percent/train/pizza/3478964.jpg (deflated 0%)\n",
            "  adding: data/pizza_steak_sushi_20_percent/train/pizza/2365046.jpg (deflated 1%)\n",
            "  adding: data/pizza_steak_sushi_20_percent/train/pizza/979998.jpg (deflated 11%)\n",
            "  adding: data/pizza_steak_sushi_20_percent/train/pizza/1625147.jpg (deflated 1%)\n",
            "  adding: data/pizza_steak_sushi_20_percent/train/pizza/1717790.jpg (deflated 0%)\n",
            "  adding: data/pizza_steak_sushi_20_percent/train/pizza/1947572.jpg (deflated 1%)\n",
            "  adding: data/pizza_steak_sushi_20_percent/train/pizza/2760984.jpg (deflated 0%)\n",
            "  adding: data/pizza_steak_sushi_20_percent/train/pizza/1836888.jpg (deflated 1%)\n",
            "  adding: data/pizza_steak_sushi_20_percent/train/pizza/3703769.jpg (deflated 0%)\n",
            "  adding: data/pizza_steak_sushi_20_percent/train/pizza/2576168.jpg (deflated 0%)\n",
            "  adding: data/pizza_steak_sushi_20_percent/train/pizza/3821701.jpg (deflated 0%)\n",
            "  adding: data/pizza_steak_sushi_20_percent/train/pizza/1008844.jpg (deflated 1%)\n",
            "  adding: data/pizza_steak_sushi_20_percent/train/pizza/2312987.jpg (deflated 0%)\n",
            "  adding: data/pizza_steak_sushi_20_percent/train/pizza/320570.jpg (deflated 0%)\n",
            "  adding: data/pizza_steak_sushi_20_percent/train/pizza/3401720.jpg (deflated 0%)\n",
            "  adding: data/pizza_steak_sushi_20_percent/train/pizza/2584745.jpg (deflated 0%)\n",
            "  adding: data/pizza_steak_sushi_20_percent/train/pizza/1245628.jpg (deflated 1%)\n",
            "  adding: data/pizza_steak_sushi_20_percent/train/pizza/652004.jpg (deflated 0%)\n",
            "  adding: data/pizza_steak_sushi_20_percent/train/pizza/2451169.jpg (deflated 0%)\n",
            "  adding: data/pizza_steak_sushi_20_percent/train/pizza/23199.jpg (deflated 0%)\n",
            "  adding: data/pizza_steak_sushi_20_percent/train/pizza/2570329.jpg (deflated 0%)\n",
            "  adding: data/pizza_steak_sushi_20_percent/train/pizza/2811032.jpg (deflated 1%)\n",
            "  adding: data/pizza_steak_sushi_20_percent/train/pizza/702165.jpg (deflated 0%)\n",
            "  adding: data/pizza_steak_sushi_20_percent/train/pizza/352051.jpg (deflated 0%)\n",
            "  adding: data/pizza_steak_sushi_20_percent/train/pizza/2486277.jpg (deflated 1%)\n",
            "  adding: data/pizza_steak_sushi_20_percent/train/pizza/13983.jpg (deflated 0%)\n",
            "  adding: data/pizza_steak_sushi_20_percent/train/pizza/1029698.jpg (deflated 0%)\n",
            "  adding: data/pizza_steak_sushi_20_percent/train/pizza/2785084.jpg (deflated 1%)\n",
            "  adding: data/pizza_steak_sushi_20_percent/train/pizza/2885796.jpg (deflated 0%)\n",
            "  adding: data/pizza_steak_sushi_20_percent/train/pizza/1649276.jpg (deflated 1%)\n",
            "  adding: data/pizza_steak_sushi_20_percent/train/pizza/910419.jpg (deflated 1%)\n",
            "  adding: data/pizza_steak_sushi_20_percent/train/pizza/2426686.jpg (deflated 1%)\n",
            "  adding: data/pizza_steak_sushi_20_percent/train/pizza/3871666.jpg (deflated 1%)\n",
            "  adding: data/pizza_steak_sushi_20_percent/train/pizza/2569760.jpg (deflated 0%)\n",
            "  adding: data/pizza_steak_sushi_20_percent/train/pizza/1105700.jpg (deflated 0%)\n",
            "  adding: data/pizza_steak_sushi_20_percent/train/pizza/3530210.jpg (deflated 1%)\n",
            "  adding: data/pizza_steak_sushi_20_percent/train/pizza/715169.jpg (deflated 0%)\n",
            "  adding: data/pizza_steak_sushi_20_percent/train/pizza/2019441.jpg (deflated 1%)\n",
            "  adding: data/pizza_steak_sushi_20_percent/train/pizza/218711.jpg (deflated 0%)\n",
            "  adding: data/pizza_steak_sushi_20_percent/train/pizza/1964051.jpg (deflated 1%)\n",
            "  adding: data/pizza_steak_sushi_20_percent/train/pizza/517902.jpg (deflated 0%)\n",
            "  adding: data/pizza_steak_sushi_20_percent/train/pizza/1743389.jpg (deflated 1%)\n",
            "  adding: data/pizza_steak_sushi_20_percent/train/pizza/1633289.jpg (deflated 0%)\n",
            "  adding: data/pizza_steak_sushi_20_percent/train/pizza/3082443.jpg (deflated 0%)\n",
            "  adding: data/pizza_steak_sushi_20_percent/train/pizza/3269634.jpg (deflated 0%)\n",
            "  adding: data/pizza_steak_sushi_20_percent/train/pizza/2121603.jpg (deflated 0%)\n",
            "  adding: data/pizza_steak_sushi_20_percent/train/pizza/3675128.jpg (deflated 1%)\n",
            "  adding: data/pizza_steak_sushi_20_percent/train/pizza/3393898.jpg (deflated 1%)\n",
            "  adding: data/pizza_steak_sushi_20_percent/train/pizza/2285942.jpg (deflated 1%)\n",
            "  adding: data/pizza_steak_sushi_20_percent/train/pizza/3196721.jpg (deflated 1%)\n",
            "  adding: data/pizza_steak_sushi_20_percent/train/pizza/1407753.jpg (deflated 0%)\n",
            "  adding: data/pizza_steak_sushi_20_percent/train/pizza/3860002.jpg (deflated 0%)\n",
            "  adding: data/pizza_steak_sushi_20_percent/train/pizza/2330965.jpg (deflated 0%)\n",
            "  adding: data/pizza_steak_sushi_20_percent/train/pizza/300869.jpg (deflated 0%)\n",
            "  adding: data/pizza_steak_sushi_20_percent/train/pizza/618348.jpg (deflated 0%)\n",
            "  adding: data/pizza_steak_sushi_20_percent/train/pizza/3018077.jpg (deflated 1%)\n",
            "  adding: data/pizza_steak_sushi_20_percent/train/pizza/3699992.jpg (deflated 2%)\n",
            "  adding: data/pizza_steak_sushi_20_percent/train/pizza/1660415.jpg (deflated 0%)\n",
            "  adding: data/pizza_steak_sushi_20_percent/train/pizza/2999507.jpg (deflated 0%)\n",
            "  adding: data/pizza_steak_sushi_20_percent/train/pizza/1899785.jpg (deflated 1%)\n",
            "  adding: data/pizza_steak_sushi_20_percent/train/pizza/3913912.jpg (deflated 1%)\n",
            "  adding: data/pizza_steak_sushi_20_percent/train/pizza/2154394.jpg (deflated 0%)\n",
            "  adding: data/pizza_steak_sushi_20_percent/train/pizza/29417.jpg (deflated 0%)\n",
            "  adding: data/pizza_steak_sushi_20_percent/train/pizza/853441.jpg (deflated 0%)\n",
            "  adding: data/pizza_steak_sushi_20_percent/train/pizza/1065078.jpg (deflated 0%)\n",
            "  adding: data/pizza_steak_sushi_20_percent/train/pizza/3660716.jpg (deflated 1%)\n",
            "  adding: data/pizza_steak_sushi_20_percent/train/pizza/5764.jpg (deflated 6%)\n",
            "  adding: data/pizza_steak_sushi_20_percent/train/pizza/2885050.jpg (deflated 1%)\n",
            "  adding: data/pizza_steak_sushi_20_percent/train/pizza/1763205.jpg (deflated 0%)\n",
            "  adding: data/pizza_steak_sushi_20_percent/train/pizza/8917.jpg (deflated 0%)\n",
            "  adding: data/pizza_steak_sushi_20_percent/train/pizza/3128495.jpg (deflated 1%)\n",
            "  adding: data/pizza_steak_sushi_20_percent/train/pizza/38349.jpg (deflated 0%)\n",
            "  adding: data/pizza_steak_sushi_20_percent/train/pizza/3191035.jpg (deflated 1%)\n",
            "  adding: data/pizza_steak_sushi_20_percent/train/pizza/3917951.jpg (deflated 1%)\n",
            "  adding: data/pizza_steak_sushi_20_percent/train/pizza/1686908.jpg (deflated 0%)\n",
            "  adding: data/pizza_steak_sushi_20_percent/train/pizza/1951130.jpg (deflated 27%)\n",
            "  adding: data/pizza_steak_sushi_20_percent/train/pizza/2228322.jpg (deflated 0%)\n",
            "  adding: data/pizza_steak_sushi_20_percent/train/pizza/3082068.jpg (deflated 2%)\n",
            "  adding: data/pizza_steak_sushi_20_percent/train/pizza/474493.jpg (deflated 0%)\n",
            "  adding: data/pizza_steak_sushi_20_percent/train/pizza/271779.jpg (deflated 1%)\n",
            "  adding: data/pizza_steak_sushi_20_percent/train/pizza/1544197.jpg (deflated 0%)\n",
            "  adding: data/pizza_steak_sushi_20_percent/train/pizza/1344966.jpg (deflated 1%)\n",
            "  adding: data/pizza_steak_sushi_20_percent/train/pizza/790841.jpg (deflated 1%)\n",
            "  adding: data/pizza_steak_sushi_20_percent/train/pizza/1998483.jpg (deflated 1%)\n",
            "  adding: data/pizza_steak_sushi_20_percent/train/pizza/3589437.jpg (deflated 0%)\n",
            "  adding: data/pizza_steak_sushi_20_percent/train/pizza/2529205.jpg (deflated 1%)\n",
            "  adding: data/pizza_steak_sushi_20_percent/train/pizza/1871498.jpg (deflated 0%)\n",
            "  adding: data/pizza_steak_sushi_20_percent/train/pizza/3391208.jpg (deflated 14%)\n",
            "  adding: data/pizza_steak_sushi_20_percent/train/pizza/3766476.jpg (deflated 0%)\n",
            "  adding: data/pizza_steak_sushi_20_percent/train/pizza/1636299.jpg (deflated 0%)\n",
            "  adding: data/pizza_steak_sushi_20_percent/train/pizza/244505.jpg (deflated 0%)\n",
            "  adding: data/pizza_steak_sushi_20_percent/train/pizza/253127.jpg (deflated 13%)\n",
            "  adding: data/pizza_steak_sushi_20_percent/train/pizza/1620761.jpg (deflated 1%)\n",
            "  adding: data/pizza_steak_sushi_20_percent/train/pizza/138855.jpg (deflated 0%)\n",
            "  adding: data/pizza_steak_sushi_20_percent/train/pizza/312479.jpg (deflated 0%)\n",
            "  adding: data/pizza_steak_sushi_20_percent/train/pizza/2639094.jpg (deflated 0%)\n",
            "  adding: data/pizza_steak_sushi_20_percent/train/pizza/2702825.jpg (deflated 1%)\n",
            "  adding: data/pizza_steak_sushi_20_percent/train/pizza/2587921.jpg (deflated 0%)\n",
            "  adding: data/pizza_steak_sushi_20_percent/train/pizza/518527.jpg (deflated 0%)\n",
            "  adding: data/pizza_steak_sushi_20_percent/train/pizza/598381.jpg (deflated 1%)\n",
            "  adding: data/pizza_steak_sushi_20_percent/train/pizza/3464027.jpg (deflated 1%)\n",
            "  adding: data/pizza_steak_sushi_20_percent/train/pizza/12301.jpg (deflated 0%)\n",
            "  adding: data/pizza_steak_sushi_20_percent/train/pizza/2687575.jpg (deflated 0%)\n",
            "  adding: data/pizza_steak_sushi_20_percent/train/pizza/3505182.jpg (deflated 1%)\n",
            "  adding: data/pizza_steak_sushi_20_percent/train/pizza/2428085.jpg (deflated 0%)\n",
            "  adding: data/pizza_steak_sushi_20_percent/train/pizza/1968947.jpg (deflated 0%)\n",
            "  adding: data/pizza_steak_sushi_20_percent/train/pizza/1608000.jpg (deflated 1%)\n",
            "  adding: data/pizza_steak_sushi_20_percent/train/pizza/3338774.jpg (deflated 0%)\n",
            "  adding: data/pizza_steak_sushi_20_percent/train/pizza/3281494.jpg (deflated 0%)\n",
            "  adding: data/pizza_steak_sushi_20_percent/train/pizza/2110257.jpg (deflated 1%)\n",
            "  adding: data/pizza_steak_sushi_20_percent/train/pizza/1425089.jpg (deflated 1%)\n",
            "  adding: data/pizza_steak_sushi_20_percent/train/pizza/2534774.jpg (deflated 0%)\n",
            "  adding: data/pizza_steak_sushi_20_percent/train/pizza/1089334.jpg (deflated 14%)\n",
            "  adding: data/pizza_steak_sushi_20_percent/train/pizza/68684.jpg (deflated 7%)\n",
            "  adding: data/pizza_steak_sushi_20_percent/train/pizza/1524655.jpg (deflated 0%)\n",
            "  adding: data/pizza_steak_sushi_20_percent/train/pizza/262133.jpg (deflated 0%)\n",
            "  adding: data/pizza_steak_sushi_20_percent/train/pizza/1617418.jpg (deflated 1%)\n",
            "  adding: data/pizza_steak_sushi_20_percent/train/pizza/2382016.jpg (deflated 0%)\n",
            "  adding: data/pizza_steak_sushi_20_percent/train/pizza/928670.jpg (deflated 1%)\n",
            "  adding: data/pizza_steak_sushi_20_percent/train/pizza/861771.jpg (deflated 0%)\n",
            "  adding: data/pizza_steak_sushi_20_percent/train/pizza/656817.jpg (deflated 0%)\n",
            "  adding: data/pizza_steak_sushi_20_percent/train/pizza/1687681.jpg (deflated 1%)\n",
            "  adding: data/pizza_steak_sushi_20_percent/train/pizza/1107714.jpg (deflated 0%)\n",
            "  adding: data/pizza_steak_sushi_20_percent/train/pizza/2490163.jpg (deflated 1%)\n",
            "  adding: data/pizza_steak_sushi_20_percent/train/pizza/3693710.jpg (deflated 1%)\n",
            "  adding: data/pizza_steak_sushi_20_percent/train/pizza/667309.jpg (deflated 2%)\n",
            "  adding: data/pizza_steak_sushi_20_percent/train/pizza/3441394.jpg (deflated 0%)\n",
            "  adding: data/pizza_steak_sushi_20_percent/train/pizza/1044789.jpg (deflated 0%)\n",
            "  adding: data/pizza_steak_sushi_20_percent/train/pizza/218142.jpg (deflated 0%)\n",
            "  adding: data/pizza_steak_sushi_20_percent/train/pizza/1535273.jpg (deflated 0%)\n",
            "  adding: data/pizza_steak_sushi_20_percent/train/pizza/2077999.jpg (deflated 0%)\n",
            "  adding: data/pizza_steak_sushi_20_percent/train/pizza/1054420.jpg (deflated 1%)\n",
            "  adding: data/pizza_steak_sushi_20_percent/train/pizza/2742044.jpg (deflated 1%)\n",
            "  adding: data/pizza_steak_sushi_20_percent/train/pizza/77677.jpg (deflated 0%)\n",
            "  adding: data/pizza_steak_sushi_20_percent/train/pizza/739735.jpg (deflated 2%)\n",
            "  adding: data/pizza_steak_sushi_20_percent/train/pizza/1654444.jpg (deflated 0%)\n",
            "  adding: data/pizza_steak_sushi_20_percent/train/pizza/2217956.jpg (deflated 0%)\n",
            "  adding: data/pizza_steak_sushi_20_percent/train/pizza/2793535.jpg (deflated 1%)\n",
            "  adding: data/pizza_steak_sushi_20_percent/train/pizza/929067.jpg (deflated 1%)\n",
            "  adding: data/pizza_steak_sushi_20_percent/train/pizza/228778.jpg (deflated 0%)\n",
            "  adding: data/pizza_steak_sushi_20_percent/train/pizza/220190.jpg (deflated 0%)\n",
            "  adding: data/pizza_steak_sushi_20_percent/train/pizza/1011404.jpg (deflated 14%)\n",
            "  adding: data/pizza_steak_sushi_20_percent/train/pizza/1412034.jpg (deflated 1%)\n",
            "  adding: data/pizza_steak_sushi_20_percent/train/pizza/2831983.jpg (deflated 1%)\n",
            "  adding: data/pizza_steak_sushi_20_percent/train/pizza/2821048.jpg (deflated 1%)\n",
            "  adding: data/pizza_steak_sushi_20_percent/train/pizza/2992084.jpg (deflated 0%)\n",
            "  adding: data/pizza_steak_sushi_20_percent/train/pizza/203831.jpg (deflated 1%)\n",
            "  adding: data/pizza_steak_sushi_20_percent/train/pizza/1572608.jpg (deflated 0%)\n",
            "  adding: data/pizza_steak_sushi_20_percent/train/pizza/765799.jpg (deflated 0%)\n",
            "  adding: data/pizza_steak_sushi_20_percent/train/pizza/741883.jpg (deflated 0%)\n",
            "  adding: data/pizza_steak_sushi_20_percent/train/pizza/393658.jpg (deflated 0%)\n",
            "  adding: data/pizza_steak_sushi_20_percent/train/pizza/2291093.jpg (deflated 0%)\n",
            "  adding: data/pizza_steak_sushi_20_percent/train/pizza/3109486.jpg (deflated 0%)\n",
            "  adding: data/pizza_steak_sushi_20_percent/train/steak/ (stored 0%)\n",
            "  adding: data/pizza_steak_sushi_20_percent/train/steak/1647351.jpg (deflated 1%)\n",
            "  adding: data/pizza_steak_sushi_20_percent/train/steak/165964.jpg (deflated 0%)\n",
            "  adding: data/pizza_steak_sushi_20_percent/train/steak/1621763.jpg (deflated 1%)\n",
            "  adding: data/pizza_steak_sushi_20_percent/train/steak/443210.jpg (deflated 0%)\n",
            "  adding: data/pizza_steak_sushi_20_percent/train/steak/146833.jpg (deflated 1%)\n",
            "  adding: data/pizza_steak_sushi_20_percent/train/steak/417368.jpg (deflated 0%)\n",
            "  adding: data/pizza_steak_sushi_20_percent/train/steak/1264154.jpg (deflated 1%)\n",
            "  adding: data/pizza_steak_sushi_20_percent/train/steak/40094.jpg (deflated 12%)\n",
            "  adding: data/pizza_steak_sushi_20_percent/train/steak/3857508.jpg (deflated 1%)\n",
            "  adding: data/pizza_steak_sushi_20_percent/train/steak/937133.jpg (deflated 0%)\n",
            "  adding: data/pizza_steak_sushi_20_percent/train/steak/1433912.jpg (deflated 1%)\n",
            "  adding: data/pizza_steak_sushi_20_percent/train/steak/388776.jpg (deflated 0%)\n",
            "  adding: data/pizza_steak_sushi_20_percent/train/steak/2716993.jpg (deflated 0%)\n",
            "  adding: data/pizza_steak_sushi_20_percent/train/steak/97656.jpg (deflated 13%)\n",
            "  adding: data/pizza_steak_sushi_20_percent/train/steak/2324994.jpg (deflated 0%)\n",
            "  adding: data/pizza_steak_sushi_20_percent/train/steak/3209173.jpg (deflated 0%)\n",
            "  adding: data/pizza_steak_sushi_20_percent/train/steak/3245622.jpg (deflated 0%)\n",
            "  adding: data/pizza_steak_sushi_20_percent/train/steak/3476564.jpg (deflated 1%)\n",
            "  adding: data/pizza_steak_sushi_20_percent/train/steak/165639.jpg (deflated 0%)\n",
            "  adding: data/pizza_steak_sushi_20_percent/train/steak/1212161.jpg (deflated 1%)\n",
            "  adding: data/pizza_steak_sushi_20_percent/train/steak/2400975.jpg (deflated 1%)\n",
            "  adding: data/pizza_steak_sushi_20_percent/train/steak/2222018.jpg (deflated 1%)\n",
            "  adding: data/pizza_steak_sushi_20_percent/train/steak/286219.jpg (deflated 1%)\n",
            "  adding: data/pizza_steak_sushi_20_percent/train/steak/3693649.jpg (deflated 0%)\n",
            "  adding: data/pizza_steak_sushi_20_percent/train/steak/1927984.jpg (deflated 1%)\n",
            "  adding: data/pizza_steak_sushi_20_percent/train/steak/3766099.jpg (deflated 0%)\n",
            "  adding: data/pizza_steak_sushi_20_percent/train/steak/225990.jpg (deflated 2%)\n",
            "  adding: data/pizza_steak_sushi_20_percent/train/steak/3074367.jpg (deflated 0%)\n",
            "  adding: data/pizza_steak_sushi_20_percent/train/steak/735441.jpg (deflated 0%)\n",
            "  adding: data/pizza_steak_sushi_20_percent/train/steak/3727491.jpg (deflated 1%)\n",
            "  adding: data/pizza_steak_sushi_20_percent/train/steak/2856066.jpg (deflated 0%)\n",
            "  adding: data/pizza_steak_sushi_20_percent/train/steak/2878151.jpg (deflated 1%)\n",
            "  adding: data/pizza_steak_sushi_20_percent/train/steak/2826987.jpg (deflated 0%)\n",
            "  adding: data/pizza_steak_sushi_20_percent/train/steak/355715.jpg (deflated 0%)\n",
            "  adding: data/pizza_steak_sushi_20_percent/train/steak/2748917.jpg (deflated 0%)\n",
            "  adding: data/pizza_steak_sushi_20_percent/train/steak/2238681.jpg (deflated 0%)\n",
            "  adding: data/pizza_steak_sushi_20_percent/train/steak/3142674.jpg (deflated 0%)\n",
            "  adding: data/pizza_steak_sushi_20_percent/train/steak/1839481.jpg (deflated 1%)\n",
            "  adding: data/pizza_steak_sushi_20_percent/train/steak/176508.jpg (deflated 0%)\n",
            "  adding: data/pizza_steak_sushi_20_percent/train/steak/214320.jpg (deflated 0%)\n",
            "  adding: data/pizza_steak_sushi_20_percent/train/steak/2603058.jpg (deflated 1%)\n",
            "  adding: data/pizza_steak_sushi_20_percent/train/steak/819027.jpg (deflated 1%)\n",
            "  adding: data/pizza_steak_sushi_20_percent/train/steak/588739.jpg (deflated 0%)\n",
            "  adding: data/pizza_steak_sushi_20_percent/train/steak/637374.jpg (deflated 0%)\n",
            "  adding: data/pizza_steak_sushi_20_percent/train/steak/100135.jpg (deflated 0%)\n",
            "  adding: data/pizza_steak_sushi_20_percent/train/steak/2825100.jpg (deflated 13%)\n",
            "  adding: data/pizza_steak_sushi_20_percent/train/steak/405173.jpg (deflated 0%)\n",
            "  adding: data/pizza_steak_sushi_20_percent/train/steak/1382427.jpg (deflated 1%)\n",
            "  adding: data/pizza_steak_sushi_20_percent/train/steak/2216146.jpg (deflated 5%)\n",
            "  adding: data/pizza_steak_sushi_20_percent/train/steak/482022.jpg (deflated 0%)\n",
            "  adding: data/pizza_steak_sushi_20_percent/train/steak/2136662.jpg (deflated 0%)\n",
            "  adding: data/pizza_steak_sushi_20_percent/train/steak/1787505.jpg (deflated 1%)\n",
            "  adding: data/pizza_steak_sushi_20_percent/train/steak/3113772.jpg (deflated 0%)\n",
            "  adding: data/pizza_steak_sushi_20_percent/train/steak/359330.jpg (deflated 0%)\n",
            "  adding: data/pizza_steak_sushi_20_percent/train/steak/3777482.jpg (deflated 1%)\n",
            "  adding: data/pizza_steak_sushi_20_percent/train/steak/3621464.jpg (deflated 1%)\n",
            "  adding: data/pizza_steak_sushi_20_percent/train/steak/141056.jpg (deflated 1%)\n",
            "  adding: data/pizza_steak_sushi_20_percent/train/steak/1624747.jpg (deflated 22%)\n",
            "  adding: data/pizza_steak_sushi_20_percent/train/steak/838344.jpg (deflated 0%)\n",
            "  adding: data/pizza_steak_sushi_20_percent/train/steak/332557.jpg (deflated 0%)\n",
            "  adding: data/pizza_steak_sushi_20_percent/train/steak/1752330.jpg (deflated 1%)\n",
            "  adding: data/pizza_steak_sushi_20_percent/train/steak/239025.jpg (deflated 0%)\n",
            "  adding: data/pizza_steak_sushi_20_percent/train/steak/2163079.jpg (deflated 2%)\n",
            "  adding: data/pizza_steak_sushi_20_percent/train/steak/3867460.jpg (deflated 0%)\n",
            "  adding: data/pizza_steak_sushi_20_percent/train/steak/2881783.jpg (deflated 1%)\n",
            "  adding: data/pizza_steak_sushi_20_percent/train/steak/3470083.jpg (deflated 1%)\n",
            "  adding: data/pizza_steak_sushi_20_percent/train/steak/1530833.jpg (deflated 1%)\n",
            "  adding: data/pizza_steak_sushi_20_percent/train/steak/1937872.jpg (deflated 1%)\n",
            "  adding: data/pizza_steak_sushi_20_percent/train/steak/2938151.jpg (deflated 1%)\n",
            "  adding: data/pizza_steak_sushi_20_percent/train/steak/1619357.jpg (deflated 1%)\n",
            "  adding: data/pizza_steak_sushi_20_percent/train/steak/3142045.jpg (deflated 0%)\n",
            "  adding: data/pizza_steak_sushi_20_percent/train/steak/3223400.jpg (deflated 1%)\n",
            "  adding: data/pizza_steak_sushi_20_percent/train/steak/2629750.jpg (deflated 1%)\n",
            "  adding: data/pizza_steak_sushi_20_percent/train/steak/2013535.jpg (deflated 1%)\n",
            "  adding: data/pizza_steak_sushi_20_percent/train/steak/1961025.jpg (deflated 0%)\n",
            "  adding: data/pizza_steak_sushi_20_percent/train/steak/2129685.jpg (deflated 1%)\n",
            "  adding: data/pizza_steak_sushi_20_percent/train/steak/1761285.jpg (deflated 30%)\n",
            "  adding: data/pizza_steak_sushi_20_percent/train/steak/980247.jpg (deflated 0%)\n",
            "  adding: data/pizza_steak_sushi_20_percent/train/steak/461689.jpg (deflated 1%)\n",
            "  adding: data/pizza_steak_sushi_20_percent/train/steak/3082120.jpg (deflated 0%)\n",
            "  adding: data/pizza_steak_sushi_20_percent/train/steak/681609.jpg (deflated 0%)\n",
            "  adding: data/pizza_steak_sushi_20_percent/train/steak/2910418.jpg (deflated 1%)\n",
            "  adding: data/pizza_steak_sushi_20_percent/train/steak/3465327.jpg (deflated 0%)\n",
            "  adding: data/pizza_steak_sushi_20_percent/train/steak/2254705.jpg (deflated 1%)\n",
            "  adding: data/pizza_steak_sushi_20_percent/train/steak/3601483.jpg (deflated 0%)\n",
            "  adding: data/pizza_steak_sushi_20_percent/train/steak/1362989.jpg (deflated 1%)\n",
            "  adding: data/pizza_steak_sushi_20_percent/train/steak/1945132.jpg (deflated 0%)\n",
            "  adding: data/pizza_steak_sushi_20_percent/train/steak/3727036.jpg (deflated 0%)\n",
            "  adding: data/pizza_steak_sushi_20_percent/train/steak/493029.jpg (deflated 0%)\n",
            "  adding: data/pizza_steak_sushi_20_percent/train/steak/3382936.jpg (deflated 1%)\n",
            "  adding: data/pizza_steak_sushi_20_percent/train/steak/560503.jpg (deflated 0%)\n",
            "  adding: data/pizza_steak_sushi_20_percent/train/steak/3130412.jpg (deflated 1%)\n",
            "  adding: data/pizza_steak_sushi_20_percent/train/steak/290850.jpg (deflated 0%)\n",
            "  adding: data/pizza_steak_sushi_20_percent/train/steak/1257104.jpg (deflated 14%)\n",
            "  adding: data/pizza_steak_sushi_20_percent/train/steak/2615718.jpg (deflated 1%)\n",
            "  adding: data/pizza_steak_sushi_20_percent/train/steak/922752.jpg (deflated 0%)\n",
            "  adding: data/pizza_steak_sushi_20_percent/train/steak/75537.jpg (deflated 1%)\n",
            "  adding: data/pizza_steak_sushi_20_percent/train/steak/2880035.jpg (deflated 0%)\n",
            "  adding: data/pizza_steak_sushi_20_percent/train/steak/2606444.jpg (deflated 56%)\n",
            "  adding: data/pizza_steak_sushi_20_percent/train/steak/421476.jpg (deflated 0%)\n",
            "  adding: data/pizza_steak_sushi_20_percent/train/steak/2966859.jpg (deflated 0%)\n",
            "  adding: data/pizza_steak_sushi_20_percent/train/steak/3136.jpg (deflated 2%)\n",
            "  adding: data/pizza_steak_sushi_20_percent/train/steak/2707522.jpg (deflated 1%)\n",
            "  adding: data/pizza_steak_sushi_20_percent/train/steak/1598345.jpg (deflated 28%)\n",
            "  adding: data/pizza_steak_sushi_20_percent/train/steak/2832960.jpg (deflated 1%)\n",
            "  adding: data/pizza_steak_sushi_20_percent/train/steak/914570.jpg (deflated 1%)\n",
            "  adding: data/pizza_steak_sushi_20_percent/train/steak/1049459.jpg (deflated 1%)\n",
            "  adding: data/pizza_steak_sushi_20_percent/train/steak/1736968.jpg (deflated 1%)\n",
            "  adding: data/pizza_steak_sushi_20_percent/train/steak/2017387.jpg (deflated 1%)\n",
            "  adding: data/pizza_steak_sushi_20_percent/train/steak/1976160.jpg (deflated 1%)\n",
            "  adding: data/pizza_steak_sushi_20_percent/train/steak/339891.jpg (deflated 14%)\n",
            "  adding: data/pizza_steak_sushi_20_percent/train/steak/2223787.jpg (deflated 9%)\n",
            "  adding: data/pizza_steak_sushi_20_percent/train/steak/2561199.jpg (deflated 1%)\n",
            "  adding: data/pizza_steak_sushi_20_percent/train/steak/285147.jpg (deflated 0%)\n",
            "  adding: data/pizza_steak_sushi_20_percent/train/steak/1849463.jpg (deflated 1%)\n",
            "  adding: data/pizza_steak_sushi_20_percent/train/steak/1816235.jpg (deflated 1%)\n",
            "  adding: data/pizza_steak_sushi_20_percent/train/steak/256592.jpg (deflated 11%)\n",
            "  adding: data/pizza_steak_sushi_20_percent/train/steak/1334054.jpg (deflated 0%)\n",
            "  adding: data/pizza_steak_sushi_20_percent/train/steak/231296.jpg (deflated 0%)\n",
            "  adding: data/pizza_steak_sushi_20_percent/train/steak/2648423.jpg (deflated 0%)\n",
            "  adding: data/pizza_steak_sushi_20_percent/train/steak/3518960.jpg (deflated 0%)\n",
            "  adding: data/pizza_steak_sushi_20_percent/train/steak/2404884.jpg (deflated 0%)\n",
            "  adding: data/pizza_steak_sushi_20_percent/train/steak/2628106.jpg (deflated 0%)\n",
            "  adding: data/pizza_steak_sushi_20_percent/train/steak/2788312.jpg (deflated 1%)\n",
            "  adding: data/pizza_steak_sushi_20_percent/train/steak/714298.jpg (deflated 0%)\n",
            "  adding: data/pizza_steak_sushi_20_percent/train/steak/827764.jpg (deflated 1%)\n",
            "  adding: data/pizza_steak_sushi_20_percent/train/steak/268444.jpg (deflated 0%)\n",
            "  adding: data/pizza_steak_sushi_20_percent/train/steak/167069.jpg (deflated 0%)\n",
            "  adding: data/pizza_steak_sushi_20_percent/train/steak/3807440.jpg (deflated 0%)\n",
            "  adding: data/pizza_steak_sushi_20_percent/train/steak/1826066.jpg (deflated 1%)\n",
            "  adding: data/pizza_steak_sushi_20_percent/train/steak/3577618.jpg (deflated 1%)\n",
            "  adding: data/pizza_steak_sushi_20_percent/train/steak/2403776.jpg (deflated 1%)\n",
            "  adding: data/pizza_steak_sushi_20_percent/train/steak/2287136.jpg (deflated 0%)\n",
            "  adding: data/pizza_steak_sushi_20_percent/train/steak/1413972.jpg (deflated 1%)\n",
            "  adding: data/pizza_steak_sushi_20_percent/train/steak/1225762.jpg (deflated 1%)\n",
            "  adding: data/pizza_steak_sushi_20_percent/train/steak/830007.jpg (deflated 56%)\n",
            "  adding: data/pizza_steak_sushi_20_percent/train/steak/1966300.jpg (deflated 0%)\n",
            "  adding: data/pizza_steak_sushi_20_percent/train/steak/2761427.jpg (deflated 1%)\n",
            "  adding: data/pizza_steak_sushi_20_percent/train/steak/393494.jpg (deflated 6%)\n",
            "  adding: data/pizza_steak_sushi_20_percent/train/steak/2159975.jpg (deflated 1%)\n",
            "  adding: data/pizza_steak_sushi_20_percent/train/steak/2538000.jpg (deflated 0%)\n",
            "  adding: data/pizza_steak_sushi_20_percent/train/steak/543691.jpg (deflated 13%)\n",
            "  adding: data/pizza_steak_sushi_20_percent/train/steak/2614189.jpg (deflated 1%)\n",
            "  adding: data/pizza_steak_sushi_20_percent/train/steak/2928643.jpg (deflated 0%)\n",
            "  adding: data/pizza_steak_sushi_20_percent/train/steak/440188.jpg (deflated 2%)\n",
            "  adding: data/pizza_steak_sushi_20_percent/train/steak/1615395.jpg (deflated 0%)\n",
            "  adding: demos/ (stored 0%)\n",
            "  adding: demos/foodvision_mini/ (stored 0%)\n",
            "  adding: demos/foodvision_mini/model.py (deflated 56%)\n",
            "  adding: demos/foodvision_mini/app.py (deflated 57%)\n",
            "  adding: demos/foodvision_mini/requirements.txt (deflated 4%)\n",
            "  adding: demos/foodvision_mini/examples/ (stored 0%)\n",
            "  adding: demos/foodvision_mini/examples/3622237.jpg (deflated 0%)\n",
            "  adding: demos/foodvision_mini/examples/592799.jpg (deflated 1%)\n",
            "  adding: demos/foodvision_mini/examples/2582289.jpg (deflated 17%)\n",
            "  adding: demos/foodvision_mini/09_pretrained_effnetb2_feature_extractor_pizza_steak_sushi_20_percent.pth (deflated 8%)\n",
            "  adding: flagged/ (stored 0%)\n",
            "  adding: going_modular/ (stored 0%)\n",
            "  adding: going_modular/going_modular/ (stored 0%)\n",
            "  adding: going_modular/going_modular/data_setup.py (deflated 66%)\n",
            "  adding: going_modular/going_modular/model_builder.py (deflated 67%)\n",
            "  adding: going_modular/going_modular/README.md (deflated 50%)\n",
            "  adding: going_modular/going_modular/utils.py (deflated 57%)\n",
            "  adding: going_modular/going_modular/train.py (deflated 57%)\n",
            "  adding: going_modular/going_modular/engine.py (deflated 74%)\n",
            "  adding: going_modular/going_modular/predictions.py (deflated 62%)\n",
            "  adding: going_modular/README.md (deflated 61%)\n",
            "  adding: going_modular/models/ (stored 0%)\n",
            "  adding: going_modular/models/05_going_modular_cell_mode_tinyvgg_model.pth (deflated 12%)\n",
            "  adding: going_modular/models/05_going_modular_script_mode_tinyvgg_model.pth (deflated 12%)\n",
            "  adding: helper_functions.py (deflated 65%)\n",
            "  adding: images/ (stored 0%)\n",
            "  adding: images/09-foodvision-mini-inference-speed-vs-performance.jpg (deflated 49%)\n",
            "  adding: models/ (stored 0%)\n",
            "  adding: models/09_pretrained_vit_feature_extractor_pizza_steak_sushi_20_percent.pth (deflated 7%)\n",
            "  adding: sample_data/ (stored 0%)\n",
            "  adding: sample_data/README.md (deflated 42%)\n",
            "  adding: sample_data/anscombe.json (deflated 83%)\n",
            "  adding: sample_data/california_housing_test.csv (deflated 76%)\n",
            "  adding: sample_data/mnist_test.csv (deflated 88%)\n",
            "  adding: sample_data/mnist_train_small.csv (deflated 88%)\n",
            "  adding: sample_data/california_housing_train.csv (deflated 79%)\n"
          ]
        }
      ]
    },
    {
      "cell_type": "code",
      "source": [
        "# Change into and then zip the foodvision_mini folder but exclude certain files\n",
        "!cd demos/foodvision_mini && zip -r ../foodvision_mini.zip * -x \"*.pyc\" \"*.ipynb\" \"*__pycache__*\" \"*ipynb_checkpoints*\"\n",
        "\n",
        "# Download the zipped FoodVision Mini app (if running in Google Colab)\n",
        "try:\n",
        "    from google.colab import files\n",
        "    files.download(\"demos/foodvision_mini.zip\")\n",
        "except:\n",
        "    print(\"Not running in Google Colab, can't use google.colab.files.download(), please manually download.\")"
      ],
      "metadata": {
        "colab": {
          "base_uri": "https://localhost:8080/",
          "height": 176
        },
        "id": "pNLeApgUPQzq",
        "outputId": "f390e713-2d41-441a-98c0-8b6f8993e095"
      },
      "execution_count": 70,
      "outputs": [
        {
          "output_type": "stream",
          "name": "stdout",
          "text": [
            "  adding: 09_pretrained_effnetb2_feature_extractor_pizza_steak_sushi_20_percent.pth (deflated 8%)\n",
            "  adding: app.py (deflated 57%)\n",
            "  adding: examples/ (stored 0%)\n",
            "  adding: examples/3622237.jpg (deflated 0%)\n",
            "  adding: examples/592799.jpg (deflated 1%)\n",
            "  adding: examples/2582289.jpg (deflated 17%)\n",
            "  adding: model.py (deflated 56%)\n",
            "  adding: requirements.txt (deflated 4%)\n"
          ]
        },
        {
          "output_type": "display_data",
          "data": {
            "text/plain": [
              "<IPython.core.display.Javascript object>"
            ],
            "application/javascript": [
              "\n",
              "    async function download(id, filename, size) {\n",
              "      if (!google.colab.kernel.accessAllowed) {\n",
              "        return;\n",
              "      }\n",
              "      const div = document.createElement('div');\n",
              "      const label = document.createElement('label');\n",
              "      label.textContent = `Downloading \"${filename}\": `;\n",
              "      div.appendChild(label);\n",
              "      const progress = document.createElement('progress');\n",
              "      progress.max = size;\n",
              "      div.appendChild(progress);\n",
              "      document.body.appendChild(div);\n",
              "\n",
              "      const buffers = [];\n",
              "      let downloaded = 0;\n",
              "\n",
              "      const channel = await google.colab.kernel.comms.open(id);\n",
              "      // Send a message to notify the kernel that we're ready.\n",
              "      channel.send({})\n",
              "\n",
              "      for await (const message of channel.messages) {\n",
              "        // Send a message to notify the kernel that we're ready.\n",
              "        channel.send({})\n",
              "        if (message.buffers) {\n",
              "          for (const buffer of message.buffers) {\n",
              "            buffers.push(buffer);\n",
              "            downloaded += buffer.byteLength;\n",
              "            progress.value = downloaded;\n",
              "          }\n",
              "        }\n",
              "      }\n",
              "      const blob = new Blob(buffers, {type: 'application/binary'});\n",
              "      const a = document.createElement('a');\n",
              "      a.href = window.URL.createObjectURL(blob);\n",
              "      a.download = filename;\n",
              "      div.appendChild(a);\n",
              "      a.click();\n",
              "      div.remove();\n",
              "    }\n",
              "  "
            ]
          },
          "metadata": {}
        },
        {
          "output_type": "display_data",
          "data": {
            "text/plain": [
              "<IPython.core.display.Javascript object>"
            ],
            "application/javascript": [
              "download(\"download_ca4c13b9-b90f-4a7f-97d3-4053b2a2dbdb\", \"foodvision_mini.zip\", 28977547)"
            ]
          },
          "metadata": {}
        }
      ]
    },
    {
      "cell_type": "code",
      "source": [
        "# IPython is a library to help make Python interactive\n",
        "from IPython.display import IFrame\n",
        "\n",
        "# Embed FoodVision Mini Gradio demo\n",
        "IFrame(src=\"https://hf.space/embed/deji01/foodvision_mini/+\", width=900, height=750)"
      ],
      "metadata": {
        "colab": {
          "base_uri": "https://localhost:8080/",
          "height": 791
        },
        "id": "fCHGyhXnQDvY",
        "outputId": "e177ec01-07d2-48b0-f3a5-3bf9cfda67d3"
      },
      "execution_count": 71,
      "outputs": [
        {
          "output_type": "execute_result",
          "data": {
            "text/plain": [
              "<IPython.lib.display.IFrame at 0x7f1a5c427520>"
            ],
            "text/html": [
              "\n",
              "        <iframe\n",
              "            width=\"900\"\n",
              "            height=\"750\"\n",
              "            src=\"https://hf.space/embed/deji01/foodvision_mini/+\"\n",
              "            frameborder=\"0\"\n",
              "            allowfullscreen\n",
              "        ></iframe>\n",
              "        "
            ]
          },
          "metadata": {},
          "execution_count": 71
        }
      ]
    }
  ]
}